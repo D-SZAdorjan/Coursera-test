{
  "nbformat": 4,
  "nbformat_minor": 0,
  "metadata": {
    "kernelspec": {
      "display_name": "Python 3",
      "language": "python",
      "name": "python3"
    },
    "language_info": {
      "codemirror_mode": {
        "name": "ipython",
        "version": 3
      },
      "file_extension": ".py",
      "mimetype": "text/x-python",
      "name": "python",
      "nbconvert_exporter": "python",
      "pygments_lexer": "ipython3",
      "version": "3.6.4"
    },
    "colab": {
      "name": "Copy of labor_Pandas.ipynb",
      "provenance": [],
      "include_colab_link": true
    }
  },
  "cells": [
    {
      "cell_type": "markdown",
      "metadata": {
        "id": "view-in-github",
        "colab_type": "text"
      },
      "source": [
        "<a href=\"https://colab.research.google.com/github/D-SZAdorjan/Coursera-test/blob/master/Copy_of_labor_Pandas.ipynb\" target=\"_parent\"><img src=\"https://colab.research.google.com/assets/colab-badge.svg\" alt=\"Open In Colab\"/></a>"
      ]
    },
    {
      "cell_type": "markdown",
      "metadata": {
        "id": "0fry44sT_rAb"
      },
      "source": [
        "# Pandas bevezető\n",
        "\n",
        "Angol nyelvű erőforrások:\n",
        "\n",
        "1. A hivatalos dokumentációhoz tartozó rövid bevezető: http://pandas.pydata.org/pandas-docs/stable/10min.html\n",
        "2. Részletesebb bevezető: https://www.learndatasci.com/tutorials/python-pandas-tutorial-complete-introduction-for-beginners/\n",
        "3. Brandon Rhodes előadása, Pycon 2015: https://www.youtube.com/watch?v=5JnMutdy6Fw"
      ]
    },
    {
      "cell_type": "markdown",
      "metadata": {
        "id": "5f8-NzaB_rAe"
      },
      "source": [
        "# Mi az a pandas?\n",
        "\n",
        "A pandas egy adatkezelő függvénykönyvtár, amit nagymértékben megkönnyiti az adatok kezelését, az adatbányászat [adattisztítás](https://hu.wikipedia.org/wiki/Adattiszt%C3%ADt%C3%A1s) és adatintegráció lépéseit. Az adatokat táblázatos formában kezeli. A táblázatoknak van fejlécük és indexük. Heterogén adatokat tárolhatunk: szöveges, számadat, igazságérték, dátum stb. Az adatok típusa egy oszlopon belül sem kell, hogy azonos legyen.\n",
        "\n",
        "A pandas remekül együttműködik a Python gépi tanuló könyvtárával (scikit-learn) és a legelterjedtebb vizualizációs könyvtárakkal (matplotlib, seaborn)."
      ]
    },
    {
      "cell_type": "code",
      "metadata": {
        "id": "faF_C-8X_rAf"
      },
      "source": [
        "import pandas as pd  # konvenció szerint pd aliast szoktunk használni\n",
        "%matplotlib inline\n",
        "import matplotlib\n",
        "import numpy as np\n",
        "\n",
        "# tegyük szebbé a grafikonokat\n",
        "matplotlib.style.use('ggplot')\n",
        "matplotlib.pyplot.rcParams['figure.figsize'] = (15, 3)\n",
        "matplotlib.pyplot.rcParams['font.family'] = 'sans-serif'"
      ],
      "execution_count": 106,
      "outputs": []
    },
    {
      "cell_type": "code",
      "metadata": {
        "id": "_w9yFOdX_rAj",
        "colab": {
          "base_uri": "https://localhost:8080/",
          "height": 256
        },
        "outputId": "cc717fe7-1c8b-46fd-f52f-bab55b915a3f"
      },
      "source": [
        "grades = pd.DataFrame(\n",
        "    {\n",
        "        'subject': ['analízis 1', 'digitális technika 1', \n",
        "                    'fizika 1', 'mikmak', 'programozás alapjai 1', 'szoftvertechonológia',\n",
        "                   'bevezetés a számításelméletbe 1'],\n",
        "        'grade': [3, 4, 3, 2, 5, 1, 4],\n",
        "        'teacher': ['a', 'b', 'a', 'c', 'd', 'd', 'd'],\n",
        "        'semester': [1, 1, 2, 2, 1, 3, 1],\n",
        "    }\n",
        ")\n",
        "grades"
      ],
      "execution_count": 107,
      "outputs": [
        {
          "output_type": "execute_result",
          "data": {
            "text/html": [
              "<div>\n",
              "<style scoped>\n",
              "    .dataframe tbody tr th:only-of-type {\n",
              "        vertical-align: middle;\n",
              "    }\n",
              "\n",
              "    .dataframe tbody tr th {\n",
              "        vertical-align: top;\n",
              "    }\n",
              "\n",
              "    .dataframe thead th {\n",
              "        text-align: right;\n",
              "    }\n",
              "</style>\n",
              "<table border=\"1\" class=\"dataframe\">\n",
              "  <thead>\n",
              "    <tr style=\"text-align: right;\">\n",
              "      <th></th>\n",
              "      <th>subject</th>\n",
              "      <th>grade</th>\n",
              "      <th>teacher</th>\n",
              "      <th>semester</th>\n",
              "    </tr>\n",
              "  </thead>\n",
              "  <tbody>\n",
              "    <tr>\n",
              "      <th>0</th>\n",
              "      <td>analízis 1</td>\n",
              "      <td>3</td>\n",
              "      <td>a</td>\n",
              "      <td>1</td>\n",
              "    </tr>\n",
              "    <tr>\n",
              "      <th>1</th>\n",
              "      <td>digitális technika 1</td>\n",
              "      <td>4</td>\n",
              "      <td>b</td>\n",
              "      <td>1</td>\n",
              "    </tr>\n",
              "    <tr>\n",
              "      <th>2</th>\n",
              "      <td>fizika 1</td>\n",
              "      <td>3</td>\n",
              "      <td>a</td>\n",
              "      <td>2</td>\n",
              "    </tr>\n",
              "    <tr>\n",
              "      <th>3</th>\n",
              "      <td>mikmak</td>\n",
              "      <td>2</td>\n",
              "      <td>c</td>\n",
              "      <td>2</td>\n",
              "    </tr>\n",
              "    <tr>\n",
              "      <th>4</th>\n",
              "      <td>programozás alapjai 1</td>\n",
              "      <td>5</td>\n",
              "      <td>d</td>\n",
              "      <td>1</td>\n",
              "    </tr>\n",
              "    <tr>\n",
              "      <th>5</th>\n",
              "      <td>szoftvertechonológia</td>\n",
              "      <td>1</td>\n",
              "      <td>d</td>\n",
              "      <td>3</td>\n",
              "    </tr>\n",
              "    <tr>\n",
              "      <th>6</th>\n",
              "      <td>bevezetés a számításelméletbe 1</td>\n",
              "      <td>4</td>\n",
              "      <td>d</td>\n",
              "      <td>1</td>\n",
              "    </tr>\n",
              "  </tbody>\n",
              "</table>\n",
              "</div>"
            ],
            "text/plain": [
              "                           subject  grade teacher  semester\n",
              "0                       analízis 1      3       a         1\n",
              "1             digitális technika 1      4       b         1\n",
              "2                         fizika 1      3       a         2\n",
              "3                           mikmak      2       c         2\n",
              "4            programozás alapjai 1      5       d         1\n",
              "5             szoftvertechonológia      1       d         3\n",
              "6  bevezetés a számításelméletbe 1      4       d         1"
            ]
          },
          "metadata": {
            "tags": []
          },
          "execution_count": 107
        }
      ]
    },
    {
      "cell_type": "markdown",
      "metadata": {
        "id": "_igsrOk9_rAm"
      },
      "source": [
        "A DataFrame elejét a .head függvénnyel, a végét a .tail-lel nézhetjük meg. Ennek akkor van jelentősége, ha nagy táblázatokkal dolgozunk."
      ]
    },
    {
      "cell_type": "code",
      "metadata": {
        "id": "WaXod5mR_rAn",
        "colab": {
          "base_uri": "https://localhost:8080/",
          "height": 196
        },
        "outputId": "6c8403cb-fef9-4bf4-d1f1-041e35c61516"
      },
      "source": [
        "grades.head()"
      ],
      "execution_count": 108,
      "outputs": [
        {
          "output_type": "execute_result",
          "data": {
            "text/html": [
              "<div>\n",
              "<style scoped>\n",
              "    .dataframe tbody tr th:only-of-type {\n",
              "        vertical-align: middle;\n",
              "    }\n",
              "\n",
              "    .dataframe tbody tr th {\n",
              "        vertical-align: top;\n",
              "    }\n",
              "\n",
              "    .dataframe thead th {\n",
              "        text-align: right;\n",
              "    }\n",
              "</style>\n",
              "<table border=\"1\" class=\"dataframe\">\n",
              "  <thead>\n",
              "    <tr style=\"text-align: right;\">\n",
              "      <th></th>\n",
              "      <th>subject</th>\n",
              "      <th>grade</th>\n",
              "      <th>teacher</th>\n",
              "      <th>semester</th>\n",
              "    </tr>\n",
              "  </thead>\n",
              "  <tbody>\n",
              "    <tr>\n",
              "      <th>0</th>\n",
              "      <td>analízis 1</td>\n",
              "      <td>3</td>\n",
              "      <td>a</td>\n",
              "      <td>1</td>\n",
              "    </tr>\n",
              "    <tr>\n",
              "      <th>1</th>\n",
              "      <td>digitális technika 1</td>\n",
              "      <td>4</td>\n",
              "      <td>b</td>\n",
              "      <td>1</td>\n",
              "    </tr>\n",
              "    <tr>\n",
              "      <th>2</th>\n",
              "      <td>fizika 1</td>\n",
              "      <td>3</td>\n",
              "      <td>a</td>\n",
              "      <td>2</td>\n",
              "    </tr>\n",
              "    <tr>\n",
              "      <th>3</th>\n",
              "      <td>mikmak</td>\n",
              "      <td>2</td>\n",
              "      <td>c</td>\n",
              "      <td>2</td>\n",
              "    </tr>\n",
              "    <tr>\n",
              "      <th>4</th>\n",
              "      <td>programozás alapjai 1</td>\n",
              "      <td>5</td>\n",
              "      <td>d</td>\n",
              "      <td>1</td>\n",
              "    </tr>\n",
              "  </tbody>\n",
              "</table>\n",
              "</div>"
            ],
            "text/plain": [
              "                 subject  grade teacher  semester\n",
              "0             analízis 1      3       a         1\n",
              "1   digitális technika 1      4       b         1\n",
              "2               fizika 1      3       a         2\n",
              "3                 mikmak      2       c         2\n",
              "4  programozás alapjai 1      5       d         1"
            ]
          },
          "metadata": {
            "tags": []
          },
          "execution_count": 108
        }
      ]
    },
    {
      "cell_type": "markdown",
      "metadata": {
        "id": "poBHI5D__rAq"
      },
      "source": [
        "Alapértelmezetten 5 sort ír ki, de megadhatjuk paraméterként pontosan hány sort szeretnénk látni."
      ]
    },
    {
      "cell_type": "code",
      "metadata": {
        "id": "5EIudqcN_rAq",
        "colab": {
          "base_uri": "https://localhost:8080/",
          "height": 107
        },
        "outputId": "64f9b59a-c855-439c-a29f-ef0b0e449069"
      },
      "source": [
        "grades.tail(2)"
      ],
      "execution_count": 109,
      "outputs": [
        {
          "output_type": "execute_result",
          "data": {
            "text/html": [
              "<div>\n",
              "<style scoped>\n",
              "    .dataframe tbody tr th:only-of-type {\n",
              "        vertical-align: middle;\n",
              "    }\n",
              "\n",
              "    .dataframe tbody tr th {\n",
              "        vertical-align: top;\n",
              "    }\n",
              "\n",
              "    .dataframe thead th {\n",
              "        text-align: right;\n",
              "    }\n",
              "</style>\n",
              "<table border=\"1\" class=\"dataframe\">\n",
              "  <thead>\n",
              "    <tr style=\"text-align: right;\">\n",
              "      <th></th>\n",
              "      <th>subject</th>\n",
              "      <th>grade</th>\n",
              "      <th>teacher</th>\n",
              "      <th>semester</th>\n",
              "    </tr>\n",
              "  </thead>\n",
              "  <tbody>\n",
              "    <tr>\n",
              "      <th>5</th>\n",
              "      <td>szoftvertechonológia</td>\n",
              "      <td>1</td>\n",
              "      <td>d</td>\n",
              "      <td>3</td>\n",
              "    </tr>\n",
              "    <tr>\n",
              "      <th>6</th>\n",
              "      <td>bevezetés a számításelméletbe 1</td>\n",
              "      <td>4</td>\n",
              "      <td>d</td>\n",
              "      <td>1</td>\n",
              "    </tr>\n",
              "  </tbody>\n",
              "</table>\n",
              "</div>"
            ],
            "text/plain": [
              "                           subject  grade teacher  semester\n",
              "5             szoftvertechonológia      1       d         3\n",
              "6  bevezetés a számításelméletbe 1      4       d         1"
            ]
          },
          "metadata": {
            "tags": []
          },
          "execution_count": 109
        }
      ]
    },
    {
      "cell_type": "markdown",
      "metadata": {
        "id": "C0qUdubZ_rAt"
      },
      "source": [
        "# Egyszerű navigálás a DataFrame-ben"
      ]
    },
    {
      "cell_type": "markdown",
      "metadata": {
        "id": "fVFf_YLs_rAu"
      },
      "source": [
        "Fontos megemlíteni, hogy minden művelet egy új DataFrame-mel tér vissza, beleértve a `head` és a `tail` függvényeket is, azonban ezek az új DataFrame-ek nem tényleges másolatok, hanem csak ún. slice-ok az eredetiből. A `copy` függénnyel tudunk másolatot készíteni.\n",
        "\n",
        "A táblázat első oszlopa kitüntetett, ez a DataFrame indexe, ezzel tudjuk azonosítani a sorokat. Ugyan nem követelmény, hogy unikus legyen, de praktikus unikusra választani. Egynél több oszlopot is használhatunk indexként (multiindex)."
      ]
    },
    {
      "cell_type": "markdown",
      "metadata": {
        "id": "jh-Ssq96_rAv"
      },
      "source": [
        "## Oszlopok kiválasztása\n",
        "\n",
        "Lekérhetünk csak bizonyos oszlopokat, ekkor egy új DataFrame-et kapunk, ami a választott oszlopokat tartalmazza csak. Egy oszlopot a szögletes zárójelekkel tudunk indexelni."
      ]
    },
    {
      "cell_type": "code",
      "metadata": {
        "id": "VmCOfBby_rAw",
        "colab": {
          "base_uri": "https://localhost:8080/"
        },
        "outputId": "c4bc386c-014f-4796-b53a-61435bcd10e4"
      },
      "source": [
        "grades['semester']"
      ],
      "execution_count": 110,
      "outputs": [
        {
          "output_type": "execute_result",
          "data": {
            "text/plain": [
              "0    1\n",
              "1    1\n",
              "2    2\n",
              "3    2\n",
              "4    1\n",
              "5    3\n",
              "6    1\n",
              "Name: semester, dtype: int64"
            ]
          },
          "metadata": {
            "tags": []
          },
          "execution_count": 110
        }
      ]
    },
    {
      "cell_type": "markdown",
      "metadata": {
        "id": "yee-WeDp_rAy"
      },
      "source": [
        "Amennyiben az oszlop neve nem tartalmaz szóközöket, attribútumként is elérjük."
      ]
    },
    {
      "cell_type": "code",
      "metadata": {
        "id": "t_6XEK9Z_rAz",
        "colab": {
          "base_uri": "https://localhost:8080/"
        },
        "outputId": "cb4a9472-afda-484d-ecc2-c3b5cfe5dfb6"
      },
      "source": [
        "grades.subject"
      ],
      "execution_count": 111,
      "outputs": [
        {
          "output_type": "execute_result",
          "data": {
            "text/plain": [
              "0                         analízis 1\n",
              "1               digitális technika 1\n",
              "2                           fizika 1\n",
              "3                             mikmak\n",
              "4              programozás alapjai 1\n",
              "5               szoftvertechonológia\n",
              "6    bevezetés a számításelméletbe 1\n",
              "Name: subject, dtype: object"
            ]
          },
          "metadata": {
            "tags": []
          },
          "execution_count": 111
        }
      ]
    },
    {
      "cell_type": "markdown",
      "metadata": {
        "id": "FdfnNWRf_rA1"
      },
      "source": [
        "A kapott eredmény nem tűnik táblázatnak és valóban más típusú"
      ]
    },
    {
      "cell_type": "code",
      "metadata": {
        "id": "OqQGnoG4_rA2",
        "colab": {
          "base_uri": "https://localhost:8080/"
        },
        "outputId": "8d5d76fc-2161-4781-ce49-be5366947a3c"
      },
      "source": [
        "type(grades.teacher)"
      ],
      "execution_count": 112,
      "outputs": [
        {
          "output_type": "execute_result",
          "data": {
            "text/plain": [
              "pandas.core.series.Series"
            ]
          },
          "metadata": {
            "tags": []
          },
          "execution_count": 112
        }
      ]
    },
    {
      "cell_type": "markdown",
      "metadata": {
        "id": "jwoXXPcF_rA6"
      },
      "source": [
        "Amikor a dimenziók száma egyre csökken, `Series` objektumot kapunk vissza."
      ]
    },
    {
      "cell_type": "markdown",
      "metadata": {
        "id": "t8BoAwBF_rA7"
      },
      "source": [
        "Egynél több oszlop kiválasztásánál dupla zárójelet kell használni."
      ]
    },
    {
      "cell_type": "code",
      "metadata": {
        "id": "bkeNtBtI_rA7",
        "colab": {
          "base_uri": "https://localhost:8080/",
          "height": 256
        },
        "outputId": "e95416ca-0468-46f4-d44a-15886fcf7170"
      },
      "source": [
        "grades[['subject', 'grade']]"
      ],
      "execution_count": 113,
      "outputs": [
        {
          "output_type": "execute_result",
          "data": {
            "text/html": [
              "<div>\n",
              "<style scoped>\n",
              "    .dataframe tbody tr th:only-of-type {\n",
              "        vertical-align: middle;\n",
              "    }\n",
              "\n",
              "    .dataframe tbody tr th {\n",
              "        vertical-align: top;\n",
              "    }\n",
              "\n",
              "    .dataframe thead th {\n",
              "        text-align: right;\n",
              "    }\n",
              "</style>\n",
              "<table border=\"1\" class=\"dataframe\">\n",
              "  <thead>\n",
              "    <tr style=\"text-align: right;\">\n",
              "      <th></th>\n",
              "      <th>subject</th>\n",
              "      <th>grade</th>\n",
              "    </tr>\n",
              "  </thead>\n",
              "  <tbody>\n",
              "    <tr>\n",
              "      <th>0</th>\n",
              "      <td>analízis 1</td>\n",
              "      <td>3</td>\n",
              "    </tr>\n",
              "    <tr>\n",
              "      <th>1</th>\n",
              "      <td>digitális technika 1</td>\n",
              "      <td>4</td>\n",
              "    </tr>\n",
              "    <tr>\n",
              "      <th>2</th>\n",
              "      <td>fizika 1</td>\n",
              "      <td>3</td>\n",
              "    </tr>\n",
              "    <tr>\n",
              "      <th>3</th>\n",
              "      <td>mikmak</td>\n",
              "      <td>2</td>\n",
              "    </tr>\n",
              "    <tr>\n",
              "      <th>4</th>\n",
              "      <td>programozás alapjai 1</td>\n",
              "      <td>5</td>\n",
              "    </tr>\n",
              "    <tr>\n",
              "      <th>5</th>\n",
              "      <td>szoftvertechonológia</td>\n",
              "      <td>1</td>\n",
              "    </tr>\n",
              "    <tr>\n",
              "      <th>6</th>\n",
              "      <td>bevezetés a számításelméletbe 1</td>\n",
              "      <td>4</td>\n",
              "    </tr>\n",
              "  </tbody>\n",
              "</table>\n",
              "</div>"
            ],
            "text/plain": [
              "                           subject  grade\n",
              "0                       analízis 1      3\n",
              "1             digitális technika 1      4\n",
              "2                         fizika 1      3\n",
              "3                           mikmak      2\n",
              "4            programozás alapjai 1      5\n",
              "5             szoftvertechonológia      1\n",
              "6  bevezetés a számításelméletbe 1      4"
            ]
          },
          "metadata": {
            "tags": []
          },
          "execution_count": 113
        }
      ]
    },
    {
      "cell_type": "markdown",
      "metadata": {
        "id": "04Xhx-Zx_rA-"
      },
      "source": [
        "Valójában az `[]` operátor indexének típusa alapján dől el, hogy milyen típust kapunk vissza.\n",
        "Egy oszlopból is készíthethünk `DataFrame`-et `Series` helyett, ha listaként kérdezzük le:"
      ]
    },
    {
      "cell_type": "code",
      "metadata": {
        "id": "Eb3Z8W6P_rA-",
        "colab": {
          "base_uri": "https://localhost:8080/",
          "height": 273
        },
        "outputId": "be11f2a0-11d0-4a74-deac-ab0a26f52614"
      },
      "source": [
        "print(type(grades[['grade']]))\n",
        "grades[['grade']]"
      ],
      "execution_count": 114,
      "outputs": [
        {
          "output_type": "stream",
          "text": [
            "<class 'pandas.core.frame.DataFrame'>\n"
          ],
          "name": "stdout"
        },
        {
          "output_type": "execute_result",
          "data": {
            "text/html": [
              "<div>\n",
              "<style scoped>\n",
              "    .dataframe tbody tr th:only-of-type {\n",
              "        vertical-align: middle;\n",
              "    }\n",
              "\n",
              "    .dataframe tbody tr th {\n",
              "        vertical-align: top;\n",
              "    }\n",
              "\n",
              "    .dataframe thead th {\n",
              "        text-align: right;\n",
              "    }\n",
              "</style>\n",
              "<table border=\"1\" class=\"dataframe\">\n",
              "  <thead>\n",
              "    <tr style=\"text-align: right;\">\n",
              "      <th></th>\n",
              "      <th>grade</th>\n",
              "    </tr>\n",
              "  </thead>\n",
              "  <tbody>\n",
              "    <tr>\n",
              "      <th>0</th>\n",
              "      <td>3</td>\n",
              "    </tr>\n",
              "    <tr>\n",
              "      <th>1</th>\n",
              "      <td>4</td>\n",
              "    </tr>\n",
              "    <tr>\n",
              "      <th>2</th>\n",
              "      <td>3</td>\n",
              "    </tr>\n",
              "    <tr>\n",
              "      <th>3</th>\n",
              "      <td>2</td>\n",
              "    </tr>\n",
              "    <tr>\n",
              "      <th>4</th>\n",
              "      <td>5</td>\n",
              "    </tr>\n",
              "    <tr>\n",
              "      <th>5</th>\n",
              "      <td>1</td>\n",
              "    </tr>\n",
              "    <tr>\n",
              "      <th>6</th>\n",
              "      <td>4</td>\n",
              "    </tr>\n",
              "  </tbody>\n",
              "</table>\n",
              "</div>"
            ],
            "text/plain": [
              "   grade\n",
              "0      3\n",
              "1      4\n",
              "2      3\n",
              "3      2\n",
              "4      5\n",
              "5      1\n",
              "6      4"
            ]
          },
          "metadata": {
            "tags": []
          },
          "execution_count": 114
        }
      ]
    },
    {
      "cell_type": "markdown",
      "metadata": {
        "id": "x--7QoTY_rBB"
      },
      "source": [
        "## Sorok kiválasztása\n",
        "\n",
        "A sorokat többféleképpen indexelhetjük:\n",
        "1. index szerint\n",
        "2. sorszám szerint\n",
        "\n",
        "Mielőtt index szerint kérdeznénk le egy sort, állítsuk át az indexet valami beszédesebbre."
      ]
    },
    {
      "cell_type": "code",
      "metadata": {
        "id": "D5_rcx-n_rBB",
        "colab": {
          "base_uri": "https://localhost:8080/",
          "height": 286
        },
        "outputId": "58937bc3-2978-49b8-a33b-d97a95f487d6"
      },
      "source": [
        "grades = grades.set_index('subject')\n",
        "grades"
      ],
      "execution_count": 115,
      "outputs": [
        {
          "output_type": "execute_result",
          "data": {
            "text/html": [
              "<div>\n",
              "<style scoped>\n",
              "    .dataframe tbody tr th:only-of-type {\n",
              "        vertical-align: middle;\n",
              "    }\n",
              "\n",
              "    .dataframe tbody tr th {\n",
              "        vertical-align: top;\n",
              "    }\n",
              "\n",
              "    .dataframe thead th {\n",
              "        text-align: right;\n",
              "    }\n",
              "</style>\n",
              "<table border=\"1\" class=\"dataframe\">\n",
              "  <thead>\n",
              "    <tr style=\"text-align: right;\">\n",
              "      <th></th>\n",
              "      <th>grade</th>\n",
              "      <th>teacher</th>\n",
              "      <th>semester</th>\n",
              "    </tr>\n",
              "    <tr>\n",
              "      <th>subject</th>\n",
              "      <th></th>\n",
              "      <th></th>\n",
              "      <th></th>\n",
              "    </tr>\n",
              "  </thead>\n",
              "  <tbody>\n",
              "    <tr>\n",
              "      <th>analízis 1</th>\n",
              "      <td>3</td>\n",
              "      <td>a</td>\n",
              "      <td>1</td>\n",
              "    </tr>\n",
              "    <tr>\n",
              "      <th>digitális technika 1</th>\n",
              "      <td>4</td>\n",
              "      <td>b</td>\n",
              "      <td>1</td>\n",
              "    </tr>\n",
              "    <tr>\n",
              "      <th>fizika 1</th>\n",
              "      <td>3</td>\n",
              "      <td>a</td>\n",
              "      <td>2</td>\n",
              "    </tr>\n",
              "    <tr>\n",
              "      <th>mikmak</th>\n",
              "      <td>2</td>\n",
              "      <td>c</td>\n",
              "      <td>2</td>\n",
              "    </tr>\n",
              "    <tr>\n",
              "      <th>programozás alapjai 1</th>\n",
              "      <td>5</td>\n",
              "      <td>d</td>\n",
              "      <td>1</td>\n",
              "    </tr>\n",
              "    <tr>\n",
              "      <th>szoftvertechonológia</th>\n",
              "      <td>1</td>\n",
              "      <td>d</td>\n",
              "      <td>3</td>\n",
              "    </tr>\n",
              "    <tr>\n",
              "      <th>bevezetés a számításelméletbe 1</th>\n",
              "      <td>4</td>\n",
              "      <td>d</td>\n",
              "      <td>1</td>\n",
              "    </tr>\n",
              "  </tbody>\n",
              "</table>\n",
              "</div>"
            ],
            "text/plain": [
              "                                 grade teacher  semester\n",
              "subject                                                 \n",
              "analízis 1                           3       a         1\n",
              "digitális technika 1                 4       b         1\n",
              "fizika 1                             3       a         2\n",
              "mikmak                               2       c         2\n",
              "programozás alapjai 1                5       d         1\n",
              "szoftvertechonológia                 1       d         3\n",
              "bevezetés a számításelméletbe 1      4       d         1"
            ]
          },
          "metadata": {
            "tags": []
          },
          "execution_count": 115
        }
      ]
    },
    {
      "cell_type": "code",
      "metadata": {
        "id": "RtymqEYJ_rBD",
        "colab": {
          "base_uri": "https://localhost:8080/"
        },
        "outputId": "f08f6c55-6810-4972-8c46-3ace2f90c918"
      },
      "source": [
        "grades.loc['fizika 1']  # a loc után [] kell!"
      ],
      "execution_count": 116,
      "outputs": [
        {
          "output_type": "execute_result",
          "data": {
            "text/plain": [
              "grade       3\n",
              "teacher     a\n",
              "semester    2\n",
              "Name: fizika 1, dtype: object"
            ]
          },
          "metadata": {
            "tags": []
          },
          "execution_count": 116
        }
      ]
    },
    {
      "cell_type": "markdown",
      "metadata": {
        "id": "r2ok0ELk_rBG"
      },
      "source": [
        "Mivel egyetlen sort kértünk, megint `Series` objektumot kapunk."
      ]
    },
    {
      "cell_type": "code",
      "metadata": {
        "id": "tcn5QG9k_rBH",
        "colab": {
          "base_uri": "https://localhost:8080/"
        },
        "outputId": "b2f49625-f82f-4f34-b511-bae28308a99a"
      },
      "source": [
        "type(grades.loc['fizika 1'])"
      ],
      "execution_count": 117,
      "outputs": [
        {
          "output_type": "execute_result",
          "data": {
            "text/plain": [
              "pandas.core.series.Series"
            ]
          },
          "metadata": {
            "tags": []
          },
          "execution_count": 117
        }
      ]
    },
    {
      "cell_type": "markdown",
      "metadata": {
        "id": "9aNVJUDu_rBJ"
      },
      "source": [
        "A Series egy egydimenziós adatsor, gondolhatunk rá úgy, mint a DataFrame egy sorára."
      ]
    },
    {
      "cell_type": "markdown",
      "metadata": {
        "id": "Uzbp23DT_rBK"
      },
      "source": [
        "## Indexelés sor szerint"
      ]
    },
    {
      "cell_type": "code",
      "metadata": {
        "id": "ZUDKBTge_rBK",
        "colab": {
          "base_uri": "https://localhost:8080/",
          "height": 0
        },
        "outputId": "ff019fef-7885-4cb2-eb7c-fe157f93921b"
      },
      "source": [
        "grades.iloc[1:3]  # utolsó index nincs benne, [1, 3)"
      ],
      "execution_count": 118,
      "outputs": [
        {
          "output_type": "execute_result",
          "data": {
            "text/html": [
              "<div>\n",
              "<style scoped>\n",
              "    .dataframe tbody tr th:only-of-type {\n",
              "        vertical-align: middle;\n",
              "    }\n",
              "\n",
              "    .dataframe tbody tr th {\n",
              "        vertical-align: top;\n",
              "    }\n",
              "\n",
              "    .dataframe thead th {\n",
              "        text-align: right;\n",
              "    }\n",
              "</style>\n",
              "<table border=\"1\" class=\"dataframe\">\n",
              "  <thead>\n",
              "    <tr style=\"text-align: right;\">\n",
              "      <th></th>\n",
              "      <th>grade</th>\n",
              "      <th>teacher</th>\n",
              "      <th>semester</th>\n",
              "    </tr>\n",
              "    <tr>\n",
              "      <th>subject</th>\n",
              "      <th></th>\n",
              "      <th></th>\n",
              "      <th></th>\n",
              "    </tr>\n",
              "  </thead>\n",
              "  <tbody>\n",
              "    <tr>\n",
              "      <th>digitális technika 1</th>\n",
              "      <td>4</td>\n",
              "      <td>b</td>\n",
              "      <td>1</td>\n",
              "    </tr>\n",
              "    <tr>\n",
              "      <th>fizika 1</th>\n",
              "      <td>3</td>\n",
              "      <td>a</td>\n",
              "      <td>2</td>\n",
              "    </tr>\n",
              "  </tbody>\n",
              "</table>\n",
              "</div>"
            ],
            "text/plain": [
              "                      grade teacher  semester\n",
              "subject                                      \n",
              "digitális technika 1      4       b         1\n",
              "fizika 1                  3       a         2"
            ]
          },
          "metadata": {
            "tags": []
          },
          "execution_count": 118
        }
      ]
    },
    {
      "cell_type": "markdown",
      "metadata": {
        "id": "xpgEmtmP_rBM"
      },
      "source": [
        "### Oszlopok kiválasztása az `iloc` segítségével"
      ]
    },
    {
      "cell_type": "code",
      "metadata": {
        "id": "CXD2uiNG_rBN",
        "colab": {
          "base_uri": "https://localhost:8080/",
          "height": 0
        },
        "outputId": "d1beb84b-d4f9-4d6f-fa0c-4c532a40507c"
      },
      "source": [
        "grades.iloc[:, [0, 2]]"
      ],
      "execution_count": 119,
      "outputs": [
        {
          "output_type": "execute_result",
          "data": {
            "text/html": [
              "<div>\n",
              "<style scoped>\n",
              "    .dataframe tbody tr th:only-of-type {\n",
              "        vertical-align: middle;\n",
              "    }\n",
              "\n",
              "    .dataframe tbody tr th {\n",
              "        vertical-align: top;\n",
              "    }\n",
              "\n",
              "    .dataframe thead th {\n",
              "        text-align: right;\n",
              "    }\n",
              "</style>\n",
              "<table border=\"1\" class=\"dataframe\">\n",
              "  <thead>\n",
              "    <tr style=\"text-align: right;\">\n",
              "      <th></th>\n",
              "      <th>grade</th>\n",
              "      <th>semester</th>\n",
              "    </tr>\n",
              "    <tr>\n",
              "      <th>subject</th>\n",
              "      <th></th>\n",
              "      <th></th>\n",
              "    </tr>\n",
              "  </thead>\n",
              "  <tbody>\n",
              "    <tr>\n",
              "      <th>analízis 1</th>\n",
              "      <td>3</td>\n",
              "      <td>1</td>\n",
              "    </tr>\n",
              "    <tr>\n",
              "      <th>digitális technika 1</th>\n",
              "      <td>4</td>\n",
              "      <td>1</td>\n",
              "    </tr>\n",
              "    <tr>\n",
              "      <th>fizika 1</th>\n",
              "      <td>3</td>\n",
              "      <td>2</td>\n",
              "    </tr>\n",
              "    <tr>\n",
              "      <th>mikmak</th>\n",
              "      <td>2</td>\n",
              "      <td>2</td>\n",
              "    </tr>\n",
              "    <tr>\n",
              "      <th>programozás alapjai 1</th>\n",
              "      <td>5</td>\n",
              "      <td>1</td>\n",
              "    </tr>\n",
              "    <tr>\n",
              "      <th>szoftvertechonológia</th>\n",
              "      <td>1</td>\n",
              "      <td>3</td>\n",
              "    </tr>\n",
              "    <tr>\n",
              "      <th>bevezetés a számításelméletbe 1</th>\n",
              "      <td>4</td>\n",
              "      <td>1</td>\n",
              "    </tr>\n",
              "  </tbody>\n",
              "</table>\n",
              "</div>"
            ],
            "text/plain": [
              "                                 grade  semester\n",
              "subject                                         \n",
              "analízis 1                           3         1\n",
              "digitális technika 1                 4         1\n",
              "fizika 1                             3         2\n",
              "mikmak                               2         2\n",
              "programozás alapjai 1                5         1\n",
              "szoftvertechonológia                 1         3\n",
              "bevezetés a számításelméletbe 1      4         1"
            ]
          },
          "metadata": {
            "tags": []
          },
          "execution_count": 119
        }
      ]
    },
    {
      "cell_type": "code",
      "metadata": {
        "id": "beobw-S-_rBP",
        "colab": {
          "base_uri": "https://localhost:8080/",
          "height": 0
        },
        "outputId": "1e7044f2-1ec8-4dc2-da1a-c0aedc76d2ad"
      },
      "source": [
        "grades.iloc[:, 1:-1]"
      ],
      "execution_count": 120,
      "outputs": [
        {
          "output_type": "execute_result",
          "data": {
            "text/html": [
              "<div>\n",
              "<style scoped>\n",
              "    .dataframe tbody tr th:only-of-type {\n",
              "        vertical-align: middle;\n",
              "    }\n",
              "\n",
              "    .dataframe tbody tr th {\n",
              "        vertical-align: top;\n",
              "    }\n",
              "\n",
              "    .dataframe thead th {\n",
              "        text-align: right;\n",
              "    }\n",
              "</style>\n",
              "<table border=\"1\" class=\"dataframe\">\n",
              "  <thead>\n",
              "    <tr style=\"text-align: right;\">\n",
              "      <th></th>\n",
              "      <th>teacher</th>\n",
              "    </tr>\n",
              "    <tr>\n",
              "      <th>subject</th>\n",
              "      <th></th>\n",
              "    </tr>\n",
              "  </thead>\n",
              "  <tbody>\n",
              "    <tr>\n",
              "      <th>analízis 1</th>\n",
              "      <td>a</td>\n",
              "    </tr>\n",
              "    <tr>\n",
              "      <th>digitális technika 1</th>\n",
              "      <td>b</td>\n",
              "    </tr>\n",
              "    <tr>\n",
              "      <th>fizika 1</th>\n",
              "      <td>a</td>\n",
              "    </tr>\n",
              "    <tr>\n",
              "      <th>mikmak</th>\n",
              "      <td>c</td>\n",
              "    </tr>\n",
              "    <tr>\n",
              "      <th>programozás alapjai 1</th>\n",
              "      <td>d</td>\n",
              "    </tr>\n",
              "    <tr>\n",
              "      <th>szoftvertechonológia</th>\n",
              "      <td>d</td>\n",
              "    </tr>\n",
              "    <tr>\n",
              "      <th>bevezetés a számításelméletbe 1</th>\n",
              "      <td>d</td>\n",
              "    </tr>\n",
              "  </tbody>\n",
              "</table>\n",
              "</div>"
            ],
            "text/plain": [
              "                                teacher\n",
              "subject                                \n",
              "analízis 1                            a\n",
              "digitális technika 1                  b\n",
              "fizika 1                              a\n",
              "mikmak                                c\n",
              "programozás alapjai 1                 d\n",
              "szoftvertechonológia                  d\n",
              "bevezetés a számításelméletbe 1       d"
            ]
          },
          "metadata": {
            "tags": []
          },
          "execution_count": 120
        }
      ]
    },
    {
      "cell_type": "markdown",
      "metadata": {
        "id": "KSJCx58u_rBS"
      },
      "source": [
        "#### Tetszőleges sor és oszlop tartományok vagy kombinációk kiválasztása"
      ]
    },
    {
      "cell_type": "code",
      "metadata": {
        "id": "0scEbD8X_rBS",
        "colab": {
          "base_uri": "https://localhost:8080/",
          "height": 0
        },
        "outputId": "7aad827c-52ad-4f3e-a3ad-989e5ea306e6"
      },
      "source": [
        "grades.iloc[1:5, 1:2]"
      ],
      "execution_count": 121,
      "outputs": [
        {
          "output_type": "execute_result",
          "data": {
            "text/html": [
              "<div>\n",
              "<style scoped>\n",
              "    .dataframe tbody tr th:only-of-type {\n",
              "        vertical-align: middle;\n",
              "    }\n",
              "\n",
              "    .dataframe tbody tr th {\n",
              "        vertical-align: top;\n",
              "    }\n",
              "\n",
              "    .dataframe thead th {\n",
              "        text-align: right;\n",
              "    }\n",
              "</style>\n",
              "<table border=\"1\" class=\"dataframe\">\n",
              "  <thead>\n",
              "    <tr style=\"text-align: right;\">\n",
              "      <th></th>\n",
              "      <th>teacher</th>\n",
              "    </tr>\n",
              "    <tr>\n",
              "      <th>subject</th>\n",
              "      <th></th>\n",
              "    </tr>\n",
              "  </thead>\n",
              "  <tbody>\n",
              "    <tr>\n",
              "      <th>digitális technika 1</th>\n",
              "      <td>b</td>\n",
              "    </tr>\n",
              "    <tr>\n",
              "      <th>fizika 1</th>\n",
              "      <td>a</td>\n",
              "    </tr>\n",
              "    <tr>\n",
              "      <th>mikmak</th>\n",
              "      <td>c</td>\n",
              "    </tr>\n",
              "    <tr>\n",
              "      <th>programozás alapjai 1</th>\n",
              "      <td>d</td>\n",
              "    </tr>\n",
              "  </tbody>\n",
              "</table>\n",
              "</div>"
            ],
            "text/plain": [
              "                      teacher\n",
              "subject                      \n",
              "digitális technika 1        b\n",
              "fizika 1                    a\n",
              "mikmak                      c\n",
              "programozás alapjai 1       d"
            ]
          },
          "metadata": {
            "tags": []
          },
          "execution_count": 121
        }
      ]
    },
    {
      "cell_type": "markdown",
      "metadata": {
        "id": "pnGsSHYw_rBU"
      },
      "source": [
        "Egy sort vagy oszlopot többször is lekérdezhetünk, ráadásul akármilyen sorrendben."
      ]
    },
    {
      "cell_type": "code",
      "metadata": {
        "id": "B1SAcgi2_rBV",
        "colab": {
          "base_uri": "https://localhost:8080/",
          "height": 0
        },
        "outputId": "6ad6a49d-dd1c-4865-9ef7-b395cd1e7989"
      },
      "source": [
        "grades.iloc[[4, 1, 1], [2, 1, 2]]"
      ],
      "execution_count": 122,
      "outputs": [
        {
          "output_type": "execute_result",
          "data": {
            "text/html": [
              "<div>\n",
              "<style scoped>\n",
              "    .dataframe tbody tr th:only-of-type {\n",
              "        vertical-align: middle;\n",
              "    }\n",
              "\n",
              "    .dataframe tbody tr th {\n",
              "        vertical-align: top;\n",
              "    }\n",
              "\n",
              "    .dataframe thead th {\n",
              "        text-align: right;\n",
              "    }\n",
              "</style>\n",
              "<table border=\"1\" class=\"dataframe\">\n",
              "  <thead>\n",
              "    <tr style=\"text-align: right;\">\n",
              "      <th></th>\n",
              "      <th>semester</th>\n",
              "      <th>teacher</th>\n",
              "      <th>semester</th>\n",
              "    </tr>\n",
              "    <tr>\n",
              "      <th>subject</th>\n",
              "      <th></th>\n",
              "      <th></th>\n",
              "      <th></th>\n",
              "    </tr>\n",
              "  </thead>\n",
              "  <tbody>\n",
              "    <tr>\n",
              "      <th>programozás alapjai 1</th>\n",
              "      <td>1</td>\n",
              "      <td>d</td>\n",
              "      <td>1</td>\n",
              "    </tr>\n",
              "    <tr>\n",
              "      <th>digitális technika 1</th>\n",
              "      <td>1</td>\n",
              "      <td>b</td>\n",
              "      <td>1</td>\n",
              "    </tr>\n",
              "    <tr>\n",
              "      <th>digitális technika 1</th>\n",
              "      <td>1</td>\n",
              "      <td>b</td>\n",
              "      <td>1</td>\n",
              "    </tr>\n",
              "  </tbody>\n",
              "</table>\n",
              "</div>"
            ],
            "text/plain": [
              "                       semester teacher  semester\n",
              "subject                                          \n",
              "programozás alapjai 1         1       d         1\n",
              "digitális technika 1          1       b         1\n",
              "digitális technika 1          1       b         1"
            ]
          },
          "metadata": {
            "tags": []
          },
          "execution_count": 122
        }
      ]
    },
    {
      "cell_type": "markdown",
      "metadata": {
        "id": "BmKFo9QC_rBX"
      },
      "source": [
        "# Egyetlen mező kiválasztása\n",
        "\n",
        "Egy mező tartalmát sokféleképpen kiválaszthatjuk, talán így a legegyszerűbb:"
      ]
    },
    {
      "cell_type": "code",
      "metadata": {
        "id": "ELFlQyXf_rBY",
        "colab": {
          "base_uri": "https://localhost:8080/"
        },
        "outputId": "f28ac3bd-117b-4a57-d95e-e47dce8153d5"
      },
      "source": [
        "grades.loc['fizika 1', 'grade']"
      ],
      "execution_count": 123,
      "outputs": [
        {
          "output_type": "execute_result",
          "data": {
            "text/plain": [
              "3"
            ]
          },
          "metadata": {
            "tags": []
          },
          "execution_count": 123
        }
      ]
    },
    {
      "cell_type": "markdown",
      "metadata": {
        "id": "8lG-IPfR_rBa"
      },
      "source": [
        "# Szűrés\n",
        "\n",
        "A DataFrame-ek sorain egyszerre végezhetünk műveleteket:"
      ]
    },
    {
      "cell_type": "code",
      "metadata": {
        "id": "ST09HyFn_rBa",
        "colab": {
          "base_uri": "https://localhost:8080/"
        },
        "outputId": "458f69f0-5435-4866-cf9c-934c606b16e8"
      },
      "source": [
        "grades.semester == 1"
      ],
      "execution_count": 124,
      "outputs": [
        {
          "output_type": "execute_result",
          "data": {
            "text/plain": [
              "subject\n",
              "analízis 1                          True\n",
              "digitális technika 1                True\n",
              "fizika 1                           False\n",
              "mikmak                             False\n",
              "programozás alapjai 1               True\n",
              "szoftvertechonológia               False\n",
              "bevezetés a számításelméletbe 1     True\n",
              "Name: semester, dtype: bool"
            ]
          },
          "metadata": {
            "tags": []
          },
          "execution_count": 124
        }
      ]
    },
    {
      "cell_type": "markdown",
      "metadata": {
        "id": "kgj-lR4L_rBd"
      },
      "source": [
        "Ekkor azokra a sorokra kapunk True-t, ahol igaz a feltétel. A feltételek kombinálhatóak, a zárójelezésre figyelni kell:"
      ]
    },
    {
      "cell_type": "code",
      "metadata": {
        "id": "DVbhrCdl_rBd",
        "colab": {
          "base_uri": "https://localhost:8080/"
        },
        "outputId": "0a95f30e-c27e-4190-975d-7c737a8ada2f"
      },
      "source": [
        "(grades.semester == 1) & (grades.teacher == 'a')"
      ],
      "execution_count": 125,
      "outputs": [
        {
          "output_type": "execute_result",
          "data": {
            "text/plain": [
              "subject\n",
              "analízis 1                          True\n",
              "digitális technika 1               False\n",
              "fizika 1                           False\n",
              "mikmak                             False\n",
              "programozás alapjai 1              False\n",
              "szoftvertechonológia               False\n",
              "bevezetés a számításelméletbe 1    False\n",
              "dtype: bool"
            ]
          },
          "metadata": {
            "tags": []
          },
          "execution_count": 125
        }
      ]
    },
    {
      "cell_type": "markdown",
      "metadata": {
        "id": "cHRCYS8G_rBh"
      },
      "source": [
        "Az igazságértékek sorozatával pedig szűrhetjük a DataFrame-eket:"
      ]
    },
    {
      "cell_type": "code",
      "metadata": {
        "id": "Ykom3R5A_rBi",
        "colab": {
          "base_uri": "https://localhost:8080/",
          "height": 0
        },
        "outputId": "240708d1-e7b1-41d1-d085-ea1f554c3875"
      },
      "source": [
        "grades[grades.semester==1]"
      ],
      "execution_count": 126,
      "outputs": [
        {
          "output_type": "execute_result",
          "data": {
            "text/html": [
              "<div>\n",
              "<style scoped>\n",
              "    .dataframe tbody tr th:only-of-type {\n",
              "        vertical-align: middle;\n",
              "    }\n",
              "\n",
              "    .dataframe tbody tr th {\n",
              "        vertical-align: top;\n",
              "    }\n",
              "\n",
              "    .dataframe thead th {\n",
              "        text-align: right;\n",
              "    }\n",
              "</style>\n",
              "<table border=\"1\" class=\"dataframe\">\n",
              "  <thead>\n",
              "    <tr style=\"text-align: right;\">\n",
              "      <th></th>\n",
              "      <th>grade</th>\n",
              "      <th>teacher</th>\n",
              "      <th>semester</th>\n",
              "    </tr>\n",
              "    <tr>\n",
              "      <th>subject</th>\n",
              "      <th></th>\n",
              "      <th></th>\n",
              "      <th></th>\n",
              "    </tr>\n",
              "  </thead>\n",
              "  <tbody>\n",
              "    <tr>\n",
              "      <th>analízis 1</th>\n",
              "      <td>3</td>\n",
              "      <td>a</td>\n",
              "      <td>1</td>\n",
              "    </tr>\n",
              "    <tr>\n",
              "      <th>digitális technika 1</th>\n",
              "      <td>4</td>\n",
              "      <td>b</td>\n",
              "      <td>1</td>\n",
              "    </tr>\n",
              "    <tr>\n",
              "      <th>programozás alapjai 1</th>\n",
              "      <td>5</td>\n",
              "      <td>d</td>\n",
              "      <td>1</td>\n",
              "    </tr>\n",
              "    <tr>\n",
              "      <th>bevezetés a számításelméletbe 1</th>\n",
              "      <td>4</td>\n",
              "      <td>d</td>\n",
              "      <td>1</td>\n",
              "    </tr>\n",
              "  </tbody>\n",
              "</table>\n",
              "</div>"
            ],
            "text/plain": [
              "                                 grade teacher  semester\n",
              "subject                                                 \n",
              "analízis 1                           3       a         1\n",
              "digitális technika 1                 4       b         1\n",
              "programozás alapjai 1                5       d         1\n",
              "bevezetés a számításelméletbe 1      4       d         1"
            ]
          },
          "metadata": {
            "tags": []
          },
          "execution_count": 126
        }
      ]
    },
    {
      "cell_type": "code",
      "metadata": {
        "id": "07iRtD-G_rBl",
        "colab": {
          "base_uri": "https://localhost:8080/",
          "height": 0
        },
        "outputId": "48905857-cf0c-4a5b-ac50-ae5cf77b0fd1"
      },
      "source": [
        "grades[(grades.semester == 1) & (grades.teacher == 'a')]"
      ],
      "execution_count": 127,
      "outputs": [
        {
          "output_type": "execute_result",
          "data": {
            "text/html": [
              "<div>\n",
              "<style scoped>\n",
              "    .dataframe tbody tr th:only-of-type {\n",
              "        vertical-align: middle;\n",
              "    }\n",
              "\n",
              "    .dataframe tbody tr th {\n",
              "        vertical-align: top;\n",
              "    }\n",
              "\n",
              "    .dataframe thead th {\n",
              "        text-align: right;\n",
              "    }\n",
              "</style>\n",
              "<table border=\"1\" class=\"dataframe\">\n",
              "  <thead>\n",
              "    <tr style=\"text-align: right;\">\n",
              "      <th></th>\n",
              "      <th>grade</th>\n",
              "      <th>teacher</th>\n",
              "      <th>semester</th>\n",
              "    </tr>\n",
              "    <tr>\n",
              "      <th>subject</th>\n",
              "      <th></th>\n",
              "      <th></th>\n",
              "      <th></th>\n",
              "    </tr>\n",
              "  </thead>\n",
              "  <tbody>\n",
              "    <tr>\n",
              "      <th>analízis 1</th>\n",
              "      <td>3</td>\n",
              "      <td>a</td>\n",
              "      <td>1</td>\n",
              "    </tr>\n",
              "  </tbody>\n",
              "</table>\n",
              "</div>"
            ],
            "text/plain": [
              "            grade teacher  semester\n",
              "subject                            \n",
              "analízis 1      3       a         1"
            ]
          },
          "metadata": {
            "tags": []
          },
          "execution_count": 127
        }
      ]
    },
    {
      "cell_type": "markdown",
      "metadata": {
        "id": "KUJcu9Qt_rBn"
      },
      "source": [
        "# Vektoros műveletvégzés\n",
        "\n",
        "A pandas DataFrame-jeire és Series-eire az aritmetikai operátorok túl vannak terhelve, ezért egyszerre végezhetünk az egész táblán műveleteket."
      ]
    },
    {
      "cell_type": "code",
      "metadata": {
        "id": "ANBFSIAC_rBn",
        "colab": {
          "base_uri": "https://localhost:8080/",
          "height": 0
        },
        "outputId": "3e063453-7ad9-4a22-9f19-30f53ab7d3c4"
      },
      "source": [
        "grades[['grade', 'semester']] + 15"
      ],
      "execution_count": 128,
      "outputs": [
        {
          "output_type": "execute_result",
          "data": {
            "text/html": [
              "<div>\n",
              "<style scoped>\n",
              "    .dataframe tbody tr th:only-of-type {\n",
              "        vertical-align: middle;\n",
              "    }\n",
              "\n",
              "    .dataframe tbody tr th {\n",
              "        vertical-align: top;\n",
              "    }\n",
              "\n",
              "    .dataframe thead th {\n",
              "        text-align: right;\n",
              "    }\n",
              "</style>\n",
              "<table border=\"1\" class=\"dataframe\">\n",
              "  <thead>\n",
              "    <tr style=\"text-align: right;\">\n",
              "      <th></th>\n",
              "      <th>grade</th>\n",
              "      <th>semester</th>\n",
              "    </tr>\n",
              "    <tr>\n",
              "      <th>subject</th>\n",
              "      <th></th>\n",
              "      <th></th>\n",
              "    </tr>\n",
              "  </thead>\n",
              "  <tbody>\n",
              "    <tr>\n",
              "      <th>analízis 1</th>\n",
              "      <td>18</td>\n",
              "      <td>16</td>\n",
              "    </tr>\n",
              "    <tr>\n",
              "      <th>digitális technika 1</th>\n",
              "      <td>19</td>\n",
              "      <td>16</td>\n",
              "    </tr>\n",
              "    <tr>\n",
              "      <th>fizika 1</th>\n",
              "      <td>18</td>\n",
              "      <td>17</td>\n",
              "    </tr>\n",
              "    <tr>\n",
              "      <th>mikmak</th>\n",
              "      <td>17</td>\n",
              "      <td>17</td>\n",
              "    </tr>\n",
              "    <tr>\n",
              "      <th>programozás alapjai 1</th>\n",
              "      <td>20</td>\n",
              "      <td>16</td>\n",
              "    </tr>\n",
              "    <tr>\n",
              "      <th>szoftvertechonológia</th>\n",
              "      <td>16</td>\n",
              "      <td>18</td>\n",
              "    </tr>\n",
              "    <tr>\n",
              "      <th>bevezetés a számításelméletbe 1</th>\n",
              "      <td>19</td>\n",
              "      <td>16</td>\n",
              "    </tr>\n",
              "  </tbody>\n",
              "</table>\n",
              "</div>"
            ],
            "text/plain": [
              "                                 grade  semester\n",
              "subject                                         \n",
              "analízis 1                          18        16\n",
              "digitális technika 1                19        16\n",
              "fizika 1                            18        17\n",
              "mikmak                              17        17\n",
              "programozás alapjai 1               20        16\n",
              "szoftvertechonológia                16        18\n",
              "bevezetés a számításelméletbe 1     19        16"
            ]
          },
          "metadata": {
            "tags": []
          },
          "execution_count": 128
        }
      ]
    },
    {
      "cell_type": "markdown",
      "metadata": {
        "id": "cE9AVQGZ_rBp"
      },
      "source": [
        "## Az index is hasonlóan manipulálható "
      ]
    },
    {
      "cell_type": "code",
      "metadata": {
        "id": "VNq4-FXI_rBq",
        "colab": {
          "base_uri": "https://localhost:8080/"
        },
        "outputId": "699c658c-2a27-4d63-8fd0-c4026085c4c5"
      },
      "source": [
        "grades.index.str.upper()"
      ],
      "execution_count": 129,
      "outputs": [
        {
          "output_type": "execute_result",
          "data": {
            "text/plain": [
              "Index(['ANALÍZIS 1', 'DIGITÁLIS TECHNIKA 1', 'FIZIKA 1', 'MIKMAK',\n",
              "       'PROGRAMOZÁS ALAPJAI 1', 'SZOFTVERTECHONOLÓGIA',\n",
              "       'BEVEZETÉS A SZÁMÍTÁSELMÉLETBE 1'],\n",
              "      dtype='object', name='subject')"
            ]
          },
          "metadata": {
            "tags": []
          },
          "execution_count": 129
        }
      ]
    },
    {
      "cell_type": "markdown",
      "metadata": {
        "id": "BsMCdIAB_rBt"
      },
      "source": [
        "Át is állítható:"
      ]
    },
    {
      "cell_type": "code",
      "metadata": {
        "id": "EbxFk_z__rBt",
        "colab": {
          "base_uri": "https://localhost:8080/",
          "height": 0
        },
        "outputId": "a0da815f-a021-4c44-9798-2b4b655d8515"
      },
      "source": [
        "grades.index = grades.index.str.upper()\n",
        "grades"
      ],
      "execution_count": 130,
      "outputs": [
        {
          "output_type": "execute_result",
          "data": {
            "text/html": [
              "<div>\n",
              "<style scoped>\n",
              "    .dataframe tbody tr th:only-of-type {\n",
              "        vertical-align: middle;\n",
              "    }\n",
              "\n",
              "    .dataframe tbody tr th {\n",
              "        vertical-align: top;\n",
              "    }\n",
              "\n",
              "    .dataframe thead th {\n",
              "        text-align: right;\n",
              "    }\n",
              "</style>\n",
              "<table border=\"1\" class=\"dataframe\">\n",
              "  <thead>\n",
              "    <tr style=\"text-align: right;\">\n",
              "      <th></th>\n",
              "      <th>grade</th>\n",
              "      <th>teacher</th>\n",
              "      <th>semester</th>\n",
              "    </tr>\n",
              "    <tr>\n",
              "      <th>subject</th>\n",
              "      <th></th>\n",
              "      <th></th>\n",
              "      <th></th>\n",
              "    </tr>\n",
              "  </thead>\n",
              "  <tbody>\n",
              "    <tr>\n",
              "      <th>ANALÍZIS 1</th>\n",
              "      <td>3</td>\n",
              "      <td>a</td>\n",
              "      <td>1</td>\n",
              "    </tr>\n",
              "    <tr>\n",
              "      <th>DIGITÁLIS TECHNIKA 1</th>\n",
              "      <td>4</td>\n",
              "      <td>b</td>\n",
              "      <td>1</td>\n",
              "    </tr>\n",
              "    <tr>\n",
              "      <th>FIZIKA 1</th>\n",
              "      <td>3</td>\n",
              "      <td>a</td>\n",
              "      <td>2</td>\n",
              "    </tr>\n",
              "    <tr>\n",
              "      <th>MIKMAK</th>\n",
              "      <td>2</td>\n",
              "      <td>c</td>\n",
              "      <td>2</td>\n",
              "    </tr>\n",
              "    <tr>\n",
              "      <th>PROGRAMOZÁS ALAPJAI 1</th>\n",
              "      <td>5</td>\n",
              "      <td>d</td>\n",
              "      <td>1</td>\n",
              "    </tr>\n",
              "    <tr>\n",
              "      <th>SZOFTVERTECHONOLÓGIA</th>\n",
              "      <td>1</td>\n",
              "      <td>d</td>\n",
              "      <td>3</td>\n",
              "    </tr>\n",
              "    <tr>\n",
              "      <th>BEVEZETÉS A SZÁMÍTÁSELMÉLETBE 1</th>\n",
              "      <td>4</td>\n",
              "      <td>d</td>\n",
              "      <td>1</td>\n",
              "    </tr>\n",
              "  </tbody>\n",
              "</table>\n",
              "</div>"
            ],
            "text/plain": [
              "                                 grade teacher  semester\n",
              "subject                                                 \n",
              "ANALÍZIS 1                           3       a         1\n",
              "DIGITÁLIS TECHNIKA 1                 4       b         1\n",
              "FIZIKA 1                             3       a         2\n",
              "MIKMAK                               2       c         2\n",
              "PROGRAMOZÁS ALAPJAI 1                5       d         1\n",
              "SZOFTVERTECHONOLÓGIA                 1       d         3\n",
              "BEVEZETÉS A SZÁMÍTÁSELMÉLETBE 1      4       d         1"
            ]
          },
          "metadata": {
            "tags": []
          },
          "execution_count": 130
        }
      ]
    },
    {
      "cell_type": "markdown",
      "metadata": {
        "id": "yBvvz0kk_rBv"
      },
      "source": [
        "Majd visszaállítható:"
      ]
    },
    {
      "cell_type": "code",
      "metadata": {
        "id": "pngLw_d3_rBw",
        "colab": {
          "base_uri": "https://localhost:8080/",
          "height": 0
        },
        "outputId": "4d094df7-8c33-4afe-ca71-3106addfc951"
      },
      "source": [
        "grades.index = grades.index.str.lower()\n",
        "grades"
      ],
      "execution_count": 131,
      "outputs": [
        {
          "output_type": "execute_result",
          "data": {
            "text/html": [
              "<div>\n",
              "<style scoped>\n",
              "    .dataframe tbody tr th:only-of-type {\n",
              "        vertical-align: middle;\n",
              "    }\n",
              "\n",
              "    .dataframe tbody tr th {\n",
              "        vertical-align: top;\n",
              "    }\n",
              "\n",
              "    .dataframe thead th {\n",
              "        text-align: right;\n",
              "    }\n",
              "</style>\n",
              "<table border=\"1\" class=\"dataframe\">\n",
              "  <thead>\n",
              "    <tr style=\"text-align: right;\">\n",
              "      <th></th>\n",
              "      <th>grade</th>\n",
              "      <th>teacher</th>\n",
              "      <th>semester</th>\n",
              "    </tr>\n",
              "    <tr>\n",
              "      <th>subject</th>\n",
              "      <th></th>\n",
              "      <th></th>\n",
              "      <th></th>\n",
              "    </tr>\n",
              "  </thead>\n",
              "  <tbody>\n",
              "    <tr>\n",
              "      <th>analízis 1</th>\n",
              "      <td>3</td>\n",
              "      <td>a</td>\n",
              "      <td>1</td>\n",
              "    </tr>\n",
              "    <tr>\n",
              "      <th>digitális technika 1</th>\n",
              "      <td>4</td>\n",
              "      <td>b</td>\n",
              "      <td>1</td>\n",
              "    </tr>\n",
              "    <tr>\n",
              "      <th>fizika 1</th>\n",
              "      <td>3</td>\n",
              "      <td>a</td>\n",
              "      <td>2</td>\n",
              "    </tr>\n",
              "    <tr>\n",
              "      <th>mikmak</th>\n",
              "      <td>2</td>\n",
              "      <td>c</td>\n",
              "      <td>2</td>\n",
              "    </tr>\n",
              "    <tr>\n",
              "      <th>programozás alapjai 1</th>\n",
              "      <td>5</td>\n",
              "      <td>d</td>\n",
              "      <td>1</td>\n",
              "    </tr>\n",
              "    <tr>\n",
              "      <th>szoftvertechonológia</th>\n",
              "      <td>1</td>\n",
              "      <td>d</td>\n",
              "      <td>3</td>\n",
              "    </tr>\n",
              "    <tr>\n",
              "      <th>bevezetés a számításelméletbe 1</th>\n",
              "      <td>4</td>\n",
              "      <td>d</td>\n",
              "      <td>1</td>\n",
              "    </tr>\n",
              "  </tbody>\n",
              "</table>\n",
              "</div>"
            ],
            "text/plain": [
              "                                 grade teacher  semester\n",
              "subject                                                 \n",
              "analízis 1                           3       a         1\n",
              "digitális technika 1                 4       b         1\n",
              "fizika 1                             3       a         2\n",
              "mikmak                               2       c         2\n",
              "programozás alapjai 1                5       d         1\n",
              "szoftvertechonológia                 1       d         3\n",
              "bevezetés a számításelméletbe 1      4       d         1"
            ]
          },
          "metadata": {
            "tags": []
          },
          "execution_count": 131
        }
      ]
    },
    {
      "cell_type": "markdown",
      "metadata": {
        "id": "6zdUXC7e_rBy"
      },
      "source": [
        "# Több DataFrame kezelése, merge"
      ]
    },
    {
      "cell_type": "code",
      "metadata": {
        "id": "uAY6ATWW_rBy",
        "colab": {
          "base_uri": "https://localhost:8080/",
          "height": 137
        },
        "outputId": "c0630314-e93b-4f10-b4bf-0873c861b03b"
      },
      "source": [
        "credits = pd.DataFrame(\n",
        "    {\n",
        "        'subject': ['analízis 1', 'fizika 1', 'programozás alapjai 2'],\n",
        "        'credit': [7, 5, 5]\n",
        "    }\n",
        ")\n",
        "credits"
      ],
      "execution_count": 132,
      "outputs": [
        {
          "output_type": "execute_result",
          "data": {
            "text/html": [
              "<div>\n",
              "<style scoped>\n",
              "    .dataframe tbody tr th:only-of-type {\n",
              "        vertical-align: middle;\n",
              "    }\n",
              "\n",
              "    .dataframe tbody tr th {\n",
              "        vertical-align: top;\n",
              "    }\n",
              "\n",
              "    .dataframe thead th {\n",
              "        text-align: right;\n",
              "    }\n",
              "</style>\n",
              "<table border=\"1\" class=\"dataframe\">\n",
              "  <thead>\n",
              "    <tr style=\"text-align: right;\">\n",
              "      <th></th>\n",
              "      <th>subject</th>\n",
              "      <th>credit</th>\n",
              "    </tr>\n",
              "  </thead>\n",
              "  <tbody>\n",
              "    <tr>\n",
              "      <th>0</th>\n",
              "      <td>analízis 1</td>\n",
              "      <td>7</td>\n",
              "    </tr>\n",
              "    <tr>\n",
              "      <th>1</th>\n",
              "      <td>fizika 1</td>\n",
              "      <td>5</td>\n",
              "    </tr>\n",
              "    <tr>\n",
              "      <th>2</th>\n",
              "      <td>programozás alapjai 2</td>\n",
              "      <td>5</td>\n",
              "    </tr>\n",
              "  </tbody>\n",
              "</table>\n",
              "</div>"
            ],
            "text/plain": [
              "                 subject  credit\n",
              "0             analízis 1       7\n",
              "1               fizika 1       5\n",
              "2  programozás alapjai 2       5"
            ]
          },
          "metadata": {
            "tags": []
          },
          "execution_count": 132
        }
      ]
    },
    {
      "cell_type": "markdown",
      "metadata": {
        "id": "XK73j57K_rB0"
      },
      "source": [
        "## Hány kreditet érnek a tárgyak, amikre jegyet kaptunk?"
      ]
    },
    {
      "cell_type": "code",
      "metadata": {
        "id": "lyfbiWVP_rB0",
        "colab": {
          "base_uri": "https://localhost:8080/",
          "height": 286
        },
        "outputId": "72f1c317-274d-40cc-c37f-819a606ea20b"
      },
      "source": [
        "d = grades.merge(credits, left_index=True, right_on='subject', how='outer')\n",
        "\n",
        "d"
      ],
      "execution_count": 133,
      "outputs": [
        {
          "output_type": "execute_result",
          "data": {
            "text/html": [
              "<div>\n",
              "<style scoped>\n",
              "    .dataframe tbody tr th:only-of-type {\n",
              "        vertical-align: middle;\n",
              "    }\n",
              "\n",
              "    .dataframe tbody tr th {\n",
              "        vertical-align: top;\n",
              "    }\n",
              "\n",
              "    .dataframe thead th {\n",
              "        text-align: right;\n",
              "    }\n",
              "</style>\n",
              "<table border=\"1\" class=\"dataframe\">\n",
              "  <thead>\n",
              "    <tr style=\"text-align: right;\">\n",
              "      <th></th>\n",
              "      <th>grade</th>\n",
              "      <th>teacher</th>\n",
              "      <th>semester</th>\n",
              "      <th>subject</th>\n",
              "      <th>credit</th>\n",
              "    </tr>\n",
              "  </thead>\n",
              "  <tbody>\n",
              "    <tr>\n",
              "      <th>0.0</th>\n",
              "      <td>3.0</td>\n",
              "      <td>a</td>\n",
              "      <td>1.0</td>\n",
              "      <td>analízis 1</td>\n",
              "      <td>7.0</td>\n",
              "    </tr>\n",
              "    <tr>\n",
              "      <th>NaN</th>\n",
              "      <td>4.0</td>\n",
              "      <td>b</td>\n",
              "      <td>1.0</td>\n",
              "      <td>digitális technika 1</td>\n",
              "      <td>NaN</td>\n",
              "    </tr>\n",
              "    <tr>\n",
              "      <th>1.0</th>\n",
              "      <td>3.0</td>\n",
              "      <td>a</td>\n",
              "      <td>2.0</td>\n",
              "      <td>fizika 1</td>\n",
              "      <td>5.0</td>\n",
              "    </tr>\n",
              "    <tr>\n",
              "      <th>NaN</th>\n",
              "      <td>2.0</td>\n",
              "      <td>c</td>\n",
              "      <td>2.0</td>\n",
              "      <td>mikmak</td>\n",
              "      <td>NaN</td>\n",
              "    </tr>\n",
              "    <tr>\n",
              "      <th>NaN</th>\n",
              "      <td>5.0</td>\n",
              "      <td>d</td>\n",
              "      <td>1.0</td>\n",
              "      <td>programozás alapjai 1</td>\n",
              "      <td>NaN</td>\n",
              "    </tr>\n",
              "    <tr>\n",
              "      <th>NaN</th>\n",
              "      <td>1.0</td>\n",
              "      <td>d</td>\n",
              "      <td>3.0</td>\n",
              "      <td>szoftvertechonológia</td>\n",
              "      <td>NaN</td>\n",
              "    </tr>\n",
              "    <tr>\n",
              "      <th>NaN</th>\n",
              "      <td>4.0</td>\n",
              "      <td>d</td>\n",
              "      <td>1.0</td>\n",
              "      <td>bevezetés a számításelméletbe 1</td>\n",
              "      <td>NaN</td>\n",
              "    </tr>\n",
              "    <tr>\n",
              "      <th>2.0</th>\n",
              "      <td>NaN</td>\n",
              "      <td>NaN</td>\n",
              "      <td>NaN</td>\n",
              "      <td>programozás alapjai 2</td>\n",
              "      <td>5.0</td>\n",
              "    </tr>\n",
              "  </tbody>\n",
              "</table>\n",
              "</div>"
            ],
            "text/plain": [
              "     grade teacher  semester                          subject  credit\n",
              "0.0    3.0       a       1.0                       analízis 1     7.0\n",
              "NaN    4.0       b       1.0             digitális technika 1     NaN\n",
              "1.0    3.0       a       2.0                         fizika 1     5.0\n",
              "NaN    2.0       c       2.0                           mikmak     NaN\n",
              "NaN    5.0       d       1.0            programozás alapjai 1     NaN\n",
              "NaN    1.0       d       3.0             szoftvertechonológia     NaN\n",
              "NaN    4.0       d       1.0  bevezetés a számításelméletbe 1     NaN\n",
              "2.0    NaN     NaN       NaN            programozás alapjai 2     5.0"
            ]
          },
          "metadata": {
            "tags": []
          },
          "execution_count": 133
        }
      ]
    },
    {
      "cell_type": "markdown",
      "metadata": {
        "id": "FGl6hsmN_rB3"
      },
      "source": [
        "### A paraméterek magyarázata:\n",
        "\n",
        "1. `left_index`: a baloldali DataFrame (grades ebben az esetben) indexe mentén joinoljon.\n",
        "2. `right_on`: a jobboldali DataFrame (credits) subject mezője mentén joinoljon.\n",
        "3. `how`: inner/outer. Egyezik az SQL-es joinnal.\n",
        "\n",
        "### A joinolni kívánt mező kétféle lehet:\n",
        "\n",
        "1. index: ekkor az indexként használt oszlopot próbálja a másik táblázattal joinolni. `left_index=True`-ra kell állítani.\n",
        "2. nem index: egy vagy több nem indexként használt oszlop mentén próbál meg joinolni. `left_on=col1` vagy `left_on=[col1, col2]`"
      ]
    },
    {
      "cell_type": "code",
      "metadata": {
        "id": "rTtU6iK9_rB3",
        "colab": {
          "base_uri": "https://localhost:8080/",
          "height": 0
        },
        "outputId": "2c9fb18f-1e01-41d8-cb14-79f611e13827"
      },
      "source": [
        "grades.merge(credits, left_index=True, right_on='subject', how='inner')"
      ],
      "execution_count": 134,
      "outputs": [
        {
          "output_type": "execute_result",
          "data": {
            "text/html": [
              "<div>\n",
              "<style scoped>\n",
              "    .dataframe tbody tr th:only-of-type {\n",
              "        vertical-align: middle;\n",
              "    }\n",
              "\n",
              "    .dataframe tbody tr th {\n",
              "        vertical-align: top;\n",
              "    }\n",
              "\n",
              "    .dataframe thead th {\n",
              "        text-align: right;\n",
              "    }\n",
              "</style>\n",
              "<table border=\"1\" class=\"dataframe\">\n",
              "  <thead>\n",
              "    <tr style=\"text-align: right;\">\n",
              "      <th></th>\n",
              "      <th>grade</th>\n",
              "      <th>teacher</th>\n",
              "      <th>semester</th>\n",
              "      <th>subject</th>\n",
              "      <th>credit</th>\n",
              "    </tr>\n",
              "  </thead>\n",
              "  <tbody>\n",
              "    <tr>\n",
              "      <th>0</th>\n",
              "      <td>3</td>\n",
              "      <td>a</td>\n",
              "      <td>1</td>\n",
              "      <td>analízis 1</td>\n",
              "      <td>7</td>\n",
              "    </tr>\n",
              "    <tr>\n",
              "      <th>1</th>\n",
              "      <td>3</td>\n",
              "      <td>a</td>\n",
              "      <td>2</td>\n",
              "      <td>fizika 1</td>\n",
              "      <td>5</td>\n",
              "    </tr>\n",
              "  </tbody>\n",
              "</table>\n",
              "</div>"
            ],
            "text/plain": [
              "   grade teacher  semester     subject  credit\n",
              "0      3       a         1  analízis 1       7\n",
              "1      3       a         2    fizika 1       5"
            ]
          },
          "metadata": {
            "tags": []
          },
          "execution_count": 134
        }
      ]
    },
    {
      "cell_type": "markdown",
      "metadata": {
        "id": "mtp5LIGE_rB5"
      },
      "source": [
        "## Érvénytelen adatok eldobása "
      ]
    },
    {
      "cell_type": "markdown",
      "metadata": {
        "id": "ADFwn5eu_rB5"
      },
      "source": [
        "Látható, hogy nem minden tárgyhoz sikerült megtalálni a kreditszámot, hiszen nem mindegyik szerepelt a credits táblában.\n",
        "\n",
        "A pandas NaN (not a number) tölti fel a hiányzó mezőket. Szerencsére a legtöbb műveletnek megmondhatjuk, hogy hogyan bánjon a NaN-okkal. Meg is szabadulhatunk tőlük:"
      ]
    },
    {
      "cell_type": "code",
      "metadata": {
        "id": "Dy30cIWO_rB6",
        "colab": {
          "base_uri": "https://localhost:8080/",
          "height": 0
        },
        "outputId": "03217a81-eba8-415d-b5cf-5f730d8c7a73"
      },
      "source": [
        "d = d.dropna()\n",
        "d"
      ],
      "execution_count": 135,
      "outputs": [
        {
          "output_type": "execute_result",
          "data": {
            "text/html": [
              "<div>\n",
              "<style scoped>\n",
              "    .dataframe tbody tr th:only-of-type {\n",
              "        vertical-align: middle;\n",
              "    }\n",
              "\n",
              "    .dataframe tbody tr th {\n",
              "        vertical-align: top;\n",
              "    }\n",
              "\n",
              "    .dataframe thead th {\n",
              "        text-align: right;\n",
              "    }\n",
              "</style>\n",
              "<table border=\"1\" class=\"dataframe\">\n",
              "  <thead>\n",
              "    <tr style=\"text-align: right;\">\n",
              "      <th></th>\n",
              "      <th>grade</th>\n",
              "      <th>teacher</th>\n",
              "      <th>semester</th>\n",
              "      <th>subject</th>\n",
              "      <th>credit</th>\n",
              "    </tr>\n",
              "  </thead>\n",
              "  <tbody>\n",
              "    <tr>\n",
              "      <th>0.0</th>\n",
              "      <td>3.0</td>\n",
              "      <td>a</td>\n",
              "      <td>1.0</td>\n",
              "      <td>analízis 1</td>\n",
              "      <td>7.0</td>\n",
              "    </tr>\n",
              "    <tr>\n",
              "      <th>1.0</th>\n",
              "      <td>3.0</td>\n",
              "      <td>a</td>\n",
              "      <td>2.0</td>\n",
              "      <td>fizika 1</td>\n",
              "      <td>5.0</td>\n",
              "    </tr>\n",
              "  </tbody>\n",
              "</table>\n",
              "</div>"
            ],
            "text/plain": [
              "     grade teacher  semester     subject  credit\n",
              "0.0    3.0       a       1.0  analízis 1     7.0\n",
              "1.0    3.0       a       2.0    fizika 1     5.0"
            ]
          },
          "metadata": {
            "tags": []
          },
          "execution_count": 135
        }
      ]
    },
    {
      "cell_type": "markdown",
      "metadata": {
        "id": "6oEFguC3_rB7"
      },
      "source": [
        "# Szélsőérték-keresés (max, idxmax)\n",
        "\n",
        "Sokszor vagyunk kíváncsiak arra, hogy mi egy oszlop maximuma/minimuma vagy éppen hol veszi fel ezt az értéket (argmax). A pandas tartalmaz erre beépített függvényeket.\n",
        "\n",
        "## DataFrame-re\n",
        "\n",
        "Mi az egyes oszlopok maximuma?"
      ]
    },
    {
      "cell_type": "code",
      "metadata": {
        "id": "lWhO96ms_rB8",
        "colab": {
          "base_uri": "https://localhost:8080/"
        },
        "outputId": "8a3158b5-bfc2-4498-8b97-d490057d13be"
      },
      "source": [
        "print(type(grades.max()))\n",
        "grades.max()"
      ],
      "execution_count": 136,
      "outputs": [
        {
          "output_type": "stream",
          "text": [
            "<class 'pandas.core.series.Series'>\n"
          ],
          "name": "stdout"
        },
        {
          "output_type": "execute_result",
          "data": {
            "text/plain": [
              "grade       5\n",
              "teacher     d\n",
              "semester    3\n",
              "dtype: object"
            ]
          },
          "metadata": {
            "tags": []
          },
          "execution_count": 136
        }
      ]
    },
    {
      "cell_type": "markdown",
      "metadata": {
        "id": "E7GwJpo1_rB_"
      },
      "source": [
        "A `max` függvény egy Series-zel tér vissza, ami minden oszlop maximumát tartalmazza. Sorokra is felthetjük ugyanezt a kérdést, bár erre az adatra nem sok értelme van:"
      ]
    },
    {
      "cell_type": "code",
      "metadata": {
        "id": "jNPdFyi9_rCA",
        "colab": {
          "base_uri": "https://localhost:8080/"
        },
        "outputId": "901e4aba-a76a-402b-db90-4a64d6f10f1c"
      },
      "source": [
        "grades.max(axis=1)"
      ],
      "execution_count": 137,
      "outputs": [
        {
          "output_type": "execute_result",
          "data": {
            "text/plain": [
              "subject\n",
              "analízis 1                         3\n",
              "digitális technika 1               4\n",
              "fizika 1                           3\n",
              "mikmak                             2\n",
              "programozás alapjai 1              5\n",
              "szoftvertechonológia               3\n",
              "bevezetés a számításelméletbe 1    4\n",
              "dtype: int64"
            ]
          },
          "metadata": {
            "tags": []
          },
          "execution_count": 137
        }
      ]
    },
    {
      "cell_type": "markdown",
      "metadata": {
        "id": "6Mp9woOU_rCD"
      },
      "source": [
        "Hol veszi fel a maximumát?"
      ]
    },
    {
      "cell_type": "code",
      "metadata": {
        "id": "t3UGKqCz_rCD",
        "colab": {
          "base_uri": "https://localhost:8080/"
        },
        "outputId": "55803e12-afc4-410a-8817-e7b2bc39c6dd"
      },
      "source": [
        "# grades.idxmax()  # hibát kapunk, mert az egyik oszlop szöveges\n",
        "grades[['grade', 'semester']].idxmax()"
      ],
      "execution_count": 138,
      "outputs": [
        {
          "output_type": "execute_result",
          "data": {
            "text/plain": [
              "grade       programozás alapjai 1\n",
              "semester     szoftvertechonológia\n",
              "dtype: object"
            ]
          },
          "metadata": {
            "tags": []
          },
          "execution_count": 138
        }
      ]
    },
    {
      "cell_type": "markdown",
      "metadata": {
        "id": "PgbCVdnv_rCF"
      },
      "source": [
        "Indexelhetünk is a visszakapott értékekkel, így a legmagasabb értékeket tartalmazó sorokat kapjuk meg."
      ]
    },
    {
      "cell_type": "code",
      "metadata": {
        "id": "sCCpxuJh_rCF",
        "colab": {
          "base_uri": "https://localhost:8080/",
          "height": 0
        },
        "outputId": "687fbdc5-7cd6-4f7e-df46-998105528293"
      },
      "source": [
        "grades.loc[grades[['grade', 'semester']].idxmax()]"
      ],
      "execution_count": 139,
      "outputs": [
        {
          "output_type": "execute_result",
          "data": {
            "text/html": [
              "<div>\n",
              "<style scoped>\n",
              "    .dataframe tbody tr th:only-of-type {\n",
              "        vertical-align: middle;\n",
              "    }\n",
              "\n",
              "    .dataframe tbody tr th {\n",
              "        vertical-align: top;\n",
              "    }\n",
              "\n",
              "    .dataframe thead th {\n",
              "        text-align: right;\n",
              "    }\n",
              "</style>\n",
              "<table border=\"1\" class=\"dataframe\">\n",
              "  <thead>\n",
              "    <tr style=\"text-align: right;\">\n",
              "      <th></th>\n",
              "      <th>grade</th>\n",
              "      <th>teacher</th>\n",
              "      <th>semester</th>\n",
              "    </tr>\n",
              "    <tr>\n",
              "      <th>subject</th>\n",
              "      <th></th>\n",
              "      <th></th>\n",
              "      <th></th>\n",
              "    </tr>\n",
              "  </thead>\n",
              "  <tbody>\n",
              "    <tr>\n",
              "      <th>programozás alapjai 1</th>\n",
              "      <td>5</td>\n",
              "      <td>d</td>\n",
              "      <td>1</td>\n",
              "    </tr>\n",
              "    <tr>\n",
              "      <th>szoftvertechonológia</th>\n",
              "      <td>1</td>\n",
              "      <td>d</td>\n",
              "      <td>3</td>\n",
              "    </tr>\n",
              "  </tbody>\n",
              "</table>\n",
              "</div>"
            ],
            "text/plain": [
              "                       grade teacher  semester\n",
              "subject                                       \n",
              "programozás alapjai 1      5       d         1\n",
              "szoftvertechonológia       1       d         3"
            ]
          },
          "metadata": {
            "tags": []
          },
          "execution_count": 139
        }
      ]
    },
    {
      "cell_type": "markdown",
      "metadata": {
        "id": "4L0qqoYz_rCI"
      },
      "source": [
        "A számadatot tartalmazó oszlopok közül megkaptuk, hogy melyik sornál veszi fel a maximális értéket. Holtverseny esetén a legelső előfordulást adja vissza."
      ]
    },
    {
      "cell_type": "markdown",
      "metadata": {
        "id": "wmgfxRAz_rCI"
      },
      "source": [
        "Az `idxmax` függvény `Series`-re hasonlóan működik, csak az eredmény egyetlen skalár érték:"
      ]
    },
    {
      "cell_type": "code",
      "metadata": {
        "id": "dhh9GTgH_rCI",
        "colab": {
          "base_uri": "https://localhost:8080/",
          "height": 0
        },
        "outputId": "c49ee36c-d2a9-4c26-a1b2-8b393c4a7d1d"
      },
      "source": [
        "grades.grade.idxmax()"
      ],
      "execution_count": 140,
      "outputs": [
        {
          "output_type": "execute_result",
          "data": {
            "application/vnd.google.colaboratory.intrinsic+json": {
              "type": "string"
            },
            "text/plain": [
              "'programozás alapjai 1'"
            ]
          },
          "metadata": {
            "tags": []
          },
          "execution_count": 140
        }
      ]
    },
    {
      "cell_type": "markdown",
      "metadata": {
        "id": "RJzajBBD_rCK"
      },
      "source": [
        "# Csoportosítás (groupby)"
      ]
    },
    {
      "cell_type": "markdown",
      "metadata": {
        "id": "MXhP_2w-_rCK"
      },
      "source": [
        "A groupby függvénnyel tetszőleges oszlop mentén csoportosíthatjuk a DataFrame-et."
      ]
    },
    {
      "cell_type": "code",
      "metadata": {
        "id": "s7c10fzF_rCL"
      },
      "source": [
        "g = credits.groupby('credit')"
      ],
      "execution_count": 141,
      "outputs": []
    },
    {
      "cell_type": "code",
      "metadata": {
        "id": "BjxYaM11_rCO",
        "colab": {
          "base_uri": "https://localhost:8080/"
        },
        "outputId": "fd93d9be-34c4-46c6-f740-cf63bc1e5ddd"
      },
      "source": [
        "g.groups"
      ],
      "execution_count": 142,
      "outputs": [
        {
          "output_type": "execute_result",
          "data": {
            "text/plain": [
              "{5: [1, 2], 7: [0]}"
            ]
          },
          "metadata": {
            "tags": []
          },
          "execution_count": 142
        }
      ]
    },
    {
      "cell_type": "markdown",
      "metadata": {
        "id": "0RN6Mo4Z_rCR"
      },
      "source": [
        "Nem csak oszlop szerint tudunk csoportosítani, hanem tetszőleges kifejezés szerint."
      ]
    },
    {
      "cell_type": "code",
      "metadata": {
        "id": "EctImVGM_rCR",
        "colab": {
          "base_uri": "https://localhost:8080/"
        },
        "outputId": "4edb82af-f92c-434e-db70-14228ffba6e3"
      },
      "source": [
        "credits.credit % 3"
      ],
      "execution_count": 143,
      "outputs": [
        {
          "output_type": "execute_result",
          "data": {
            "text/plain": [
              "0    1\n",
              "1    2\n",
              "2    2\n",
              "Name: credit, dtype: int64"
            ]
          },
          "metadata": {
            "tags": []
          },
          "execution_count": 143
        }
      ]
    },
    {
      "cell_type": "markdown",
      "metadata": {
        "id": "U4Hx8RQM_rCT"
      },
      "source": [
        "Eszerint groupby:"
      ]
    },
    {
      "cell_type": "code",
      "metadata": {
        "id": "z50CDSmM_rCT",
        "colab": {
          "base_uri": "https://localhost:8080/"
        },
        "outputId": "58b36806-abee-4cae-9efb-9d0692d40d7a"
      },
      "source": [
        "credits.groupby(credits.credit % 3)"
      ],
      "execution_count": 144,
      "outputs": [
        {
          "output_type": "execute_result",
          "data": {
            "text/plain": [
              "<pandas.core.groupby.generic.DataFrameGroupBy object at 0x7f38d6169f10>"
            ]
          },
          "metadata": {
            "tags": []
          },
          "execution_count": 144
        }
      ]
    },
    {
      "cell_type": "markdown",
      "metadata": {
        "id": "Zx0PiTAr_rCV"
      },
      "source": [
        "Csoportonként végezhetünk műveleteket:"
      ]
    },
    {
      "cell_type": "code",
      "metadata": {
        "id": "CgCK8oqI_rCW",
        "colab": {
          "base_uri": "https://localhost:8080/",
          "height": 0
        },
        "outputId": "ebf7f4fc-c85b-4033-98d1-5fce3a43bb6d"
      },
      "source": [
        "grades.groupby(\"semester\").mean()"
      ],
      "execution_count": 145,
      "outputs": [
        {
          "output_type": "execute_result",
          "data": {
            "text/html": [
              "<div>\n",
              "<style scoped>\n",
              "    .dataframe tbody tr th:only-of-type {\n",
              "        vertical-align: middle;\n",
              "    }\n",
              "\n",
              "    .dataframe tbody tr th {\n",
              "        vertical-align: top;\n",
              "    }\n",
              "\n",
              "    .dataframe thead th {\n",
              "        text-align: right;\n",
              "    }\n",
              "</style>\n",
              "<table border=\"1\" class=\"dataframe\">\n",
              "  <thead>\n",
              "    <tr style=\"text-align: right;\">\n",
              "      <th></th>\n",
              "      <th>grade</th>\n",
              "    </tr>\n",
              "    <tr>\n",
              "      <th>semester</th>\n",
              "      <th></th>\n",
              "    </tr>\n",
              "  </thead>\n",
              "  <tbody>\n",
              "    <tr>\n",
              "      <th>1</th>\n",
              "      <td>4.0</td>\n",
              "    </tr>\n",
              "    <tr>\n",
              "      <th>2</th>\n",
              "      <td>2.5</td>\n",
              "    </tr>\n",
              "    <tr>\n",
              "      <th>3</th>\n",
              "      <td>1.0</td>\n",
              "    </tr>\n",
              "  </tbody>\n",
              "</table>\n",
              "</div>"
            ],
            "text/plain": [
              "          grade\n",
              "semester       \n",
              "1           4.0\n",
              "2           2.5\n",
              "3           1.0"
            ]
          },
          "metadata": {
            "tags": []
          },
          "execution_count": 145
        }
      ]
    },
    {
      "cell_type": "markdown",
      "metadata": {
        "id": "_iEHz2q6_rCY"
      },
      "source": [
        "Egynél több oszlop szerint is csoportosíthatunk, ekkor az olszopok értékeinek összes kombinációja (direkt szorzat) szerepelni fog az indexben.\n",
        "\n",
        "A `size` függvénnyel az egyes csoportok elemeinek számát kérhetjük le."
      ]
    },
    {
      "cell_type": "code",
      "metadata": {
        "id": "acqGQWOV_rCY",
        "colab": {
          "base_uri": "https://localhost:8080/"
        },
        "outputId": "4d7542a5-56c7-4614-dcfd-ffae62a7c2bc"
      },
      "source": [
        "grades.groupby([\"semester\", \"teacher\"]).size()"
      ],
      "execution_count": 146,
      "outputs": [
        {
          "output_type": "execute_result",
          "data": {
            "text/plain": [
              "semester  teacher\n",
              "1         a          1\n",
              "          b          1\n",
              "          d          2\n",
              "2         a          1\n",
              "          c          1\n",
              "3         d          1\n",
              "dtype: int64"
            ]
          },
          "metadata": {
            "tags": []
          },
          "execution_count": 146
        }
      ]
    },
    {
      "cell_type": "markdown",
      "metadata": {
        "id": "dwmTJD55_rCa"
      },
      "source": [
        "Ismét `Series` objektumot kaphatunk. A könnyebb olvashatóság kedvéért `DataFrame`-é konvertálhatjuk:"
      ]
    },
    {
      "cell_type": "code",
      "metadata": {
        "id": "wkNhfjIQ_rCa",
        "colab": {
          "base_uri": "https://localhost:8080/",
          "height": 0
        },
        "outputId": "3acb4af7-a73b-43bc-d571-114eedb29af9"
      },
      "source": [
        "grades.groupby([\"semester\", \"teacher\"]).size().to_frame()"
      ],
      "execution_count": 147,
      "outputs": [
        {
          "output_type": "execute_result",
          "data": {
            "text/html": [
              "<div>\n",
              "<style scoped>\n",
              "    .dataframe tbody tr th:only-of-type {\n",
              "        vertical-align: middle;\n",
              "    }\n",
              "\n",
              "    .dataframe tbody tr th {\n",
              "        vertical-align: top;\n",
              "    }\n",
              "\n",
              "    .dataframe thead th {\n",
              "        text-align: right;\n",
              "    }\n",
              "</style>\n",
              "<table border=\"1\" class=\"dataframe\">\n",
              "  <thead>\n",
              "    <tr style=\"text-align: right;\">\n",
              "      <th></th>\n",
              "      <th></th>\n",
              "      <th>0</th>\n",
              "    </tr>\n",
              "    <tr>\n",
              "      <th>semester</th>\n",
              "      <th>teacher</th>\n",
              "      <th></th>\n",
              "    </tr>\n",
              "  </thead>\n",
              "  <tbody>\n",
              "    <tr>\n",
              "      <th rowspan=\"3\" valign=\"top\">1</th>\n",
              "      <th>a</th>\n",
              "      <td>1</td>\n",
              "    </tr>\n",
              "    <tr>\n",
              "      <th>b</th>\n",
              "      <td>1</td>\n",
              "    </tr>\n",
              "    <tr>\n",
              "      <th>d</th>\n",
              "      <td>2</td>\n",
              "    </tr>\n",
              "    <tr>\n",
              "      <th rowspan=\"2\" valign=\"top\">2</th>\n",
              "      <th>a</th>\n",
              "      <td>1</td>\n",
              "    </tr>\n",
              "    <tr>\n",
              "      <th>c</th>\n",
              "      <td>1</td>\n",
              "    </tr>\n",
              "    <tr>\n",
              "      <th>3</th>\n",
              "      <th>d</th>\n",
              "      <td>1</td>\n",
              "    </tr>\n",
              "  </tbody>\n",
              "</table>\n",
              "</div>"
            ],
            "text/plain": [
              "                  0\n",
              "semester teacher   \n",
              "1        a        1\n",
              "         b        1\n",
              "         d        2\n",
              "2        a        1\n",
              "         c        1\n",
              "3        d        1"
            ]
          },
          "metadata": {
            "tags": []
          },
          "execution_count": 147
        }
      ]
    },
    {
      "cell_type": "markdown",
      "metadata": {
        "id": "QObrmzb9_rCc"
      },
      "source": [
        "# Rendezés\n",
        "\n",
        "A `DataFrame`-eket többféleképpen rendezhetjük.\n",
        "\n",
        "Index szerint rendezve:"
      ]
    },
    {
      "cell_type": "code",
      "metadata": {
        "id": "kSNLBO0c_rCd",
        "colab": {
          "base_uri": "https://localhost:8080/",
          "height": 0
        },
        "outputId": "c3e653c9-b1e5-4479-c2a9-5d38881811cc"
      },
      "source": [
        "grades.sort_index()"
      ],
      "execution_count": 148,
      "outputs": [
        {
          "output_type": "execute_result",
          "data": {
            "text/html": [
              "<div>\n",
              "<style scoped>\n",
              "    .dataframe tbody tr th:only-of-type {\n",
              "        vertical-align: middle;\n",
              "    }\n",
              "\n",
              "    .dataframe tbody tr th {\n",
              "        vertical-align: top;\n",
              "    }\n",
              "\n",
              "    .dataframe thead th {\n",
              "        text-align: right;\n",
              "    }\n",
              "</style>\n",
              "<table border=\"1\" class=\"dataframe\">\n",
              "  <thead>\n",
              "    <tr style=\"text-align: right;\">\n",
              "      <th></th>\n",
              "      <th>grade</th>\n",
              "      <th>teacher</th>\n",
              "      <th>semester</th>\n",
              "    </tr>\n",
              "    <tr>\n",
              "      <th>subject</th>\n",
              "      <th></th>\n",
              "      <th></th>\n",
              "      <th></th>\n",
              "    </tr>\n",
              "  </thead>\n",
              "  <tbody>\n",
              "    <tr>\n",
              "      <th>analízis 1</th>\n",
              "      <td>3</td>\n",
              "      <td>a</td>\n",
              "      <td>1</td>\n",
              "    </tr>\n",
              "    <tr>\n",
              "      <th>bevezetés a számításelméletbe 1</th>\n",
              "      <td>4</td>\n",
              "      <td>d</td>\n",
              "      <td>1</td>\n",
              "    </tr>\n",
              "    <tr>\n",
              "      <th>digitális technika 1</th>\n",
              "      <td>4</td>\n",
              "      <td>b</td>\n",
              "      <td>1</td>\n",
              "    </tr>\n",
              "    <tr>\n",
              "      <th>fizika 1</th>\n",
              "      <td>3</td>\n",
              "      <td>a</td>\n",
              "      <td>2</td>\n",
              "    </tr>\n",
              "    <tr>\n",
              "      <th>mikmak</th>\n",
              "      <td>2</td>\n",
              "      <td>c</td>\n",
              "      <td>2</td>\n",
              "    </tr>\n",
              "    <tr>\n",
              "      <th>programozás alapjai 1</th>\n",
              "      <td>5</td>\n",
              "      <td>d</td>\n",
              "      <td>1</td>\n",
              "    </tr>\n",
              "    <tr>\n",
              "      <th>szoftvertechonológia</th>\n",
              "      <td>1</td>\n",
              "      <td>d</td>\n",
              "      <td>3</td>\n",
              "    </tr>\n",
              "  </tbody>\n",
              "</table>\n",
              "</div>"
            ],
            "text/plain": [
              "                                 grade teacher  semester\n",
              "subject                                                 \n",
              "analízis 1                           3       a         1\n",
              "bevezetés a számításelméletbe 1      4       d         1\n",
              "digitális technika 1                 4       b         1\n",
              "fizika 1                             3       a         2\n",
              "mikmak                               2       c         2\n",
              "programozás alapjai 1                5       d         1\n",
              "szoftvertechonológia                 1       d         3"
            ]
          },
          "metadata": {
            "tags": []
          },
          "execution_count": 148
        }
      ]
    },
    {
      "cell_type": "markdown",
      "metadata": {
        "id": "8hAj8GGo_rCe"
      },
      "source": [
        "Illetve egy vagy több oszlop szerint rendezve:"
      ]
    },
    {
      "cell_type": "code",
      "metadata": {
        "id": "_bXspnzF_rCe",
        "colab": {
          "base_uri": "https://localhost:8080/",
          "height": 0
        },
        "outputId": "41f09548-ab56-4caa-85e2-798e5fe5b1f9"
      },
      "source": [
        "grades.sort_values(['grade', 'semester'])"
      ],
      "execution_count": 149,
      "outputs": [
        {
          "output_type": "execute_result",
          "data": {
            "text/html": [
              "<div>\n",
              "<style scoped>\n",
              "    .dataframe tbody tr th:only-of-type {\n",
              "        vertical-align: middle;\n",
              "    }\n",
              "\n",
              "    .dataframe tbody tr th {\n",
              "        vertical-align: top;\n",
              "    }\n",
              "\n",
              "    .dataframe thead th {\n",
              "        text-align: right;\n",
              "    }\n",
              "</style>\n",
              "<table border=\"1\" class=\"dataframe\">\n",
              "  <thead>\n",
              "    <tr style=\"text-align: right;\">\n",
              "      <th></th>\n",
              "      <th>grade</th>\n",
              "      <th>teacher</th>\n",
              "      <th>semester</th>\n",
              "    </tr>\n",
              "    <tr>\n",
              "      <th>subject</th>\n",
              "      <th></th>\n",
              "      <th></th>\n",
              "      <th></th>\n",
              "    </tr>\n",
              "  </thead>\n",
              "  <tbody>\n",
              "    <tr>\n",
              "      <th>szoftvertechonológia</th>\n",
              "      <td>1</td>\n",
              "      <td>d</td>\n",
              "      <td>3</td>\n",
              "    </tr>\n",
              "    <tr>\n",
              "      <th>mikmak</th>\n",
              "      <td>2</td>\n",
              "      <td>c</td>\n",
              "      <td>2</td>\n",
              "    </tr>\n",
              "    <tr>\n",
              "      <th>analízis 1</th>\n",
              "      <td>3</td>\n",
              "      <td>a</td>\n",
              "      <td>1</td>\n",
              "    </tr>\n",
              "    <tr>\n",
              "      <th>fizika 1</th>\n",
              "      <td>3</td>\n",
              "      <td>a</td>\n",
              "      <td>2</td>\n",
              "    </tr>\n",
              "    <tr>\n",
              "      <th>digitális technika 1</th>\n",
              "      <td>4</td>\n",
              "      <td>b</td>\n",
              "      <td>1</td>\n",
              "    </tr>\n",
              "    <tr>\n",
              "      <th>bevezetés a számításelméletbe 1</th>\n",
              "      <td>4</td>\n",
              "      <td>d</td>\n",
              "      <td>1</td>\n",
              "    </tr>\n",
              "    <tr>\n",
              "      <th>programozás alapjai 1</th>\n",
              "      <td>5</td>\n",
              "      <td>d</td>\n",
              "      <td>1</td>\n",
              "    </tr>\n",
              "  </tbody>\n",
              "</table>\n",
              "</div>"
            ],
            "text/plain": [
              "                                 grade teacher  semester\n",
              "subject                                                 \n",
              "szoftvertechonológia                 1       d         3\n",
              "mikmak                               2       c         2\n",
              "analízis 1                           3       a         1\n",
              "fizika 1                             3       a         2\n",
              "digitális technika 1                 4       b         1\n",
              "bevezetés a számításelméletbe 1      4       d         1\n",
              "programozás alapjai 1                5       d         1"
            ]
          },
          "metadata": {
            "tags": []
          },
          "execution_count": 149
        }
      ]
    },
    {
      "cell_type": "markdown",
      "metadata": {
        "id": "D4Gc8o6V_rCg"
      },
      "source": [
        "Fordított sorrendben:"
      ]
    },
    {
      "cell_type": "code",
      "metadata": {
        "id": "zodwGQj5_rCg",
        "colab": {
          "base_uri": "https://localhost:8080/",
          "height": 0
        },
        "outputId": "f51e0b2a-2557-48a6-c1dd-d786f7a9be00"
      },
      "source": [
        "grades.sort_index(ascending=False)"
      ],
      "execution_count": 150,
      "outputs": [
        {
          "output_type": "execute_result",
          "data": {
            "text/html": [
              "<div>\n",
              "<style scoped>\n",
              "    .dataframe tbody tr th:only-of-type {\n",
              "        vertical-align: middle;\n",
              "    }\n",
              "\n",
              "    .dataframe tbody tr th {\n",
              "        vertical-align: top;\n",
              "    }\n",
              "\n",
              "    .dataframe thead th {\n",
              "        text-align: right;\n",
              "    }\n",
              "</style>\n",
              "<table border=\"1\" class=\"dataframe\">\n",
              "  <thead>\n",
              "    <tr style=\"text-align: right;\">\n",
              "      <th></th>\n",
              "      <th>grade</th>\n",
              "      <th>teacher</th>\n",
              "      <th>semester</th>\n",
              "    </tr>\n",
              "    <tr>\n",
              "      <th>subject</th>\n",
              "      <th></th>\n",
              "      <th></th>\n",
              "      <th></th>\n",
              "    </tr>\n",
              "  </thead>\n",
              "  <tbody>\n",
              "    <tr>\n",
              "      <th>szoftvertechonológia</th>\n",
              "      <td>1</td>\n",
              "      <td>d</td>\n",
              "      <td>3</td>\n",
              "    </tr>\n",
              "    <tr>\n",
              "      <th>programozás alapjai 1</th>\n",
              "      <td>5</td>\n",
              "      <td>d</td>\n",
              "      <td>1</td>\n",
              "    </tr>\n",
              "    <tr>\n",
              "      <th>mikmak</th>\n",
              "      <td>2</td>\n",
              "      <td>c</td>\n",
              "      <td>2</td>\n",
              "    </tr>\n",
              "    <tr>\n",
              "      <th>fizika 1</th>\n",
              "      <td>3</td>\n",
              "      <td>a</td>\n",
              "      <td>2</td>\n",
              "    </tr>\n",
              "    <tr>\n",
              "      <th>digitális technika 1</th>\n",
              "      <td>4</td>\n",
              "      <td>b</td>\n",
              "      <td>1</td>\n",
              "    </tr>\n",
              "    <tr>\n",
              "      <th>bevezetés a számításelméletbe 1</th>\n",
              "      <td>4</td>\n",
              "      <td>d</td>\n",
              "      <td>1</td>\n",
              "    </tr>\n",
              "    <tr>\n",
              "      <th>analízis 1</th>\n",
              "      <td>3</td>\n",
              "      <td>a</td>\n",
              "      <td>1</td>\n",
              "    </tr>\n",
              "  </tbody>\n",
              "</table>\n",
              "</div>"
            ],
            "text/plain": [
              "                                 grade teacher  semester\n",
              "subject                                                 \n",
              "szoftvertechonológia                 1       d         3\n",
              "programozás alapjai 1                5       d         1\n",
              "mikmak                               2       c         2\n",
              "fizika 1                             3       a         2\n",
              "digitális technika 1                 4       b         1\n",
              "bevezetés a számításelméletbe 1      4       d         1\n",
              "analízis 1                           3       a         1"
            ]
          },
          "metadata": {
            "tags": []
          },
          "execution_count": 150
        }
      ]
    },
    {
      "cell_type": "markdown",
      "metadata": {
        "id": "THUPw4_r_rCi"
      },
      "source": [
        "# Vizualizáció (plot)\n",
        "\n",
        "A matplotlib modullal együttműködve rengeteg vizualizációs lehetőségünk van."
      ]
    },
    {
      "cell_type": "code",
      "metadata": {
        "id": "tC1gL20L_rCj",
        "colab": {
          "base_uri": "https://localhost:8080/",
          "height": 0
        },
        "outputId": "23c5f5fa-3fb6-4bd5-cfb5-419f3cdc1ba9"
      },
      "source": [
        "grades.plot(y='grade')"
      ],
      "execution_count": 151,
      "outputs": [
        {
          "output_type": "execute_result",
          "data": {
            "text/plain": [
              "<matplotlib.axes._subplots.AxesSubplot at 0x7f38d617b510>"
            ]
          },
          "metadata": {
            "tags": []
          },
          "execution_count": 151
        },
        {
          "output_type": "display_data",
          "data": {
            "image/png": "[encoded data removed]",
            "text/plain": [
              "<Figure size 1080x216 with 1 Axes>"
            ]
          },
          "metadata": {
            "tags": []
          }
        }
      ]
    },
    {
      "cell_type": "markdown",
      "metadata": {
        "id": "nTMoQu72_rCm"
      },
      "source": [
        "Az oszlopdiagramnak több értelme lenne:"
      ]
    },
    {
      "cell_type": "code",
      "metadata": {
        "id": "lxVRM2BN_rCm",
        "colab": {
          "base_uri": "https://localhost:8080/",
          "height": 0
        },
        "outputId": "b3b1e83e-fdff-4699-c33d-49121d20ebd7"
      },
      "source": [
        "grades.plot(y='grade', kind='bar')"
      ],
      "execution_count": 152,
      "outputs": [
        {
          "output_type": "execute_result",
          "data": {
            "text/plain": [
              "<matplotlib.axes._subplots.AxesSubplot at 0x7f38d6059850>"
            ]
          },
          "metadata": {
            "tags": []
          },
          "execution_count": 152
        },
        {
          "output_type": "display_data",
          "data": {
            "image/png": "[encoded data removed]",
            "text/plain": [
              "<Figure size 1080x216 with 1 Axes>"
            ]
          },
          "metadata": {
            "tags": []
          }
        }
      ]
    },
    {
      "cell_type": "markdown",
      "metadata": {
        "id": "Sy4uMt15_rCo"
      },
      "source": [
        "Nem adtuk meg az x tengelyt, ekkor automatikusan a DataFrame indexét használja, ami ebben az esetben a tárgyakat jelenti.\n",
        "\n",
        "Ábrázolhatnánk félév szerint is egy scatter ploton."
      ]
    },
    {
      "cell_type": "code",
      "metadata": {
        "id": "Wwn1bQVB_rCo",
        "colab": {
          "base_uri": "https://localhost:8080/",
          "height": 0
        },
        "outputId": "0054af43-80a2-4030-969e-de26231694ca"
      },
      "source": [
        "grades.plot(x='semester', y='grade', kind='scatter')"
      ],
      "execution_count": 153,
      "outputs": [
        {
          "output_type": "execute_result",
          "data": {
            "text/plain": [
              "<matplotlib.axes._subplots.AxesSubplot at 0x7f38d5fd7690>"
            ]
          },
          "metadata": {
            "tags": []
          },
          "execution_count": 153
        },
        {
          "output_type": "display_data",
          "data": {
            "image/png": "[encoded data removed]",
            "text/plain": [
              "<Figure size 1080x216 with 1 Axes>"
            ]
          },
          "metadata": {
            "tags": []
          }
        }
      ]
    },
    {
      "cell_type": "markdown",
      "metadata": {
        "id": "2-LkZO2v_rCp"
      },
      "source": [
        "## Amire érdemes figyelni (GOTCHAs)\n",
        "\n",
        "### Minden művelet új DataFrame-et ad vissza\n",
        "\n",
        "Szinte minden művelet alapértelmezetten egy új DataFrame-mel tér vissza, nem módosítja a paramétereit. Ezt el kell tárolnunk, ha használni akarjuk.\n",
        "\n",
        "### Egy cellában az utolsó kifejezés visszatérési értéke kiíródik, de a többi nem\n",
        "\n",
        "Ha a többit is szeretnénk kiírni, használjuk a print függvényt."
      ]
    },
    {
      "cell_type": "markdown",
      "metadata": {
        "id": "Yb0KWAz_Biby"
      },
      "source": [
        "#Feladatok (MovieLens)"
      ]
    },
    {
      "cell_type": "code",
      "metadata": {
        "id": "WFCjQdUzBnWH"
      },
      "source": [
        "import pandas as pd  # konvenció szerint pd aliast használunk\n",
        "%matplotlib inline\n",
        "import matplotlib\n",
        "import numpy as np\n",
        "\n",
        "# tegyük szebbé a grafikonokat\n",
        "matplotlib.style.use('ggplot')\n",
        "matplotlib.pyplot.rcParams['figure.figsize'] = (15, 3)\n",
        "matplotlib.pyplot.rcParams['font.family'] = 'sans-serif'"
      ],
      "execution_count": 154,
      "outputs": []
    },
    {
      "cell_type": "markdown",
      "metadata": {
        "id": "pmojn5SjDCeB"
      },
      "source": [
        "A MovieLens adatsorral fogunk dolgozni, de először le kell töltenünk. http://grouplens.org/datasets/movielens/\n",
        "\n",
        "Csak akkor töltjük le a fájlt, ha még nem létezik."
      ]
    },
    {
      "cell_type": "code",
      "metadata": {
        "id": "E53BS2W6DCeC"
      },
      "source": [
        "import os\n",
        "import urllib.request\n",
        "\n",
        "data_dir = os.getenv(\"MOVIELENS\")\n",
        "if data_dir is None:\n",
        "    data_dir = \"\"\n",
        "\n",
        "ml_path = os.path.join(data_dir, \"ml.zip\")\n",
        "\n",
        "if not os.path.exists(ml_path):\n",
        "    print(\"Download data\")\n",
        "    import urllib\n",
        "    u = urllib.request.URLopener()\n",
        "    u.retrieve(\"http://files.grouplens.org/datasets/movielens/ml-100k.zip\", ml_path)\n",
        "    print(\"Data downloaded\")"
      ],
      "execution_count": 155,
      "outputs": []
    },
    {
      "cell_type": "markdown",
      "metadata": {
        "id": "IHglULlEDCeE"
      },
      "source": [
        "Kicsomagoljuk a zip fájlt:"
      ]
    },
    {
      "cell_type": "code",
      "metadata": {
        "id": "IyRiN0FKDCeF"
      },
      "source": [
        "unzip_path = os.path.join(data_dir, \"ml-100k\")\n",
        "\n",
        "if not os.path.exists(unzip_path):\n",
        "    print(\"Extracting data\")\n",
        "    from zipfile import ZipFile\n",
        "    with ZipFile(ml_path) as myzip:\n",
        "        myzip.extractall(data_dir)\n",
        "    print(\"Data extraction done\")\n",
        "        \n",
        "data_dir = unzip_path"
      ],
      "execution_count": 156,
      "outputs": []
    },
    {
      "cell_type": "markdown",
      "metadata": {
        "id": "JaxPIvI5DCeI"
      },
      "source": [
        "## Adat betöltése és normalizálása\n",
        "\n",
        "A `pd.read_table` függvény táblázatos adatok betöltésére alkalmas. Több tucat paraméterrel [rendelkezik](http://pandas.pydata.org/pandas-docs/stable/generated/pandas.read_table.html), de csak egy kötelező paramétere van: a fájl, amit beolvasunk.\n",
        "A karakterkódolást is meg kell adnunk, mert a fájl nem az alapértelmezett (utf-8) kódolást használja, hanem az ISO-8859-1-et, vagy köznéven a latin1-et."
      ]
    },
    {
      "cell_type": "code",
      "metadata": {
        "id": "J4eWTL3PDCeJ",
        "colab": {
          "base_uri": "https://localhost:8080/",
          "height": 0
        },
        "outputId": "3b8fd793-4922-45a4-eda9-0f3f0b93d419"
      },
      "source": [
        "# df = pd.read_table(\"ml-100k/u.item\")  # UnicodeDecodeErrort kapunk, mert rossz dekódert használ\n",
        "df = pd.read_table(os.path.join(data_dir, \"u.item\"), encoding=\"latin1\")\n",
        "df.head()"
      ],
      "execution_count": 157,
      "outputs": [
        {
          "output_type": "execute_result",
          "data": {
            "text/html": [
              "<div>\n",
              "<style scoped>\n",
              "    .dataframe tbody tr th:only-of-type {\n",
              "        vertical-align: middle;\n",
              "    }\n",
              "\n",
              "    .dataframe tbody tr th {\n",
              "        vertical-align: top;\n",
              "    }\n",
              "\n",
              "    .dataframe thead th {\n",
              "        text-align: right;\n",
              "    }\n",
              "</style>\n",
              "<table border=\"1\" class=\"dataframe\">\n",
              "  <thead>\n",
              "    <tr style=\"text-align: right;\">\n",
              "      <th></th>\n",
              "      <th>1|Toy Story (1995)|01-Jan-1995||http://us.imdb.com/M/title-exact?Toy%20Story%20(1995)|0|0|0|1|1|1|0|0|0|0|0|0|0|0|0|0|0|0|0</th>\n",
              "    </tr>\n",
              "  </thead>\n",
              "  <tbody>\n",
              "    <tr>\n",
              "      <th>0</th>\n",
              "      <td>2|GoldenEye (1995)|01-Jan-1995||http://us.imdb...</td>\n",
              "    </tr>\n",
              "    <tr>\n",
              "      <th>1</th>\n",
              "      <td>3|Four Rooms (1995)|01-Jan-1995||http://us.imd...</td>\n",
              "    </tr>\n",
              "    <tr>\n",
              "      <th>2</th>\n",
              "      <td>4|Get Shorty (1995)|01-Jan-1995||http://us.imd...</td>\n",
              "    </tr>\n",
              "    <tr>\n",
              "      <th>3</th>\n",
              "      <td>5|Copycat (1995)|01-Jan-1995||http://us.imdb.c...</td>\n",
              "    </tr>\n",
              "    <tr>\n",
              "      <th>4</th>\n",
              "      <td>6|Shanghai Triad (Yao a yao yao dao waipo qiao...</td>\n",
              "    </tr>\n",
              "  </tbody>\n",
              "</table>\n",
              "</div>"
            ],
            "text/plain": [
              "  1|Toy Story (1995)|01-Jan-1995||http://us.imdb.com/M/title-exact?Toy%20Story%20(1995)|0|0|0|1|1|1|0|0|0|0|0|0|0|0|0|0|0|0|0\n",
              "0  2|GoldenEye (1995)|01-Jan-1995||http://us.imdb...                                                                         \n",
              "1  3|Four Rooms (1995)|01-Jan-1995||http://us.imd...                                                                         \n",
              "2  4|Get Shorty (1995)|01-Jan-1995||http://us.imd...                                                                         \n",
              "3  5|Copycat (1995)|01-Jan-1995||http://us.imdb.c...                                                                         \n",
              "4  6|Shanghai Triad (Yao a yao yao dao waipo qiao...                                                                         "
            ]
          },
          "metadata": {
            "tags": []
          },
          "execution_count": 157
        }
      ]
    },
    {
      "cell_type": "markdown",
      "metadata": {
        "id": "ZuUxzl4wDCeM"
      },
      "source": [
        "Ez még elég rosszul néz ki. Hogyan tudnánk javítani?\n",
        "1. Rossz szeparátort használt a függvény (tab az alapértelmezett). A fájlban | a szeparátor. Ezt a `sep` paraméterrel tudjuk megadni.\n",
        "1. A fájl első sora került az oszlopnevek helyére. Az oszlopok valódi nevei a README fájlból derülnek ki, amit kézzel megadhatjuk a read_table-nek a `names` paraméterben.\n",
        "1. A read_table automatikusan generált egy id-t minden sornak, azonban az adatfájlban a filmek már rendelkeznek egy egyedi azonosítóval (movie_id), használjuk ezt a DataFrame indexeként (`index_col` paraméter). Célszerű szóköz nélküli, kisbetűs oszlopneveket használni, mert akkor attribútumként is elérjük őket (`df.release_date`)."
      ]
    },
    {
      "cell_type": "code",
      "metadata": {
        "id": "h8tGmZvQDCeM"
      },
      "source": [
        "column_names = [\n",
        "    \"movie_id\", \"title\", \"release_date\", \"video_release_date\", \"imdb_url\", \"unknown\", \"action\", \"adventure\", \"animation\",\n",
        "    \"children\", \"comedy\", \"crime\", \"documentary\", \"drama\", \"fantasy\", \"film_noir\", \"horror\", \"musical\", \"mystery\",\n",
        "    \"romance\", \"sci_fi\", \"thriller\", \"war\", \"western\"]"
      ],
      "execution_count": 158,
      "outputs": []
    },
    {
      "cell_type": "code",
      "metadata": {
        "id": "HOFoNmFhDCeP",
        "colab": {
          "base_uri": "https://localhost:8080/",
          "height": 0
        },
        "outputId": "b9051b90-caed-4e36-d684-b24b330471d1"
      },
      "source": [
        "df = pd.read_table(\n",
        "    os.path.join(data_dir, \"u.item\"), sep=\"|\",\n",
        "    names=column_names, encoding=\"latin1\", index_col='movie_id')\n",
        "df.head()"
      ],
      "execution_count": 159,
      "outputs": [
        {
          "output_type": "execute_result",
          "data": {
            "text/html": [
              "<div>\n",
              "<style scoped>\n",
              "    .dataframe tbody tr th:only-of-type {\n",
              "        vertical-align: middle;\n",
              "    }\n",
              "\n",
              "    .dataframe tbody tr th {\n",
              "        vertical-align: top;\n",
              "    }\n",
              "\n",
              "    .dataframe thead th {\n",
              "        text-align: right;\n",
              "    }\n",
              "</style>\n",
              "<table border=\"1\" class=\"dataframe\">\n",
              "  <thead>\n",
              "    <tr style=\"text-align: right;\">\n",
              "      <th></th>\n",
              "      <th>title</th>\n",
              "      <th>release_date</th>\n",
              "      <th>video_release_date</th>\n",
              "      <th>imdb_url</th>\n",
              "      <th>unknown</th>\n",
              "      <th>action</th>\n",
              "      <th>adventure</th>\n",
              "      <th>animation</th>\n",
              "      <th>children</th>\n",
              "      <th>comedy</th>\n",
              "      <th>crime</th>\n",
              "      <th>documentary</th>\n",
              "      <th>drama</th>\n",
              "      <th>fantasy</th>\n",
              "      <th>film_noir</th>\n",
              "      <th>horror</th>\n",
              "      <th>musical</th>\n",
              "      <th>mystery</th>\n",
              "      <th>romance</th>\n",
              "      <th>sci_fi</th>\n",
              "      <th>thriller</th>\n",
              "      <th>war</th>\n",
              "      <th>western</th>\n",
              "    </tr>\n",
              "    <tr>\n",
              "      <th>movie_id</th>\n",
              "      <th></th>\n",
              "      <th></th>\n",
              "      <th></th>\n",
              "      <th></th>\n",
              "      <th></th>\n",
              "      <th></th>\n",
              "      <th></th>\n",
              "      <th></th>\n",
              "      <th></th>\n",
              "      <th></th>\n",
              "      <th></th>\n",
              "      <th></th>\n",
              "      <th></th>\n",
              "      <th></th>\n",
              "      <th></th>\n",
              "      <th></th>\n",
              "      <th></th>\n",
              "      <th></th>\n",
              "      <th></th>\n",
              "      <th></th>\n",
              "      <th></th>\n",
              "      <th></th>\n",
              "      <th></th>\n",
              "    </tr>\n",
              "  </thead>\n",
              "  <tbody>\n",
              "    <tr>\n",
              "      <th>1</th>\n",
              "      <td>Toy Story (1995)</td>\n",
              "      <td>01-Jan-1995</td>\n",
              "      <td>NaN</td>\n",
              "      <td>http://us.imdb.com/M/title-exact?Toy%20Story%2...</td>\n",
              "      <td>0</td>\n",
              "      <td>0</td>\n",
              "      <td>0</td>\n",
              "      <td>1</td>\n",
              "      <td>1</td>\n",
              "      <td>1</td>\n",
              "      <td>0</td>\n",
              "      <td>0</td>\n",
              "      <td>0</td>\n",
              "      <td>0</td>\n",
              "      <td>0</td>\n",
              "      <td>0</td>\n",
              "      <td>0</td>\n",
              "      <td>0</td>\n",
              "      <td>0</td>\n",
              "      <td>0</td>\n",
              "      <td>0</td>\n",
              "      <td>0</td>\n",
              "      <td>0</td>\n",
              "    </tr>\n",
              "    <tr>\n",
              "      <th>2</th>\n",
              "      <td>GoldenEye (1995)</td>\n",
              "      <td>01-Jan-1995</td>\n",
              "      <td>NaN</td>\n",
              "      <td>http://us.imdb.com/M/title-exact?GoldenEye%20(...</td>\n",
              "      <td>0</td>\n",
              "      <td>1</td>\n",
              "      <td>1</td>\n",
              "      <td>0</td>\n",
              "      <td>0</td>\n",
              "      <td>0</td>\n",
              "      <td>0</td>\n",
              "      <td>0</td>\n",
              "      <td>0</td>\n",
              "      <td>0</td>\n",
              "      <td>0</td>\n",
              "      <td>0</td>\n",
              "      <td>0</td>\n",
              "      <td>0</td>\n",
              "      <td>0</td>\n",
              "      <td>0</td>\n",
              "      <td>1</td>\n",
              "      <td>0</td>\n",
              "      <td>0</td>\n",
              "    </tr>\n",
              "    <tr>\n",
              "      <th>3</th>\n",
              "      <td>Four Rooms (1995)</td>\n",
              "      <td>01-Jan-1995</td>\n",
              "      <td>NaN</td>\n",
              "      <td>http://us.imdb.com/M/title-exact?Four%20Rooms%...</td>\n",
              "      <td>0</td>\n",
              "      <td>0</td>\n",
              "      <td>0</td>\n",
              "      <td>0</td>\n",
              "      <td>0</td>\n",
              "      <td>0</td>\n",
              "      <td>0</td>\n",
              "      <td>0</td>\n",
              "      <td>0</td>\n",
              "      <td>0</td>\n",
              "      <td>0</td>\n",
              "      <td>0</td>\n",
              "      <td>0</td>\n",
              "      <td>0</td>\n",
              "      <td>0</td>\n",
              "      <td>0</td>\n",
              "      <td>1</td>\n",
              "      <td>0</td>\n",
              "      <td>0</td>\n",
              "    </tr>\n",
              "    <tr>\n",
              "      <th>4</th>\n",
              "      <td>Get Shorty (1995)</td>\n",
              "      <td>01-Jan-1995</td>\n",
              "      <td>NaN</td>\n",
              "      <td>http://us.imdb.com/M/title-exact?Get%20Shorty%...</td>\n",
              "      <td>0</td>\n",
              "      <td>1</td>\n",
              "      <td>0</td>\n",
              "      <td>0</td>\n",
              "      <td>0</td>\n",
              "      <td>1</td>\n",
              "      <td>0</td>\n",
              "      <td>0</td>\n",
              "      <td>1</td>\n",
              "      <td>0</td>\n",
              "      <td>0</td>\n",
              "      <td>0</td>\n",
              "      <td>0</td>\n",
              "      <td>0</td>\n",
              "      <td>0</td>\n",
              "      <td>0</td>\n",
              "      <td>0</td>\n",
              "      <td>0</td>\n",
              "      <td>0</td>\n",
              "    </tr>\n",
              "    <tr>\n",
              "      <th>5</th>\n",
              "      <td>Copycat (1995)</td>\n",
              "      <td>01-Jan-1995</td>\n",
              "      <td>NaN</td>\n",
              "      <td>http://us.imdb.com/M/title-exact?Copycat%20(1995)</td>\n",
              "      <td>0</td>\n",
              "      <td>0</td>\n",
              "      <td>0</td>\n",
              "      <td>0</td>\n",
              "      <td>0</td>\n",
              "      <td>0</td>\n",
              "      <td>1</td>\n",
              "      <td>0</td>\n",
              "      <td>1</td>\n",
              "      <td>0</td>\n",
              "      <td>0</td>\n",
              "      <td>0</td>\n",
              "      <td>0</td>\n",
              "      <td>0</td>\n",
              "      <td>0</td>\n",
              "      <td>0</td>\n",
              "      <td>1</td>\n",
              "      <td>0</td>\n",
              "      <td>0</td>\n",
              "    </tr>\n",
              "  </tbody>\n",
              "</table>\n",
              "</div>"
            ],
            "text/plain": [
              "                      title release_date  ...  war western\n",
              "movie_id                                  ...             \n",
              "1          Toy Story (1995)  01-Jan-1995  ...    0       0\n",
              "2          GoldenEye (1995)  01-Jan-1995  ...    0       0\n",
              "3         Four Rooms (1995)  01-Jan-1995  ...    0       0\n",
              "4         Get Shorty (1995)  01-Jan-1995  ...    0       0\n",
              "5            Copycat (1995)  01-Jan-1995  ...    0       0\n",
              "\n",
              "[5 rows x 23 columns]"
            ]
          },
          "metadata": {
            "tags": []
          },
          "execution_count": 159
        }
      ]
    },
    {
      "cell_type": "markdown",
      "metadata": {
        "id": "Tu3lC6DQDCeR"
      },
      "source": [
        "Két oszlop is van, amik dátumot jelölnek: `release_date, video_release_date`. A pandas parszolni tudja a dátumokat többféle népszerű formátumban, ehhez csak a `parse_dates` paraméterben kell megadnunk a dátumot tartalmazó oszlopokat. Figyeljük meg, hogy ahol nincs dátum, az Nan (not a number)-ről NaT-ra (not a time) változik."
      ]
    },
    {
      "cell_type": "code",
      "metadata": {
        "id": "OfQpCw0gDCeR",
        "colab": {
          "base_uri": "https://localhost:8080/",
          "height": 0
        },
        "outputId": "c0ded83f-3ae8-4fef-d67d-b29c52735bd0"
      },
      "source": [
        "df = pd.read_table(os.path.join(data_dir, \"u.item\"), sep=\"|\",\n",
        "                   names=column_names, encoding=\"latin1\",\n",
        "                   parse_dates=[2,3], index_col='movie_id')\n",
        "df.head()"
      ],
      "execution_count": 160,
      "outputs": [
        {
          "output_type": "execute_result",
          "data": {
            "text/html": [
              "<div>\n",
              "<style scoped>\n",
              "    .dataframe tbody tr th:only-of-type {\n",
              "        vertical-align: middle;\n",
              "    }\n",
              "\n",
              "    .dataframe tbody tr th {\n",
              "        vertical-align: top;\n",
              "    }\n",
              "\n",
              "    .dataframe thead th {\n",
              "        text-align: right;\n",
              "    }\n",
              "</style>\n",
              "<table border=\"1\" class=\"dataframe\">\n",
              "  <thead>\n",
              "    <tr style=\"text-align: right;\">\n",
              "      <th></th>\n",
              "      <th>title</th>\n",
              "      <th>release_date</th>\n",
              "      <th>video_release_date</th>\n",
              "      <th>imdb_url</th>\n",
              "      <th>unknown</th>\n",
              "      <th>action</th>\n",
              "      <th>adventure</th>\n",
              "      <th>animation</th>\n",
              "      <th>children</th>\n",
              "      <th>comedy</th>\n",
              "      <th>crime</th>\n",
              "      <th>documentary</th>\n",
              "      <th>drama</th>\n",
              "      <th>fantasy</th>\n",
              "      <th>film_noir</th>\n",
              "      <th>horror</th>\n",
              "      <th>musical</th>\n",
              "      <th>mystery</th>\n",
              "      <th>romance</th>\n",
              "      <th>sci_fi</th>\n",
              "      <th>thriller</th>\n",
              "      <th>war</th>\n",
              "      <th>western</th>\n",
              "    </tr>\n",
              "    <tr>\n",
              "      <th>movie_id</th>\n",
              "      <th></th>\n",
              "      <th></th>\n",
              "      <th></th>\n",
              "      <th></th>\n",
              "      <th></th>\n",
              "      <th></th>\n",
              "      <th></th>\n",
              "      <th></th>\n",
              "      <th></th>\n",
              "      <th></th>\n",
              "      <th></th>\n",
              "      <th></th>\n",
              "      <th></th>\n",
              "      <th></th>\n",
              "      <th></th>\n",
              "      <th></th>\n",
              "      <th></th>\n",
              "      <th></th>\n",
              "      <th></th>\n",
              "      <th></th>\n",
              "      <th></th>\n",
              "      <th></th>\n",
              "      <th></th>\n",
              "    </tr>\n",
              "  </thead>\n",
              "  <tbody>\n",
              "    <tr>\n",
              "      <th>1</th>\n",
              "      <td>Toy Story (1995)</td>\n",
              "      <td>1995-01-01</td>\n",
              "      <td>NaT</td>\n",
              "      <td>http://us.imdb.com/M/title-exact?Toy%20Story%2...</td>\n",
              "      <td>0</td>\n",
              "      <td>0</td>\n",
              "      <td>0</td>\n",
              "      <td>1</td>\n",
              "      <td>1</td>\n",
              "      <td>1</td>\n",
              "      <td>0</td>\n",
              "      <td>0</td>\n",
              "      <td>0</td>\n",
              "      <td>0</td>\n",
              "      <td>0</td>\n",
              "      <td>0</td>\n",
              "      <td>0</td>\n",
              "      <td>0</td>\n",
              "      <td>0</td>\n",
              "      <td>0</td>\n",
              "      <td>0</td>\n",
              "      <td>0</td>\n",
              "      <td>0</td>\n",
              "    </tr>\n",
              "    <tr>\n",
              "      <th>2</th>\n",
              "      <td>GoldenEye (1995)</td>\n",
              "      <td>1995-01-01</td>\n",
              "      <td>NaT</td>\n",
              "      <td>http://us.imdb.com/M/title-exact?GoldenEye%20(...</td>\n",
              "      <td>0</td>\n",
              "      <td>1</td>\n",
              "      <td>1</td>\n",
              "      <td>0</td>\n",
              "      <td>0</td>\n",
              "      <td>0</td>\n",
              "      <td>0</td>\n",
              "      <td>0</td>\n",
              "      <td>0</td>\n",
              "      <td>0</td>\n",
              "      <td>0</td>\n",
              "      <td>0</td>\n",
              "      <td>0</td>\n",
              "      <td>0</td>\n",
              "      <td>0</td>\n",
              "      <td>0</td>\n",
              "      <td>1</td>\n",
              "      <td>0</td>\n",
              "      <td>0</td>\n",
              "    </tr>\n",
              "    <tr>\n",
              "      <th>3</th>\n",
              "      <td>Four Rooms (1995)</td>\n",
              "      <td>1995-01-01</td>\n",
              "      <td>NaT</td>\n",
              "      <td>http://us.imdb.com/M/title-exact?Four%20Rooms%...</td>\n",
              "      <td>0</td>\n",
              "      <td>0</td>\n",
              "      <td>0</td>\n",
              "      <td>0</td>\n",
              "      <td>0</td>\n",
              "      <td>0</td>\n",
              "      <td>0</td>\n",
              "      <td>0</td>\n",
              "      <td>0</td>\n",
              "      <td>0</td>\n",
              "      <td>0</td>\n",
              "      <td>0</td>\n",
              "      <td>0</td>\n",
              "      <td>0</td>\n",
              "      <td>0</td>\n",
              "      <td>0</td>\n",
              "      <td>1</td>\n",
              "      <td>0</td>\n",
              "      <td>0</td>\n",
              "    </tr>\n",
              "    <tr>\n",
              "      <th>4</th>\n",
              "      <td>Get Shorty (1995)</td>\n",
              "      <td>1995-01-01</td>\n",
              "      <td>NaT</td>\n",
              "      <td>http://us.imdb.com/M/title-exact?Get%20Shorty%...</td>\n",
              "      <td>0</td>\n",
              "      <td>1</td>\n",
              "      <td>0</td>\n",
              "      <td>0</td>\n",
              "      <td>0</td>\n",
              "      <td>1</td>\n",
              "      <td>0</td>\n",
              "      <td>0</td>\n",
              "      <td>1</td>\n",
              "      <td>0</td>\n",
              "      <td>0</td>\n",
              "      <td>0</td>\n",
              "      <td>0</td>\n",
              "      <td>0</td>\n",
              "      <td>0</td>\n",
              "      <td>0</td>\n",
              "      <td>0</td>\n",
              "      <td>0</td>\n",
              "      <td>0</td>\n",
              "    </tr>\n",
              "    <tr>\n",
              "      <th>5</th>\n",
              "      <td>Copycat (1995)</td>\n",
              "      <td>1995-01-01</td>\n",
              "      <td>NaT</td>\n",
              "      <td>http://us.imdb.com/M/title-exact?Copycat%20(1995)</td>\n",
              "      <td>0</td>\n",
              "      <td>0</td>\n",
              "      <td>0</td>\n",
              "      <td>0</td>\n",
              "      <td>0</td>\n",
              "      <td>0</td>\n",
              "      <td>1</td>\n",
              "      <td>0</td>\n",
              "      <td>1</td>\n",
              "      <td>0</td>\n",
              "      <td>0</td>\n",
              "      <td>0</td>\n",
              "      <td>0</td>\n",
              "      <td>0</td>\n",
              "      <td>0</td>\n",
              "      <td>0</td>\n",
              "      <td>1</td>\n",
              "      <td>0</td>\n",
              "      <td>0</td>\n",
              "    </tr>\n",
              "  </tbody>\n",
              "</table>\n",
              "</div>"
            ],
            "text/plain": [
              "                      title release_date  ... war western\n",
              "movie_id                                  ...            \n",
              "1          Toy Story (1995)   1995-01-01  ...   0       0\n",
              "2          GoldenEye (1995)   1995-01-01  ...   0       0\n",
              "3         Four Rooms (1995)   1995-01-01  ...   0       0\n",
              "4         Get Shorty (1995)   1995-01-01  ...   0       0\n",
              "5            Copycat (1995)   1995-01-01  ...   0       0\n",
              "\n",
              "[5 rows x 23 columns]"
            ]
          },
          "metadata": {
            "tags": []
          },
          "execution_count": 160
        }
      ]
    },
    {
      "cell_type": "markdown",
      "metadata": {
        "id": "kG4o3LP1DCeU"
      },
      "source": [
        "Még mindig nem tökéletes, hiszen a filmek címei után szerepel az évszám zárójelben, ami egyrészt redundáns, másrészt zaj. Tüntessük el!\n",
        "\n",
        "A szokásos `str` műveletek egy része elérhető DataSeries objektumokra is (minden elemre végrehajtja). A függvényeket az `str` névtérben találjuk."
      ]
    },
    {
      "cell_type": "code",
      "metadata": {
        "id": "1qF2GKhODCeU",
        "colab": {
          "base_uri": "https://localhost:8080/"
        },
        "outputId": "dfc3632a-4989-4925-cb74-d8e82f56432a"
      },
      "source": [
        "df.title.str"
      ],
      "execution_count": 161,
      "outputs": [
        {
          "output_type": "execute_result",
          "data": {
            "text/plain": [
              "<pandas.core.strings.StringMethods at 0x7f38d5f4fbd0>"
            ]
          },
          "metadata": {
            "tags": []
          },
          "execution_count": 161
        }
      ]
    },
    {
      "cell_type": "markdown",
      "metadata": {
        "id": "wOvkikX6DCeW"
      },
      "source": [
        "Egy reguláris kifejezéssel eltüntetjük a két zárójel közti részt, majd eltávolítjuk az ott maradt whitespace-eket (a strip függvény a stringek elejéről és végéről is eltávolítja).\n",
        "Végül adjuk értékül a régi title oszlopnak a kezdő és záró whitespace-ektől megfosztott változatát."
      ]
    },
    {
      "cell_type": "code",
      "metadata": {
        "id": "tI-tXVwYDCeX"
      },
      "source": [
        "df.title = df.title.str.replace(r'\\(.*\\)', '').str.strip()"
      ],
      "execution_count": 162,
      "outputs": []
    },
    {
      "cell_type": "code",
      "metadata": {
        "id": "f5gMvhF_DCeZ",
        "colab": {
          "base_uri": "https://localhost:8080/",
          "height": 0
        },
        "outputId": "56da73e1-2e2e-42dd-8b7d-00ac19e16080"
      },
      "source": [
        "df.head()"
      ],
      "execution_count": 163,
      "outputs": [
        {
          "output_type": "execute_result",
          "data": {
            "text/html": [
              "<div>\n",
              "<style scoped>\n",
              "    .dataframe tbody tr th:only-of-type {\n",
              "        vertical-align: middle;\n",
              "    }\n",
              "\n",
              "    .dataframe tbody tr th {\n",
              "        vertical-align: top;\n",
              "    }\n",
              "\n",
              "    .dataframe thead th {\n",
              "        text-align: right;\n",
              "    }\n",
              "</style>\n",
              "<table border=\"1\" class=\"dataframe\">\n",
              "  <thead>\n",
              "    <tr style=\"text-align: right;\">\n",
              "      <th></th>\n",
              "      <th>title</th>\n",
              "      <th>release_date</th>\n",
              "      <th>video_release_date</th>\n",
              "      <th>imdb_url</th>\n",
              "      <th>unknown</th>\n",
              "      <th>action</th>\n",
              "      <th>adventure</th>\n",
              "      <th>animation</th>\n",
              "      <th>children</th>\n",
              "      <th>comedy</th>\n",
              "      <th>crime</th>\n",
              "      <th>documentary</th>\n",
              "      <th>drama</th>\n",
              "      <th>fantasy</th>\n",
              "      <th>film_noir</th>\n",
              "      <th>horror</th>\n",
              "      <th>musical</th>\n",
              "      <th>mystery</th>\n",
              "      <th>romance</th>\n",
              "      <th>sci_fi</th>\n",
              "      <th>thriller</th>\n",
              "      <th>war</th>\n",
              "      <th>western</th>\n",
              "    </tr>\n",
              "    <tr>\n",
              "      <th>movie_id</th>\n",
              "      <th></th>\n",
              "      <th></th>\n",
              "      <th></th>\n",
              "      <th></th>\n",
              "      <th></th>\n",
              "      <th></th>\n",
              "      <th></th>\n",
              "      <th></th>\n",
              "      <th></th>\n",
              "      <th></th>\n",
              "      <th></th>\n",
              "      <th></th>\n",
              "      <th></th>\n",
              "      <th></th>\n",
              "      <th></th>\n",
              "      <th></th>\n",
              "      <th></th>\n",
              "      <th></th>\n",
              "      <th></th>\n",
              "      <th></th>\n",
              "      <th></th>\n",
              "      <th></th>\n",
              "      <th></th>\n",
              "    </tr>\n",
              "  </thead>\n",
              "  <tbody>\n",
              "    <tr>\n",
              "      <th>1</th>\n",
              "      <td>Toy Story</td>\n",
              "      <td>1995-01-01</td>\n",
              "      <td>NaT</td>\n",
              "      <td>http://us.imdb.com/M/title-exact?Toy%20Story%2...</td>\n",
              "      <td>0</td>\n",
              "      <td>0</td>\n",
              "      <td>0</td>\n",
              "      <td>1</td>\n",
              "      <td>1</td>\n",
              "      <td>1</td>\n",
              "      <td>0</td>\n",
              "      <td>0</td>\n",
              "      <td>0</td>\n",
              "      <td>0</td>\n",
              "      <td>0</td>\n",
              "      <td>0</td>\n",
              "      <td>0</td>\n",
              "      <td>0</td>\n",
              "      <td>0</td>\n",
              "      <td>0</td>\n",
              "      <td>0</td>\n",
              "      <td>0</td>\n",
              "      <td>0</td>\n",
              "    </tr>\n",
              "    <tr>\n",
              "      <th>2</th>\n",
              "      <td>GoldenEye</td>\n",
              "      <td>1995-01-01</td>\n",
              "      <td>NaT</td>\n",
              "      <td>http://us.imdb.com/M/title-exact?GoldenEye%20(...</td>\n",
              "      <td>0</td>\n",
              "      <td>1</td>\n",
              "      <td>1</td>\n",
              "      <td>0</td>\n",
              "      <td>0</td>\n",
              "      <td>0</td>\n",
              "      <td>0</td>\n",
              "      <td>0</td>\n",
              "      <td>0</td>\n",
              "      <td>0</td>\n",
              "      <td>0</td>\n",
              "      <td>0</td>\n",
              "      <td>0</td>\n",
              "      <td>0</td>\n",
              "      <td>0</td>\n",
              "      <td>0</td>\n",
              "      <td>1</td>\n",
              "      <td>0</td>\n",
              "      <td>0</td>\n",
              "    </tr>\n",
              "    <tr>\n",
              "      <th>3</th>\n",
              "      <td>Four Rooms</td>\n",
              "      <td>1995-01-01</td>\n",
              "      <td>NaT</td>\n",
              "      <td>http://us.imdb.com/M/title-exact?Four%20Rooms%...</td>\n",
              "      <td>0</td>\n",
              "      <td>0</td>\n",
              "      <td>0</td>\n",
              "      <td>0</td>\n",
              "      <td>0</td>\n",
              "      <td>0</td>\n",
              "      <td>0</td>\n",
              "      <td>0</td>\n",
              "      <td>0</td>\n",
              "      <td>0</td>\n",
              "      <td>0</td>\n",
              "      <td>0</td>\n",
              "      <td>0</td>\n",
              "      <td>0</td>\n",
              "      <td>0</td>\n",
              "      <td>0</td>\n",
              "      <td>1</td>\n",
              "      <td>0</td>\n",
              "      <td>0</td>\n",
              "    </tr>\n",
              "    <tr>\n",
              "      <th>4</th>\n",
              "      <td>Get Shorty</td>\n",
              "      <td>1995-01-01</td>\n",
              "      <td>NaT</td>\n",
              "      <td>http://us.imdb.com/M/title-exact?Get%20Shorty%...</td>\n",
              "      <td>0</td>\n",
              "      <td>1</td>\n",
              "      <td>0</td>\n",
              "      <td>0</td>\n",
              "      <td>0</td>\n",
              "      <td>1</td>\n",
              "      <td>0</td>\n",
              "      <td>0</td>\n",
              "      <td>1</td>\n",
              "      <td>0</td>\n",
              "      <td>0</td>\n",
              "      <td>0</td>\n",
              "      <td>0</td>\n",
              "      <td>0</td>\n",
              "      <td>0</td>\n",
              "      <td>0</td>\n",
              "      <td>0</td>\n",
              "      <td>0</td>\n",
              "      <td>0</td>\n",
              "    </tr>\n",
              "    <tr>\n",
              "      <th>5</th>\n",
              "      <td>Copycat</td>\n",
              "      <td>1995-01-01</td>\n",
              "      <td>NaT</td>\n",
              "      <td>http://us.imdb.com/M/title-exact?Copycat%20(1995)</td>\n",
              "      <td>0</td>\n",
              "      <td>0</td>\n",
              "      <td>0</td>\n",
              "      <td>0</td>\n",
              "      <td>0</td>\n",
              "      <td>0</td>\n",
              "      <td>1</td>\n",
              "      <td>0</td>\n",
              "      <td>1</td>\n",
              "      <td>0</td>\n",
              "      <td>0</td>\n",
              "      <td>0</td>\n",
              "      <td>0</td>\n",
              "      <td>0</td>\n",
              "      <td>0</td>\n",
              "      <td>0</td>\n",
              "      <td>1</td>\n",
              "      <td>0</td>\n",
              "      <td>0</td>\n",
              "    </tr>\n",
              "  </tbody>\n",
              "</table>\n",
              "</div>"
            ],
            "text/plain": [
              "               title release_date video_release_date  ... thriller  war  western\n",
              "movie_id                                              ...                       \n",
              "1          Toy Story   1995-01-01                NaT  ...        0    0        0\n",
              "2          GoldenEye   1995-01-01                NaT  ...        1    0        0\n",
              "3         Four Rooms   1995-01-01                NaT  ...        1    0        0\n",
              "4         Get Shorty   1995-01-01                NaT  ...        0    0        0\n",
              "5            Copycat   1995-01-01                NaT  ...        1    0        0\n",
              "\n",
              "[5 rows x 23 columns]"
            ]
          },
          "metadata": {
            "tags": []
          },
          "execution_count": 163
        }
      ]
    },
    {
      "cell_type": "markdown",
      "metadata": {
        "id": "svcIUTB0DCeb"
      },
      "source": [
        "A `video_release_date` mező az első néhány sorban csak érvénytelen mezőket tartalmaz. Vajon igaz ez az egész DataFrame-re? Listázzuk ki azokat a mezőket, ahol nem NaT a video_release_date értéke, vagyis érvénytelen dátum."
      ]
    },
    {
      "cell_type": "code",
      "metadata": {
        "id": "1GXKH-RHDCec",
        "colab": {
          "base_uri": "https://localhost:8080/",
          "height": 0
        },
        "outputId": "86dd1759-8fad-409a-9838-707168bfb2c4"
      },
      "source": [
        "df[df.video_release_date.notnull()]"
      ],
      "execution_count": 164,
      "outputs": [
        {
          "output_type": "execute_result",
          "data": {
            "text/html": [
              "<div>\n",
              "<style scoped>\n",
              "    .dataframe tbody tr th:only-of-type {\n",
              "        vertical-align: middle;\n",
              "    }\n",
              "\n",
              "    .dataframe tbody tr th {\n",
              "        vertical-align: top;\n",
              "    }\n",
              "\n",
              "    .dataframe thead th {\n",
              "        text-align: right;\n",
              "    }\n",
              "</style>\n",
              "<table border=\"1\" class=\"dataframe\">\n",
              "  <thead>\n",
              "    <tr style=\"text-align: right;\">\n",
              "      <th></th>\n",
              "      <th>title</th>\n",
              "      <th>release_date</th>\n",
              "      <th>video_release_date</th>\n",
              "      <th>imdb_url</th>\n",
              "      <th>unknown</th>\n",
              "      <th>action</th>\n",
              "      <th>adventure</th>\n",
              "      <th>animation</th>\n",
              "      <th>children</th>\n",
              "      <th>comedy</th>\n",
              "      <th>crime</th>\n",
              "      <th>documentary</th>\n",
              "      <th>drama</th>\n",
              "      <th>fantasy</th>\n",
              "      <th>film_noir</th>\n",
              "      <th>horror</th>\n",
              "      <th>musical</th>\n",
              "      <th>mystery</th>\n",
              "      <th>romance</th>\n",
              "      <th>sci_fi</th>\n",
              "      <th>thriller</th>\n",
              "      <th>war</th>\n",
              "      <th>western</th>\n",
              "    </tr>\n",
              "    <tr>\n",
              "      <th>movie_id</th>\n",
              "      <th></th>\n",
              "      <th></th>\n",
              "      <th></th>\n",
              "      <th></th>\n",
              "      <th></th>\n",
              "      <th></th>\n",
              "      <th></th>\n",
              "      <th></th>\n",
              "      <th></th>\n",
              "      <th></th>\n",
              "      <th></th>\n",
              "      <th></th>\n",
              "      <th></th>\n",
              "      <th></th>\n",
              "      <th></th>\n",
              "      <th></th>\n",
              "      <th></th>\n",
              "      <th></th>\n",
              "      <th></th>\n",
              "      <th></th>\n",
              "      <th></th>\n",
              "      <th></th>\n",
              "      <th></th>\n",
              "    </tr>\n",
              "  </thead>\n",
              "  <tbody>\n",
              "  </tbody>\n",
              "</table>\n",
              "</div>"
            ],
            "text/plain": [
              "Empty DataFrame\n",
              "Columns: [title, release_date, video_release_date, imdb_url, unknown, action, adventure, animation, children, comedy, crime, documentary, drama, fantasy, film_noir, horror, musical, mystery, romance, sci_fi, thriller, war, western]\n",
              "Index: []"
            ]
          },
          "metadata": {
            "tags": []
          },
          "execution_count": 164
        }
      ]
    },
    {
      "cell_type": "markdown",
      "metadata": {
        "id": "z7giGdlmDCef"
      },
      "source": [
        "Nincs ilyen mező, ezért elhagyhatjuk az oszlopot."
      ]
    },
    {
      "cell_type": "code",
      "metadata": {
        "id": "mrxfz675DCef",
        "colab": {
          "base_uri": "https://localhost:8080/",
          "height": 0
        },
        "outputId": "7fa70532-8fbe-43b9-8288-21cc033510b2"
      },
      "source": [
        "df = df.drop('video_release_date', axis=1)\n",
        "df.head()"
      ],
      "execution_count": 165,
      "outputs": [
        {
          "output_type": "execute_result",
          "data": {
            "text/html": [
              "<div>\n",
              "<style scoped>\n",
              "    .dataframe tbody tr th:only-of-type {\n",
              "        vertical-align: middle;\n",
              "    }\n",
              "\n",
              "    .dataframe tbody tr th {\n",
              "        vertical-align: top;\n",
              "    }\n",
              "\n",
              "    .dataframe thead th {\n",
              "        text-align: right;\n",
              "    }\n",
              "</style>\n",
              "<table border=\"1\" class=\"dataframe\">\n",
              "  <thead>\n",
              "    <tr style=\"text-align: right;\">\n",
              "      <th></th>\n",
              "      <th>title</th>\n",
              "      <th>release_date</th>\n",
              "      <th>imdb_url</th>\n",
              "      <th>unknown</th>\n",
              "      <th>action</th>\n",
              "      <th>adventure</th>\n",
              "      <th>animation</th>\n",
              "      <th>children</th>\n",
              "      <th>comedy</th>\n",
              "      <th>crime</th>\n",
              "      <th>documentary</th>\n",
              "      <th>drama</th>\n",
              "      <th>fantasy</th>\n",
              "      <th>film_noir</th>\n",
              "      <th>horror</th>\n",
              "      <th>musical</th>\n",
              "      <th>mystery</th>\n",
              "      <th>romance</th>\n",
              "      <th>sci_fi</th>\n",
              "      <th>thriller</th>\n",
              "      <th>war</th>\n",
              "      <th>western</th>\n",
              "    </tr>\n",
              "    <tr>\n",
              "      <th>movie_id</th>\n",
              "      <th></th>\n",
              "      <th></th>\n",
              "      <th></th>\n",
              "      <th></th>\n",
              "      <th></th>\n",
              "      <th></th>\n",
              "      <th></th>\n",
              "      <th></th>\n",
              "      <th></th>\n",
              "      <th></th>\n",
              "      <th></th>\n",
              "      <th></th>\n",
              "      <th></th>\n",
              "      <th></th>\n",
              "      <th></th>\n",
              "      <th></th>\n",
              "      <th></th>\n",
              "      <th></th>\n",
              "      <th></th>\n",
              "      <th></th>\n",
              "      <th></th>\n",
              "      <th></th>\n",
              "    </tr>\n",
              "  </thead>\n",
              "  <tbody>\n",
              "    <tr>\n",
              "      <th>1</th>\n",
              "      <td>Toy Story</td>\n",
              "      <td>1995-01-01</td>\n",
              "      <td>http://us.imdb.com/M/title-exact?Toy%20Story%2...</td>\n",
              "      <td>0</td>\n",
              "      <td>0</td>\n",
              "      <td>0</td>\n",
              "      <td>1</td>\n",
              "      <td>1</td>\n",
              "      <td>1</td>\n",
              "      <td>0</td>\n",
              "      <td>0</td>\n",
              "      <td>0</td>\n",
              "      <td>0</td>\n",
              "      <td>0</td>\n",
              "      <td>0</td>\n",
              "      <td>0</td>\n",
              "      <td>0</td>\n",
              "      <td>0</td>\n",
              "      <td>0</td>\n",
              "      <td>0</td>\n",
              "      <td>0</td>\n",
              "      <td>0</td>\n",
              "    </tr>\n",
              "    <tr>\n",
              "      <th>2</th>\n",
              "      <td>GoldenEye</td>\n",
              "      <td>1995-01-01</td>\n",
              "      <td>http://us.imdb.com/M/title-exact?GoldenEye%20(...</td>\n",
              "      <td>0</td>\n",
              "      <td>1</td>\n",
              "      <td>1</td>\n",
              "      <td>0</td>\n",
              "      <td>0</td>\n",
              "      <td>0</td>\n",
              "      <td>0</td>\n",
              "      <td>0</td>\n",
              "      <td>0</td>\n",
              "      <td>0</td>\n",
              "      <td>0</td>\n",
              "      <td>0</td>\n",
              "      <td>0</td>\n",
              "      <td>0</td>\n",
              "      <td>0</td>\n",
              "      <td>0</td>\n",
              "      <td>1</td>\n",
              "      <td>0</td>\n",
              "      <td>0</td>\n",
              "    </tr>\n",
              "    <tr>\n",
              "      <th>3</th>\n",
              "      <td>Four Rooms</td>\n",
              "      <td>1995-01-01</td>\n",
              "      <td>http://us.imdb.com/M/title-exact?Four%20Rooms%...</td>\n",
              "      <td>0</td>\n",
              "      <td>0</td>\n",
              "      <td>0</td>\n",
              "      <td>0</td>\n",
              "      <td>0</td>\n",
              "      <td>0</td>\n",
              "      <td>0</td>\n",
              "      <td>0</td>\n",
              "      <td>0</td>\n",
              "      <td>0</td>\n",
              "      <td>0</td>\n",
              "      <td>0</td>\n",
              "      <td>0</td>\n",
              "      <td>0</td>\n",
              "      <td>0</td>\n",
              "      <td>0</td>\n",
              "      <td>1</td>\n",
              "      <td>0</td>\n",
              "      <td>0</td>\n",
              "    </tr>\n",
              "    <tr>\n",
              "      <th>4</th>\n",
              "      <td>Get Shorty</td>\n",
              "      <td>1995-01-01</td>\n",
              "      <td>http://us.imdb.com/M/title-exact?Get%20Shorty%...</td>\n",
              "      <td>0</td>\n",
              "      <td>1</td>\n",
              "      <td>0</td>\n",
              "      <td>0</td>\n",
              "      <td>0</td>\n",
              "      <td>1</td>\n",
              "      <td>0</td>\n",
              "      <td>0</td>\n",
              "      <td>1</td>\n",
              "      <td>0</td>\n",
              "      <td>0</td>\n",
              "      <td>0</td>\n",
              "      <td>0</td>\n",
              "      <td>0</td>\n",
              "      <td>0</td>\n",
              "      <td>0</td>\n",
              "      <td>0</td>\n",
              "      <td>0</td>\n",
              "      <td>0</td>\n",
              "    </tr>\n",
              "    <tr>\n",
              "      <th>5</th>\n",
              "      <td>Copycat</td>\n",
              "      <td>1995-01-01</td>\n",
              "      <td>http://us.imdb.com/M/title-exact?Copycat%20(1995)</td>\n",
              "      <td>0</td>\n",
              "      <td>0</td>\n",
              "      <td>0</td>\n",
              "      <td>0</td>\n",
              "      <td>0</td>\n",
              "      <td>0</td>\n",
              "      <td>1</td>\n",
              "      <td>0</td>\n",
              "      <td>1</td>\n",
              "      <td>0</td>\n",
              "      <td>0</td>\n",
              "      <td>0</td>\n",
              "      <td>0</td>\n",
              "      <td>0</td>\n",
              "      <td>0</td>\n",
              "      <td>0</td>\n",
              "      <td>1</td>\n",
              "      <td>0</td>\n",
              "      <td>0</td>\n",
              "    </tr>\n",
              "  </tbody>\n",
              "</table>\n",
              "</div>"
            ],
            "text/plain": [
              "               title release_date  ... war  western\n",
              "movie_id                           ...             \n",
              "1          Toy Story   1995-01-01  ...   0        0\n",
              "2          GoldenEye   1995-01-01  ...   0        0\n",
              "3         Four Rooms   1995-01-01  ...   0        0\n",
              "4         Get Shorty   1995-01-01  ...   0        0\n",
              "5            Copycat   1995-01-01  ...   0        0\n",
              "\n",
              "[5 rows x 22 columns]"
            ]
          },
          "metadata": {
            "tags": []
          },
          "execution_count": 165
        }
      ]
    },
    {
      "cell_type": "markdown",
      "metadata": {
        "id": "y4rllVTgDCei"
      },
      "source": [
        "Van egy `unknown` oszlop, ettől is szabaduljunk meg!"
      ]
    },
    {
      "cell_type": "code",
      "metadata": {
        "id": "KvuFQeb1DCei"
      },
      "source": [
        "df = df.drop('unknown', axis=1)"
      ],
      "execution_count": 166,
      "outputs": []
    },
    {
      "cell_type": "markdown",
      "metadata": {
        "id": "xhdbMh2gDCel"
      },
      "source": [
        "## Adatok felszínes vizsgálata\n",
        "\n",
        "Nézzük meg, hogy milyen információkat tudhatunk könnyedén meg a DataFrame-ről."
      ]
    },
    {
      "cell_type": "markdown",
      "metadata": {
        "id": "tSv2KBwHDCel"
      },
      "source": [
        "A `describe` függvény oszloponként szolgáltat alapvető infomációkkal: darabszám, átlag, szórás stb.\n",
        "Mivel a legtöbb mező bináris, most nem tudunk meg sok hasznos információt a mezőkről."
      ]
    },
    {
      "cell_type": "code",
      "metadata": {
        "id": "UwOWNA5DDCem",
        "colab": {
          "base_uri": "https://localhost:8080/",
          "height": 0
        },
        "outputId": "8d38f0f8-c570-427a-cf09-2cd5b8443293"
      },
      "source": [
        "df.describe()"
      ],
      "execution_count": 167,
      "outputs": [
        {
          "output_type": "execute_result",
          "data": {
            "text/html": [
              "<div>\n",
              "<style scoped>\n",
              "    .dataframe tbody tr th:only-of-type {\n",
              "        vertical-align: middle;\n",
              "    }\n",
              "\n",
              "    .dataframe tbody tr th {\n",
              "        vertical-align: top;\n",
              "    }\n",
              "\n",
              "    .dataframe thead th {\n",
              "        text-align: right;\n",
              "    }\n",
              "</style>\n",
              "<table border=\"1\" class=\"dataframe\">\n",
              "  <thead>\n",
              "    <tr style=\"text-align: right;\">\n",
              "      <th></th>\n",
              "      <th>action</th>\n",
              "      <th>adventure</th>\n",
              "      <th>animation</th>\n",
              "      <th>children</th>\n",
              "      <th>comedy</th>\n",
              "      <th>crime</th>\n",
              "      <th>documentary</th>\n",
              "      <th>drama</th>\n",
              "      <th>fantasy</th>\n",
              "      <th>film_noir</th>\n",
              "      <th>horror</th>\n",
              "      <th>musical</th>\n",
              "      <th>mystery</th>\n",
              "      <th>romance</th>\n",
              "      <th>sci_fi</th>\n",
              "      <th>thriller</th>\n",
              "      <th>war</th>\n",
              "      <th>western</th>\n",
              "    </tr>\n",
              "  </thead>\n",
              "  <tbody>\n",
              "    <tr>\n",
              "      <th>count</th>\n",
              "      <td>1682.000000</td>\n",
              "      <td>1682.000000</td>\n",
              "      <td>1682.000000</td>\n",
              "      <td>1682.000000</td>\n",
              "      <td>1682.000000</td>\n",
              "      <td>1682.000000</td>\n",
              "      <td>1682.000000</td>\n",
              "      <td>1682.000000</td>\n",
              "      <td>1682.00000</td>\n",
              "      <td>1682.000000</td>\n",
              "      <td>1682.000000</td>\n",
              "      <td>1682.000000</td>\n",
              "      <td>1682.000000</td>\n",
              "      <td>1682.000000</td>\n",
              "      <td>1682.000000</td>\n",
              "      <td>1682.000000</td>\n",
              "      <td>1682.000000</td>\n",
              "      <td>1682.000000</td>\n",
              "    </tr>\n",
              "    <tr>\n",
              "      <th>mean</th>\n",
              "      <td>0.149227</td>\n",
              "      <td>0.080262</td>\n",
              "      <td>0.024970</td>\n",
              "      <td>0.072533</td>\n",
              "      <td>0.300238</td>\n",
              "      <td>0.064804</td>\n",
              "      <td>0.029727</td>\n",
              "      <td>0.431034</td>\n",
              "      <td>0.01308</td>\n",
              "      <td>0.014269</td>\n",
              "      <td>0.054697</td>\n",
              "      <td>0.033294</td>\n",
              "      <td>0.036266</td>\n",
              "      <td>0.146849</td>\n",
              "      <td>0.060048</td>\n",
              "      <td>0.149227</td>\n",
              "      <td>0.042212</td>\n",
              "      <td>0.016052</td>\n",
              "    </tr>\n",
              "    <tr>\n",
              "      <th>std</th>\n",
              "      <td>0.356418</td>\n",
              "      <td>0.271779</td>\n",
              "      <td>0.156081</td>\n",
              "      <td>0.259445</td>\n",
              "      <td>0.458498</td>\n",
              "      <td>0.246253</td>\n",
              "      <td>0.169882</td>\n",
              "      <td>0.495368</td>\n",
              "      <td>0.11365</td>\n",
              "      <td>0.118632</td>\n",
              "      <td>0.227455</td>\n",
              "      <td>0.179456</td>\n",
              "      <td>0.187008</td>\n",
              "      <td>0.354061</td>\n",
              "      <td>0.237646</td>\n",
              "      <td>0.356418</td>\n",
              "      <td>0.201131</td>\n",
              "      <td>0.125714</td>\n",
              "    </tr>\n",
              "    <tr>\n",
              "      <th>min</th>\n",
              "      <td>0.000000</td>\n",
              "      <td>0.000000</td>\n",
              "      <td>0.000000</td>\n",
              "      <td>0.000000</td>\n",
              "      <td>0.000000</td>\n",
              "      <td>0.000000</td>\n",
              "      <td>0.000000</td>\n",
              "      <td>0.000000</td>\n",
              "      <td>0.00000</td>\n",
              "      <td>0.000000</td>\n",
              "      <td>0.000000</td>\n",
              "      <td>0.000000</td>\n",
              "      <td>0.000000</td>\n",
              "      <td>0.000000</td>\n",
              "      <td>0.000000</td>\n",
              "      <td>0.000000</td>\n",
              "      <td>0.000000</td>\n",
              "      <td>0.000000</td>\n",
              "    </tr>\n",
              "    <tr>\n",
              "      <th>25%</th>\n",
              "      <td>0.000000</td>\n",
              "      <td>0.000000</td>\n",
              "      <td>0.000000</td>\n",
              "      <td>0.000000</td>\n",
              "      <td>0.000000</td>\n",
              "      <td>0.000000</td>\n",
              "      <td>0.000000</td>\n",
              "      <td>0.000000</td>\n",
              "      <td>0.00000</td>\n",
              "      <td>0.000000</td>\n",
              "      <td>0.000000</td>\n",
              "      <td>0.000000</td>\n",
              "      <td>0.000000</td>\n",
              "      <td>0.000000</td>\n",
              "      <td>0.000000</td>\n",
              "      <td>0.000000</td>\n",
              "      <td>0.000000</td>\n",
              "      <td>0.000000</td>\n",
              "    </tr>\n",
              "    <tr>\n",
              "      <th>50%</th>\n",
              "      <td>0.000000</td>\n",
              "      <td>0.000000</td>\n",
              "      <td>0.000000</td>\n",
              "      <td>0.000000</td>\n",
              "      <td>0.000000</td>\n",
              "      <td>0.000000</td>\n",
              "      <td>0.000000</td>\n",
              "      <td>0.000000</td>\n",
              "      <td>0.00000</td>\n",
              "      <td>0.000000</td>\n",
              "      <td>0.000000</td>\n",
              "      <td>0.000000</td>\n",
              "      <td>0.000000</td>\n",
              "      <td>0.000000</td>\n",
              "      <td>0.000000</td>\n",
              "      <td>0.000000</td>\n",
              "      <td>0.000000</td>\n",
              "      <td>0.000000</td>\n",
              "    </tr>\n",
              "    <tr>\n",
              "      <th>75%</th>\n",
              "      <td>0.000000</td>\n",
              "      <td>0.000000</td>\n",
              "      <td>0.000000</td>\n",
              "      <td>0.000000</td>\n",
              "      <td>1.000000</td>\n",
              "      <td>0.000000</td>\n",
              "      <td>0.000000</td>\n",
              "      <td>1.000000</td>\n",
              "      <td>0.00000</td>\n",
              "      <td>0.000000</td>\n",
              "      <td>0.000000</td>\n",
              "      <td>0.000000</td>\n",
              "      <td>0.000000</td>\n",
              "      <td>0.000000</td>\n",
              "      <td>0.000000</td>\n",
              "      <td>0.000000</td>\n",
              "      <td>0.000000</td>\n",
              "      <td>0.000000</td>\n",
              "    </tr>\n",
              "    <tr>\n",
              "      <th>max</th>\n",
              "      <td>1.000000</td>\n",
              "      <td>1.000000</td>\n",
              "      <td>1.000000</td>\n",
              "      <td>1.000000</td>\n",
              "      <td>1.000000</td>\n",
              "      <td>1.000000</td>\n",
              "      <td>1.000000</td>\n",
              "      <td>1.000000</td>\n",
              "      <td>1.00000</td>\n",
              "      <td>1.000000</td>\n",
              "      <td>1.000000</td>\n",
              "      <td>1.000000</td>\n",
              "      <td>1.000000</td>\n",
              "      <td>1.000000</td>\n",
              "      <td>1.000000</td>\n",
              "      <td>1.000000</td>\n",
              "      <td>1.000000</td>\n",
              "      <td>1.000000</td>\n",
              "    </tr>\n",
              "  </tbody>\n",
              "</table>\n",
              "</div>"
            ],
            "text/plain": [
              "            action    adventure  ...          war      western\n",
              "count  1682.000000  1682.000000  ...  1682.000000  1682.000000\n",
              "mean      0.149227     0.080262  ...     0.042212     0.016052\n",
              "std       0.356418     0.271779  ...     0.201131     0.125714\n",
              "min       0.000000     0.000000  ...     0.000000     0.000000\n",
              "25%       0.000000     0.000000  ...     0.000000     0.000000\n",
              "50%       0.000000     0.000000  ...     0.000000     0.000000\n",
              "75%       0.000000     0.000000  ...     0.000000     0.000000\n",
              "max       1.000000     1.000000  ...     1.000000     1.000000\n",
              "\n",
              "[8 rows x 18 columns]"
            ]
          },
          "metadata": {
            "tags": []
          },
          "execution_count": 167
        }
      ]
    },
    {
      "cell_type": "markdown",
      "metadata": {
        "id": "riTff8ZkDCeo"
      },
      "source": [
        "### Átlag, szórás, variancia stb.\n",
        "\n",
        "Egyenként is lekérdezhetőek:\n",
        "\n",
        "1. `count()`\n",
        "1. átlag: `mean()`\n",
        "1. szórás: `std()`\n",
        "1. variancia: `var()`\n",
        "1. 50% kvantilis: `quantile(.5)`\n",
        "1. `min`, `max`"
      ]
    },
    {
      "cell_type": "code",
      "metadata": {
        "id": "6e9BqTQADCeo",
        "colab": {
          "base_uri": "https://localhost:8080/"
        },
        "outputId": "c587a88f-4e12-42b2-f755-c9ace53865aa"
      },
      "source": [
        "df.quantile(.9).head()"
      ],
      "execution_count": 168,
      "outputs": [
        {
          "output_type": "execute_result",
          "data": {
            "text/plain": [
              "action       1.0\n",
              "adventure    0.0\n",
              "animation    0.0\n",
              "children     0.0\n",
              "comedy       1.0\n",
              "Name: 0.9, dtype: float64"
            ]
          },
          "metadata": {
            "tags": []
          },
          "execution_count": 168
        }
      ]
    },
    {
      "cell_type": "markdown",
      "metadata": {
        "id": "8ElE2mCYDCer"
      },
      "source": [
        "# Egyszerű lekérdezések "
      ]
    },
    {
      "cell_type": "markdown",
      "metadata": {
        "id": "hSCTVAxfDCes"
      },
      "source": [
        "## Melyik filmek jelentek meg 1956-ban? "
      ]
    },
    {
      "cell_type": "code",
      "metadata": {
        "id": "y-po2MtQDCes",
        "colab": {
          "base_uri": "https://localhost:8080/",
          "height": 0
        },
        "outputId": "34161401-7798-466f-b5e6-3bd79f70bc76"
      },
      "source": [
        "df[df.release_date.dt.year == 1956]"
      ],
      "execution_count": 169,
      "outputs": [
        {
          "output_type": "execute_result",
          "data": {
            "text/html": [
              "<div>\n",
              "<style scoped>\n",
              "    .dataframe tbody tr th:only-of-type {\n",
              "        vertical-align: middle;\n",
              "    }\n",
              "\n",
              "    .dataframe tbody tr th {\n",
              "        vertical-align: top;\n",
              "    }\n",
              "\n",
              "    .dataframe thead th {\n",
              "        text-align: right;\n",
              "    }\n",
              "</style>\n",
              "<table border=\"1\" class=\"dataframe\">\n",
              "  <thead>\n",
              "    <tr style=\"text-align: right;\">\n",
              "      <th></th>\n",
              "      <th>title</th>\n",
              "      <th>release_date</th>\n",
              "      <th>imdb_url</th>\n",
              "      <th>action</th>\n",
              "      <th>adventure</th>\n",
              "      <th>animation</th>\n",
              "      <th>children</th>\n",
              "      <th>comedy</th>\n",
              "      <th>crime</th>\n",
              "      <th>documentary</th>\n",
              "      <th>drama</th>\n",
              "      <th>fantasy</th>\n",
              "      <th>film_noir</th>\n",
              "      <th>horror</th>\n",
              "      <th>musical</th>\n",
              "      <th>mystery</th>\n",
              "      <th>romance</th>\n",
              "      <th>sci_fi</th>\n",
              "      <th>thriller</th>\n",
              "      <th>war</th>\n",
              "      <th>western</th>\n",
              "    </tr>\n",
              "    <tr>\n",
              "      <th>movie_id</th>\n",
              "      <th></th>\n",
              "      <th></th>\n",
              "      <th></th>\n",
              "      <th></th>\n",
              "      <th></th>\n",
              "      <th></th>\n",
              "      <th></th>\n",
              "      <th></th>\n",
              "      <th></th>\n",
              "      <th></th>\n",
              "      <th></th>\n",
              "      <th></th>\n",
              "      <th></th>\n",
              "      <th></th>\n",
              "      <th></th>\n",
              "      <th></th>\n",
              "      <th></th>\n",
              "      <th></th>\n",
              "      <th></th>\n",
              "      <th></th>\n",
              "      <th></th>\n",
              "    </tr>\n",
              "  </thead>\n",
              "  <tbody>\n",
              "    <tr>\n",
              "      <th>434</th>\n",
              "      <td>Forbidden Planet</td>\n",
              "      <td>1956-01-01</td>\n",
              "      <td>http://us.imdb.com/M/title-exact?Forbidden%20P...</td>\n",
              "      <td>0</td>\n",
              "      <td>0</td>\n",
              "      <td>0</td>\n",
              "      <td>0</td>\n",
              "      <td>0</td>\n",
              "      <td>0</td>\n",
              "      <td>0</td>\n",
              "      <td>0</td>\n",
              "      <td>0</td>\n",
              "      <td>0</td>\n",
              "      <td>0</td>\n",
              "      <td>0</td>\n",
              "      <td>0</td>\n",
              "      <td>0</td>\n",
              "      <td>1</td>\n",
              "      <td>0</td>\n",
              "      <td>0</td>\n",
              "      <td>0</td>\n",
              "    </tr>\n",
              "    <tr>\n",
              "      <th>495</th>\n",
              "      <td>Around the World in 80 Days</td>\n",
              "      <td>1956-01-01</td>\n",
              "      <td>http://us.imdb.com/M/title-exact?Around%20the%...</td>\n",
              "      <td>0</td>\n",
              "      <td>1</td>\n",
              "      <td>0</td>\n",
              "      <td>0</td>\n",
              "      <td>1</td>\n",
              "      <td>0</td>\n",
              "      <td>0</td>\n",
              "      <td>0</td>\n",
              "      <td>0</td>\n",
              "      <td>0</td>\n",
              "      <td>0</td>\n",
              "      <td>0</td>\n",
              "      <td>0</td>\n",
              "      <td>0</td>\n",
              "      <td>0</td>\n",
              "      <td>0</td>\n",
              "      <td>0</td>\n",
              "      <td>0</td>\n",
              "    </tr>\n",
              "    <tr>\n",
              "      <th>614</th>\n",
              "      <td>Giant</td>\n",
              "      <td>1956-01-01</td>\n",
              "      <td>http://us.imdb.com/M/title-exact?Giant%20(1956)</td>\n",
              "      <td>0</td>\n",
              "      <td>0</td>\n",
              "      <td>0</td>\n",
              "      <td>0</td>\n",
              "      <td>0</td>\n",
              "      <td>0</td>\n",
              "      <td>0</td>\n",
              "      <td>1</td>\n",
              "      <td>0</td>\n",
              "      <td>0</td>\n",
              "      <td>0</td>\n",
              "      <td>0</td>\n",
              "      <td>0</td>\n",
              "      <td>0</td>\n",
              "      <td>0</td>\n",
              "      <td>0</td>\n",
              "      <td>0</td>\n",
              "      <td>0</td>\n",
              "    </tr>\n",
              "    <tr>\n",
              "      <th>1577</th>\n",
              "      <td>Death in the Garden</td>\n",
              "      <td>1956-01-01</td>\n",
              "      <td>http://us.imdb.com/Title?Mort+en+ce+jardin,+La...</td>\n",
              "      <td>0</td>\n",
              "      <td>0</td>\n",
              "      <td>0</td>\n",
              "      <td>0</td>\n",
              "      <td>0</td>\n",
              "      <td>0</td>\n",
              "      <td>0</td>\n",
              "      <td>1</td>\n",
              "      <td>0</td>\n",
              "      <td>0</td>\n",
              "      <td>0</td>\n",
              "      <td>0</td>\n",
              "      <td>0</td>\n",
              "      <td>0</td>\n",
              "      <td>0</td>\n",
              "      <td>0</td>\n",
              "      <td>0</td>\n",
              "      <td>0</td>\n",
              "    </tr>\n",
              "  </tbody>\n",
              "</table>\n",
              "</div>"
            ],
            "text/plain": [
              "                                title release_date  ... war  western\n",
              "movie_id                                            ...             \n",
              "434                  Forbidden Planet   1956-01-01  ...   0        0\n",
              "495       Around the World in 80 Days   1956-01-01  ...   0        0\n",
              "614                             Giant   1956-01-01  ...   0        0\n",
              "1577              Death in the Garden   1956-01-01  ...   0        0\n",
              "\n",
              "[4 rows x 21 columns]"
            ]
          },
          "metadata": {
            "tags": []
          },
          "execution_count": 169
        }
      ]
    },
    {
      "cell_type": "markdown",
      "metadata": {
        "id": "_WrwV_m3DCev"
      },
      "source": [
        "## Melyik filmek jelentek meg a 80-as években?"
      ]
    },
    {
      "cell_type": "code",
      "metadata": {
        "id": "1gYwxXJdDCev",
        "colab": {
          "base_uri": "https://localhost:8080/"
        },
        "outputId": "4615fa14-59c9-4118-ea8e-dcae772174ef"
      },
      "source": [
        "d = df[(df.release_date.dt.year >=  1980) & (df.release_date.dt.year < 1990)]\n",
        "len(d)"
      ],
      "execution_count": 170,
      "outputs": [
        {
          "output_type": "execute_result",
          "data": {
            "text/plain": [
              "107"
            ]
          },
          "metadata": {
            "tags": []
          },
          "execution_count": 170
        }
      ]
    },
    {
      "cell_type": "markdown",
      "metadata": {
        "id": "jFZB5BpWDCey"
      },
      "source": [
        "107 film jelent meg a 80-as években, ezt már nem praktikus kiíni. Nézzük meg csak az első 3-at."
      ]
    },
    {
      "cell_type": "code",
      "metadata": {
        "id": "Jg_bAzzaDCey",
        "colab": {
          "base_uri": "https://localhost:8080/",
          "height": 0
        },
        "outputId": "d90b79f1-3bdb-47bb-eca1-16bf9b6c07ec"
      },
      "source": [
        "d.head(3)"
      ],
      "execution_count": 171,
      "outputs": [
        {
          "output_type": "execute_result",
          "data": {
            "text/html": [
              "<div>\n",
              "<style scoped>\n",
              "    .dataframe tbody tr th:only-of-type {\n",
              "        vertical-align: middle;\n",
              "    }\n",
              "\n",
              "    .dataframe tbody tr th {\n",
              "        vertical-align: top;\n",
              "    }\n",
              "\n",
              "    .dataframe thead th {\n",
              "        text-align: right;\n",
              "    }\n",
              "</style>\n",
              "<table border=\"1\" class=\"dataframe\">\n",
              "  <thead>\n",
              "    <tr style=\"text-align: right;\">\n",
              "      <th></th>\n",
              "      <th>title</th>\n",
              "      <th>release_date</th>\n",
              "      <th>imdb_url</th>\n",
              "      <th>action</th>\n",
              "      <th>adventure</th>\n",
              "      <th>animation</th>\n",
              "      <th>children</th>\n",
              "      <th>comedy</th>\n",
              "      <th>crime</th>\n",
              "      <th>documentary</th>\n",
              "      <th>drama</th>\n",
              "      <th>fantasy</th>\n",
              "      <th>film_noir</th>\n",
              "      <th>horror</th>\n",
              "      <th>musical</th>\n",
              "      <th>mystery</th>\n",
              "      <th>romance</th>\n",
              "      <th>sci_fi</th>\n",
              "      <th>thriller</th>\n",
              "      <th>war</th>\n",
              "      <th>western</th>\n",
              "    </tr>\n",
              "    <tr>\n",
              "      <th>movie_id</th>\n",
              "      <th></th>\n",
              "      <th></th>\n",
              "      <th></th>\n",
              "      <th></th>\n",
              "      <th></th>\n",
              "      <th></th>\n",
              "      <th></th>\n",
              "      <th></th>\n",
              "      <th></th>\n",
              "      <th></th>\n",
              "      <th></th>\n",
              "      <th></th>\n",
              "      <th></th>\n",
              "      <th></th>\n",
              "      <th></th>\n",
              "      <th></th>\n",
              "      <th></th>\n",
              "      <th></th>\n",
              "      <th></th>\n",
              "      <th></th>\n",
              "      <th></th>\n",
              "    </tr>\n",
              "  </thead>\n",
              "  <tbody>\n",
              "    <tr>\n",
              "      <th>89</th>\n",
              "      <td>Blade Runner</td>\n",
              "      <td>1982-01-01</td>\n",
              "      <td>http://us.imdb.com/M/title-exact?Blade%20Runne...</td>\n",
              "      <td>0</td>\n",
              "      <td>0</td>\n",
              "      <td>0</td>\n",
              "      <td>0</td>\n",
              "      <td>0</td>\n",
              "      <td>0</td>\n",
              "      <td>0</td>\n",
              "      <td>0</td>\n",
              "      <td>0</td>\n",
              "      <td>1</td>\n",
              "      <td>0</td>\n",
              "      <td>0</td>\n",
              "      <td>0</td>\n",
              "      <td>0</td>\n",
              "      <td>1</td>\n",
              "      <td>0</td>\n",
              "      <td>0</td>\n",
              "      <td>0</td>\n",
              "    </tr>\n",
              "    <tr>\n",
              "      <th>101</th>\n",
              "      <td>Heavy Metal</td>\n",
              "      <td>1981-03-08</td>\n",
              "      <td>http://us.imdb.com/M/title-exact?Heavy%20Metal...</td>\n",
              "      <td>1</td>\n",
              "      <td>1</td>\n",
              "      <td>1</td>\n",
              "      <td>0</td>\n",
              "      <td>0</td>\n",
              "      <td>0</td>\n",
              "      <td>0</td>\n",
              "      <td>0</td>\n",
              "      <td>0</td>\n",
              "      <td>0</td>\n",
              "      <td>1</td>\n",
              "      <td>0</td>\n",
              "      <td>0</td>\n",
              "      <td>0</td>\n",
              "      <td>1</td>\n",
              "      <td>0</td>\n",
              "      <td>0</td>\n",
              "      <td>0</td>\n",
              "    </tr>\n",
              "    <tr>\n",
              "      <th>144</th>\n",
              "      <td>Die Hard</td>\n",
              "      <td>1988-01-01</td>\n",
              "      <td>http://us.imdb.com/M/title-exact?Die%20Hard%20...</td>\n",
              "      <td>1</td>\n",
              "      <td>0</td>\n",
              "      <td>0</td>\n",
              "      <td>0</td>\n",
              "      <td>0</td>\n",
              "      <td>0</td>\n",
              "      <td>0</td>\n",
              "      <td>0</td>\n",
              "      <td>0</td>\n",
              "      <td>0</td>\n",
              "      <td>0</td>\n",
              "      <td>0</td>\n",
              "      <td>0</td>\n",
              "      <td>0</td>\n",
              "      <td>0</td>\n",
              "      <td>1</td>\n",
              "      <td>0</td>\n",
              "      <td>0</td>\n",
              "    </tr>\n",
              "  </tbody>\n",
              "</table>\n",
              "</div>"
            ],
            "text/plain": [
              "                 title release_date  ... war  western\n",
              "movie_id                             ...             \n",
              "89        Blade Runner   1982-01-01  ...   0        0\n",
              "101        Heavy Metal   1981-03-08  ...   0        0\n",
              "144           Die Hard   1988-01-01  ...   0        0\n",
              "\n",
              "[3 rows x 21 columns]"
            ]
          },
          "metadata": {
            "tags": []
          },
          "execution_count": 171
        }
      ]
    },
    {
      "cell_type": "markdown",
      "metadata": {
        "id": "jfNFGP8tDCe0"
      },
      "source": [
        "### A megjelenítési év legyen külön oszlop\n",
        "\n",
        "Többször fogjuk még használni a megjelenési évet, ezért praktikus külön év oszlopot létrehozni.\n",
        "\n",
        "A DateTime mezőhöz használható metódusok és attribútumok a dt névtérben vannak, így tudjuk minden oszlopra egyszerre meghívni. Az eredményt egy új oszlopban tároljuk."
      ]
    },
    {
      "cell_type": "code",
      "metadata": {
        "id": "eYCIi59bDCe1"
      },
      "source": [
        "df['year'] = df.release_date.dt.year"
      ],
      "execution_count": 172,
      "outputs": []
    },
    {
      "cell_type": "markdown",
      "metadata": {
        "id": "dBQvC4hkDCe3"
      },
      "source": [
        "## Mikor jelentek meg a Die Hard filmek? "
      ]
    },
    {
      "cell_type": "code",
      "metadata": {
        "id": "MuVUhdbXDCe4",
        "colab": {
          "base_uri": "https://localhost:8080/",
          "height": 0
        },
        "outputId": "6f5ee877-1d28-4d73-db4e-23590d2285fd"
      },
      "source": [
        "df[df.title == 'Die Hard']"
      ],
      "execution_count": 173,
      "outputs": [
        {
          "output_type": "execute_result",
          "data": {
            "text/html": [
              "<div>\n",
              "<style scoped>\n",
              "    .dataframe tbody tr th:only-of-type {\n",
              "        vertical-align: middle;\n",
              "    }\n",
              "\n",
              "    .dataframe tbody tr th {\n",
              "        vertical-align: top;\n",
              "    }\n",
              "\n",
              "    .dataframe thead th {\n",
              "        text-align: right;\n",
              "    }\n",
              "</style>\n",
              "<table border=\"1\" class=\"dataframe\">\n",
              "  <thead>\n",
              "    <tr style=\"text-align: right;\">\n",
              "      <th></th>\n",
              "      <th>title</th>\n",
              "      <th>release_date</th>\n",
              "      <th>imdb_url</th>\n",
              "      <th>action</th>\n",
              "      <th>adventure</th>\n",
              "      <th>animation</th>\n",
              "      <th>children</th>\n",
              "      <th>comedy</th>\n",
              "      <th>crime</th>\n",
              "      <th>documentary</th>\n",
              "      <th>drama</th>\n",
              "      <th>fantasy</th>\n",
              "      <th>film_noir</th>\n",
              "      <th>horror</th>\n",
              "      <th>musical</th>\n",
              "      <th>mystery</th>\n",
              "      <th>romance</th>\n",
              "      <th>sci_fi</th>\n",
              "      <th>thriller</th>\n",
              "      <th>war</th>\n",
              "      <th>western</th>\n",
              "      <th>year</th>\n",
              "    </tr>\n",
              "    <tr>\n",
              "      <th>movie_id</th>\n",
              "      <th></th>\n",
              "      <th></th>\n",
              "      <th></th>\n",
              "      <th></th>\n",
              "      <th></th>\n",
              "      <th></th>\n",
              "      <th></th>\n",
              "      <th></th>\n",
              "      <th></th>\n",
              "      <th></th>\n",
              "      <th></th>\n",
              "      <th></th>\n",
              "      <th></th>\n",
              "      <th></th>\n",
              "      <th></th>\n",
              "      <th></th>\n",
              "      <th></th>\n",
              "      <th></th>\n",
              "      <th></th>\n",
              "      <th></th>\n",
              "      <th></th>\n",
              "      <th></th>\n",
              "    </tr>\n",
              "  </thead>\n",
              "  <tbody>\n",
              "    <tr>\n",
              "      <th>144</th>\n",
              "      <td>Die Hard</td>\n",
              "      <td>1988-01-01</td>\n",
              "      <td>http://us.imdb.com/M/title-exact?Die%20Hard%20...</td>\n",
              "      <td>1</td>\n",
              "      <td>0</td>\n",
              "      <td>0</td>\n",
              "      <td>0</td>\n",
              "      <td>0</td>\n",
              "      <td>0</td>\n",
              "      <td>0</td>\n",
              "      <td>0</td>\n",
              "      <td>0</td>\n",
              "      <td>0</td>\n",
              "      <td>0</td>\n",
              "      <td>0</td>\n",
              "      <td>0</td>\n",
              "      <td>0</td>\n",
              "      <td>0</td>\n",
              "      <td>1</td>\n",
              "      <td>0</td>\n",
              "      <td>0</td>\n",
              "      <td>1988.0</td>\n",
              "    </tr>\n",
              "  </tbody>\n",
              "</table>\n",
              "</div>"
            ],
            "text/plain": [
              "             title release_date  ... western    year\n",
              "movie_id                         ...                \n",
              "144       Die Hard   1988-01-01  ...       0  1988.0\n",
              "\n",
              "[1 rows x 22 columns]"
            ]
          },
          "metadata": {
            "tags": []
          },
          "execution_count": 173
        }
      ]
    },
    {
      "cell_type": "markdown",
      "metadata": {
        "id": "oQnPaIfHDCe6"
      },
      "source": [
        "Sajnos csak teljes egyezésre tudunk így szűrni.\n",
        "\n",
        "A szöveges mezőkre a pandas nyújt egy csomó műveletet, amik az str névtérben vannak (ahogy a dátum mezőkre a dt-ben voltak)."
      ]
    },
    {
      "cell_type": "code",
      "metadata": {
        "id": "bF2KkqgODCe7",
        "colab": {
          "base_uri": "https://localhost:8080/",
          "height": 0
        },
        "outputId": "6ae89935-7c22-40cb-c22e-82a090e95916"
      },
      "source": [
        "df[df.title.str.contains('Die Hard')]"
      ],
      "execution_count": 174,
      "outputs": [
        {
          "output_type": "execute_result",
          "data": {
            "text/html": [
              "<div>\n",
              "<style scoped>\n",
              "    .dataframe tbody tr th:only-of-type {\n",
              "        vertical-align: middle;\n",
              "    }\n",
              "\n",
              "    .dataframe tbody tr th {\n",
              "        vertical-align: top;\n",
              "    }\n",
              "\n",
              "    .dataframe thead th {\n",
              "        text-align: right;\n",
              "    }\n",
              "</style>\n",
              "<table border=\"1\" class=\"dataframe\">\n",
              "  <thead>\n",
              "    <tr style=\"text-align: right;\">\n",
              "      <th></th>\n",
              "      <th>title</th>\n",
              "      <th>release_date</th>\n",
              "      <th>imdb_url</th>\n",
              "      <th>action</th>\n",
              "      <th>adventure</th>\n",
              "      <th>animation</th>\n",
              "      <th>children</th>\n",
              "      <th>comedy</th>\n",
              "      <th>crime</th>\n",
              "      <th>documentary</th>\n",
              "      <th>drama</th>\n",
              "      <th>fantasy</th>\n",
              "      <th>film_noir</th>\n",
              "      <th>horror</th>\n",
              "      <th>musical</th>\n",
              "      <th>mystery</th>\n",
              "      <th>romance</th>\n",
              "      <th>sci_fi</th>\n",
              "      <th>thriller</th>\n",
              "      <th>war</th>\n",
              "      <th>western</th>\n",
              "      <th>year</th>\n",
              "    </tr>\n",
              "    <tr>\n",
              "      <th>movie_id</th>\n",
              "      <th></th>\n",
              "      <th></th>\n",
              "      <th></th>\n",
              "      <th></th>\n",
              "      <th></th>\n",
              "      <th></th>\n",
              "      <th></th>\n",
              "      <th></th>\n",
              "      <th></th>\n",
              "      <th></th>\n",
              "      <th></th>\n",
              "      <th></th>\n",
              "      <th></th>\n",
              "      <th></th>\n",
              "      <th></th>\n",
              "      <th></th>\n",
              "      <th></th>\n",
              "      <th></th>\n",
              "      <th></th>\n",
              "      <th></th>\n",
              "      <th></th>\n",
              "      <th></th>\n",
              "    </tr>\n",
              "  </thead>\n",
              "  <tbody>\n",
              "    <tr>\n",
              "      <th>144</th>\n",
              "      <td>Die Hard</td>\n",
              "      <td>1988-01-01</td>\n",
              "      <td>http://us.imdb.com/M/title-exact?Die%20Hard%20...</td>\n",
              "      <td>1</td>\n",
              "      <td>0</td>\n",
              "      <td>0</td>\n",
              "      <td>0</td>\n",
              "      <td>0</td>\n",
              "      <td>0</td>\n",
              "      <td>0</td>\n",
              "      <td>0</td>\n",
              "      <td>0</td>\n",
              "      <td>0</td>\n",
              "      <td>0</td>\n",
              "      <td>0</td>\n",
              "      <td>0</td>\n",
              "      <td>0</td>\n",
              "      <td>0</td>\n",
              "      <td>1</td>\n",
              "      <td>0</td>\n",
              "      <td>0</td>\n",
              "      <td>1988.0</td>\n",
              "    </tr>\n",
              "    <tr>\n",
              "      <th>226</th>\n",
              "      <td>Die Hard 2</td>\n",
              "      <td>1990-01-01</td>\n",
              "      <td>http://us.imdb.com/M/title-exact?Die%20Hard%20...</td>\n",
              "      <td>1</td>\n",
              "      <td>0</td>\n",
              "      <td>0</td>\n",
              "      <td>0</td>\n",
              "      <td>0</td>\n",
              "      <td>0</td>\n",
              "      <td>0</td>\n",
              "      <td>0</td>\n",
              "      <td>0</td>\n",
              "      <td>0</td>\n",
              "      <td>0</td>\n",
              "      <td>0</td>\n",
              "      <td>0</td>\n",
              "      <td>0</td>\n",
              "      <td>0</td>\n",
              "      <td>1</td>\n",
              "      <td>0</td>\n",
              "      <td>0</td>\n",
              "      <td>1990.0</td>\n",
              "    </tr>\n",
              "    <tr>\n",
              "      <th>550</th>\n",
              "      <td>Die Hard: With a Vengeance</td>\n",
              "      <td>1995-01-01</td>\n",
              "      <td>http://us.imdb.com/M/title-exact?Die%20Hard:%2...</td>\n",
              "      <td>1</td>\n",
              "      <td>0</td>\n",
              "      <td>0</td>\n",
              "      <td>0</td>\n",
              "      <td>0</td>\n",
              "      <td>0</td>\n",
              "      <td>0</td>\n",
              "      <td>0</td>\n",
              "      <td>0</td>\n",
              "      <td>0</td>\n",
              "      <td>0</td>\n",
              "      <td>0</td>\n",
              "      <td>0</td>\n",
              "      <td>0</td>\n",
              "      <td>0</td>\n",
              "      <td>1</td>\n",
              "      <td>0</td>\n",
              "      <td>0</td>\n",
              "      <td>1995.0</td>\n",
              "    </tr>\n",
              "  </tbody>\n",
              "</table>\n",
              "</div>"
            ],
            "text/plain": [
              "                               title release_date  ... western    year\n",
              "movie_id                                           ...                \n",
              "144                         Die Hard   1988-01-01  ...       0  1988.0\n",
              "226                       Die Hard 2   1990-01-01  ...       0  1990.0\n",
              "550       Die Hard: With a Vengeance   1995-01-01  ...       0  1995.0\n",
              "\n",
              "[3 rows x 22 columns]"
            ]
          },
          "metadata": {
            "tags": []
          },
          "execution_count": 174
        }
      ]
    },
    {
      "cell_type": "markdown",
      "metadata": {
        "id": "0-ULK1fkDCe-"
      },
      "source": [
        "A Die Hard 4 és 5 hiányzik. Kilógnának az adatsorból? Nézzük meg még egyszer, hogy mikori filmek szerepelnek."
      ]
    },
    {
      "cell_type": "code",
      "metadata": {
        "id": "dR7MWKuaDCe-",
        "colab": {
          "base_uri": "https://localhost:8080/"
        },
        "outputId": "de1a1371-951d-40da-ab1d-5d10335deeb7"
      },
      "source": [
        "df.release_date.describe()"
      ],
      "execution_count": 175,
      "outputs": [
        {
          "output_type": "stream",
          "text": [
            "/usr/local/lib/python3.7/dist-packages/ipykernel_launcher.py:1: FutureWarning: Treating datetime data as categorical rather than numeric in `.describe` is deprecated and will be removed in a future version of pandas. Specify `datetime_is_numeric=True` to silence this warning and adopt the future behavior now.\n",
            "  \"\"\"Entry point for launching an IPython kernel.\n"
          ],
          "name": "stderr"
        },
        {
          "output_type": "execute_result",
          "data": {
            "text/plain": [
              "count                    1681\n",
              "unique                    240\n",
              "top       1995-01-01 00:00:00\n",
              "freq                      215\n",
              "first     1922-01-01 00:00:00\n",
              "last      1998-10-23 00:00:00\n",
              "Name: release_date, dtype: object"
            ]
          },
          "metadata": {
            "tags": []
          },
          "execution_count": 175
        }
      ]
    },
    {
      "cell_type": "markdown",
      "metadata": {
        "id": "dNDo-EZsDCfB"
      },
      "source": [
        "A Die Hard 4 és 5 2007-ben, illetve 2013-ban jelentek meg, ezért nem szerepelnek az adatban."
      ]
    },
    {
      "cell_type": "markdown",
      "metadata": {
        "id": "GxNZ-6_4DCfC"
      },
      "source": [
        "### Melyik filmek tartoznak egyszerre az akció és romantikus kategóriába?"
      ]
    },
    {
      "cell_type": "code",
      "metadata": {
        "id": "y5lNA16oDCfD",
        "colab": {
          "base_uri": "https://localhost:8080/",
          "height": 0
        },
        "outputId": "afcfb0db-36b7-4e2b-edda-93c30e6b0e97"
      },
      "source": [
        "d = df[(df.action==1) & (df.romance==1)]\n",
        "print(len(d))\n",
        "d.head()"
      ],
      "execution_count": 176,
      "outputs": [
        {
          "output_type": "stream",
          "text": [
            "25\n"
          ],
          "name": "stdout"
        },
        {
          "output_type": "execute_result",
          "data": {
            "text/html": [
              "<div>\n",
              "<style scoped>\n",
              "    .dataframe tbody tr th:only-of-type {\n",
              "        vertical-align: middle;\n",
              "    }\n",
              "\n",
              "    .dataframe tbody tr th {\n",
              "        vertical-align: top;\n",
              "    }\n",
              "\n",
              "    .dataframe thead th {\n",
              "        text-align: right;\n",
              "    }\n",
              "</style>\n",
              "<table border=\"1\" class=\"dataframe\">\n",
              "  <thead>\n",
              "    <tr style=\"text-align: right;\">\n",
              "      <th></th>\n",
              "      <th>title</th>\n",
              "      <th>release_date</th>\n",
              "      <th>imdb_url</th>\n",
              "      <th>action</th>\n",
              "      <th>adventure</th>\n",
              "      <th>animation</th>\n",
              "      <th>children</th>\n",
              "      <th>comedy</th>\n",
              "      <th>crime</th>\n",
              "      <th>documentary</th>\n",
              "      <th>drama</th>\n",
              "      <th>fantasy</th>\n",
              "      <th>film_noir</th>\n",
              "      <th>horror</th>\n",
              "      <th>musical</th>\n",
              "      <th>mystery</th>\n",
              "      <th>romance</th>\n",
              "      <th>sci_fi</th>\n",
              "      <th>thriller</th>\n",
              "      <th>war</th>\n",
              "      <th>western</th>\n",
              "      <th>year</th>\n",
              "    </tr>\n",
              "    <tr>\n",
              "      <th>movie_id</th>\n",
              "      <th></th>\n",
              "      <th></th>\n",
              "      <th></th>\n",
              "      <th></th>\n",
              "      <th></th>\n",
              "      <th></th>\n",
              "      <th></th>\n",
              "      <th></th>\n",
              "      <th></th>\n",
              "      <th></th>\n",
              "      <th></th>\n",
              "      <th></th>\n",
              "      <th></th>\n",
              "      <th></th>\n",
              "      <th></th>\n",
              "      <th></th>\n",
              "      <th></th>\n",
              "      <th></th>\n",
              "      <th></th>\n",
              "      <th></th>\n",
              "      <th></th>\n",
              "      <th></th>\n",
              "    </tr>\n",
              "  </thead>\n",
              "  <tbody>\n",
              "    <tr>\n",
              "      <th>33</th>\n",
              "      <td>Desperado</td>\n",
              "      <td>1995-01-01</td>\n",
              "      <td>http://us.imdb.com/M/title-exact?Desperado%20(...</td>\n",
              "      <td>1</td>\n",
              "      <td>0</td>\n",
              "      <td>0</td>\n",
              "      <td>0</td>\n",
              "      <td>0</td>\n",
              "      <td>0</td>\n",
              "      <td>0</td>\n",
              "      <td>0</td>\n",
              "      <td>0</td>\n",
              "      <td>0</td>\n",
              "      <td>0</td>\n",
              "      <td>0</td>\n",
              "      <td>0</td>\n",
              "      <td>1</td>\n",
              "      <td>0</td>\n",
              "      <td>1</td>\n",
              "      <td>0</td>\n",
              "      <td>0</td>\n",
              "      <td>1995.0</td>\n",
              "    </tr>\n",
              "    <tr>\n",
              "      <th>50</th>\n",
              "      <td>Star Wars</td>\n",
              "      <td>1977-01-01</td>\n",
              "      <td>http://us.imdb.com/M/title-exact?Star%20Wars%2...</td>\n",
              "      <td>1</td>\n",
              "      <td>1</td>\n",
              "      <td>0</td>\n",
              "      <td>0</td>\n",
              "      <td>0</td>\n",
              "      <td>0</td>\n",
              "      <td>0</td>\n",
              "      <td>0</td>\n",
              "      <td>0</td>\n",
              "      <td>0</td>\n",
              "      <td>0</td>\n",
              "      <td>0</td>\n",
              "      <td>0</td>\n",
              "      <td>1</td>\n",
              "      <td>1</td>\n",
              "      <td>0</td>\n",
              "      <td>1</td>\n",
              "      <td>0</td>\n",
              "      <td>1977.0</td>\n",
              "    </tr>\n",
              "    <tr>\n",
              "      <th>68</th>\n",
              "      <td>Crow, The</td>\n",
              "      <td>1994-01-01</td>\n",
              "      <td>http://us.imdb.com/M/title-exact?Crow,%20The%2...</td>\n",
              "      <td>1</td>\n",
              "      <td>0</td>\n",
              "      <td>0</td>\n",
              "      <td>0</td>\n",
              "      <td>0</td>\n",
              "      <td>0</td>\n",
              "      <td>0</td>\n",
              "      <td>0</td>\n",
              "      <td>0</td>\n",
              "      <td>0</td>\n",
              "      <td>0</td>\n",
              "      <td>0</td>\n",
              "      <td>0</td>\n",
              "      <td>1</td>\n",
              "      <td>0</td>\n",
              "      <td>1</td>\n",
              "      <td>0</td>\n",
              "      <td>0</td>\n",
              "      <td>1994.0</td>\n",
              "    </tr>\n",
              "    <tr>\n",
              "      <th>92</th>\n",
              "      <td>True Romance</td>\n",
              "      <td>1993-01-01</td>\n",
              "      <td>http://us.imdb.com/M/title-exact?True%20Romanc...</td>\n",
              "      <td>1</td>\n",
              "      <td>0</td>\n",
              "      <td>0</td>\n",
              "      <td>0</td>\n",
              "      <td>0</td>\n",
              "      <td>1</td>\n",
              "      <td>0</td>\n",
              "      <td>0</td>\n",
              "      <td>0</td>\n",
              "      <td>0</td>\n",
              "      <td>0</td>\n",
              "      <td>0</td>\n",
              "      <td>0</td>\n",
              "      <td>1</td>\n",
              "      <td>0</td>\n",
              "      <td>0</td>\n",
              "      <td>0</td>\n",
              "      <td>0</td>\n",
              "      <td>1993.0</td>\n",
              "    </tr>\n",
              "    <tr>\n",
              "      <th>161</th>\n",
              "      <td>Top Gun</td>\n",
              "      <td>1986-01-01</td>\n",
              "      <td>http://us.imdb.com/M/title-exact?Top%20Gun%20(...</td>\n",
              "      <td>1</td>\n",
              "      <td>0</td>\n",
              "      <td>0</td>\n",
              "      <td>0</td>\n",
              "      <td>0</td>\n",
              "      <td>0</td>\n",
              "      <td>0</td>\n",
              "      <td>0</td>\n",
              "      <td>0</td>\n",
              "      <td>0</td>\n",
              "      <td>0</td>\n",
              "      <td>0</td>\n",
              "      <td>0</td>\n",
              "      <td>1</td>\n",
              "      <td>0</td>\n",
              "      <td>0</td>\n",
              "      <td>0</td>\n",
              "      <td>0</td>\n",
              "      <td>1986.0</td>\n",
              "    </tr>\n",
              "  </tbody>\n",
              "</table>\n",
              "</div>"
            ],
            "text/plain": [
              "                 title release_date  ... western    year\n",
              "movie_id                             ...                \n",
              "33           Desperado   1995-01-01  ...       0  1995.0\n",
              "50           Star Wars   1977-01-01  ...       0  1977.0\n",
              "68           Crow, The   1994-01-01  ...       0  1994.0\n",
              "92        True Romance   1993-01-01  ...       0  1993.0\n",
              "161            Top Gun   1986-01-01  ...       0  1986.0\n",
              "\n",
              "[5 rows x 22 columns]"
            ]
          },
          "metadata": {
            "tags": []
          },
          "execution_count": 176
        }
      ]
    },
    {
      "cell_type": "markdown",
      "metadata": {
        "id": "V9QF1I9ODCfG"
      },
      "source": [
        "### Melyik filmek tartoznak az akció VAGY a romantikus kategóriába?\n",
        "\n",
        "Itt a Boole vagyra gondolunk."
      ]
    },
    {
      "cell_type": "code",
      "metadata": {
        "id": "2t3Ga5MyDCfG",
        "colab": {
          "base_uri": "https://localhost:8080/",
          "height": 0
        },
        "outputId": "9f2e6ee8-e400-418c-b3e3-4ef4dd06d395"
      },
      "source": [
        "d = df[(df.action==1) | (df.romance==1)]\n",
        "print(len(d))\n",
        "d.head()"
      ],
      "execution_count": 177,
      "outputs": [
        {
          "output_type": "stream",
          "text": [
            "473\n"
          ],
          "name": "stdout"
        },
        {
          "output_type": "execute_result",
          "data": {
            "text/html": [
              "<div>\n",
              "<style scoped>\n",
              "    .dataframe tbody tr th:only-of-type {\n",
              "        vertical-align: middle;\n",
              "    }\n",
              "\n",
              "    .dataframe tbody tr th {\n",
              "        vertical-align: top;\n",
              "    }\n",
              "\n",
              "    .dataframe thead th {\n",
              "        text-align: right;\n",
              "    }\n",
              "</style>\n",
              "<table border=\"1\" class=\"dataframe\">\n",
              "  <thead>\n",
              "    <tr style=\"text-align: right;\">\n",
              "      <th></th>\n",
              "      <th>title</th>\n",
              "      <th>release_date</th>\n",
              "      <th>imdb_url</th>\n",
              "      <th>action</th>\n",
              "      <th>adventure</th>\n",
              "      <th>animation</th>\n",
              "      <th>children</th>\n",
              "      <th>comedy</th>\n",
              "      <th>crime</th>\n",
              "      <th>documentary</th>\n",
              "      <th>drama</th>\n",
              "      <th>fantasy</th>\n",
              "      <th>film_noir</th>\n",
              "      <th>horror</th>\n",
              "      <th>musical</th>\n",
              "      <th>mystery</th>\n",
              "      <th>romance</th>\n",
              "      <th>sci_fi</th>\n",
              "      <th>thriller</th>\n",
              "      <th>war</th>\n",
              "      <th>western</th>\n",
              "      <th>year</th>\n",
              "    </tr>\n",
              "    <tr>\n",
              "      <th>movie_id</th>\n",
              "      <th></th>\n",
              "      <th></th>\n",
              "      <th></th>\n",
              "      <th></th>\n",
              "      <th></th>\n",
              "      <th></th>\n",
              "      <th></th>\n",
              "      <th></th>\n",
              "      <th></th>\n",
              "      <th></th>\n",
              "      <th></th>\n",
              "      <th></th>\n",
              "      <th></th>\n",
              "      <th></th>\n",
              "      <th></th>\n",
              "      <th></th>\n",
              "      <th></th>\n",
              "      <th></th>\n",
              "      <th></th>\n",
              "      <th></th>\n",
              "      <th></th>\n",
              "      <th></th>\n",
              "    </tr>\n",
              "  </thead>\n",
              "  <tbody>\n",
              "    <tr>\n",
              "      <th>2</th>\n",
              "      <td>GoldenEye</td>\n",
              "      <td>1995-01-01</td>\n",
              "      <td>http://us.imdb.com/M/title-exact?GoldenEye%20(...</td>\n",
              "      <td>1</td>\n",
              "      <td>1</td>\n",
              "      <td>0</td>\n",
              "      <td>0</td>\n",
              "      <td>0</td>\n",
              "      <td>0</td>\n",
              "      <td>0</td>\n",
              "      <td>0</td>\n",
              "      <td>0</td>\n",
              "      <td>0</td>\n",
              "      <td>0</td>\n",
              "      <td>0</td>\n",
              "      <td>0</td>\n",
              "      <td>0</td>\n",
              "      <td>0</td>\n",
              "      <td>1</td>\n",
              "      <td>0</td>\n",
              "      <td>0</td>\n",
              "      <td>1995.0</td>\n",
              "    </tr>\n",
              "    <tr>\n",
              "      <th>4</th>\n",
              "      <td>Get Shorty</td>\n",
              "      <td>1995-01-01</td>\n",
              "      <td>http://us.imdb.com/M/title-exact?Get%20Shorty%...</td>\n",
              "      <td>1</td>\n",
              "      <td>0</td>\n",
              "      <td>0</td>\n",
              "      <td>0</td>\n",
              "      <td>1</td>\n",
              "      <td>0</td>\n",
              "      <td>0</td>\n",
              "      <td>1</td>\n",
              "      <td>0</td>\n",
              "      <td>0</td>\n",
              "      <td>0</td>\n",
              "      <td>0</td>\n",
              "      <td>0</td>\n",
              "      <td>0</td>\n",
              "      <td>0</td>\n",
              "      <td>0</td>\n",
              "      <td>0</td>\n",
              "      <td>0</td>\n",
              "      <td>1995.0</td>\n",
              "    </tr>\n",
              "    <tr>\n",
              "      <th>14</th>\n",
              "      <td>Postino, Il</td>\n",
              "      <td>1994-01-01</td>\n",
              "      <td>http://us.imdb.com/M/title-exact?Postino,%20Il...</td>\n",
              "      <td>0</td>\n",
              "      <td>0</td>\n",
              "      <td>0</td>\n",
              "      <td>0</td>\n",
              "      <td>0</td>\n",
              "      <td>0</td>\n",
              "      <td>0</td>\n",
              "      <td>1</td>\n",
              "      <td>0</td>\n",
              "      <td>0</td>\n",
              "      <td>0</td>\n",
              "      <td>0</td>\n",
              "      <td>0</td>\n",
              "      <td>1</td>\n",
              "      <td>0</td>\n",
              "      <td>0</td>\n",
              "      <td>0</td>\n",
              "      <td>0</td>\n",
              "      <td>1994.0</td>\n",
              "    </tr>\n",
              "    <tr>\n",
              "      <th>16</th>\n",
              "      <td>French Twist</td>\n",
              "      <td>1995-01-01</td>\n",
              "      <td>http://us.imdb.com/M/title-exact?Gazon%20maudi...</td>\n",
              "      <td>0</td>\n",
              "      <td>0</td>\n",
              "      <td>0</td>\n",
              "      <td>0</td>\n",
              "      <td>1</td>\n",
              "      <td>0</td>\n",
              "      <td>0</td>\n",
              "      <td>0</td>\n",
              "      <td>0</td>\n",
              "      <td>0</td>\n",
              "      <td>0</td>\n",
              "      <td>0</td>\n",
              "      <td>0</td>\n",
              "      <td>1</td>\n",
              "      <td>0</td>\n",
              "      <td>0</td>\n",
              "      <td>0</td>\n",
              "      <td>0</td>\n",
              "      <td>1995.0</td>\n",
              "    </tr>\n",
              "    <tr>\n",
              "      <th>17</th>\n",
              "      <td>From Dusk Till Dawn</td>\n",
              "      <td>1996-02-05</td>\n",
              "      <td>http://us.imdb.com/M/title-exact?From%20Dusk%2...</td>\n",
              "      <td>1</td>\n",
              "      <td>0</td>\n",
              "      <td>0</td>\n",
              "      <td>0</td>\n",
              "      <td>1</td>\n",
              "      <td>1</td>\n",
              "      <td>0</td>\n",
              "      <td>0</td>\n",
              "      <td>0</td>\n",
              "      <td>0</td>\n",
              "      <td>1</td>\n",
              "      <td>0</td>\n",
              "      <td>0</td>\n",
              "      <td>0</td>\n",
              "      <td>0</td>\n",
              "      <td>1</td>\n",
              "      <td>0</td>\n",
              "      <td>0</td>\n",
              "      <td>1996.0</td>\n",
              "    </tr>\n",
              "  </tbody>\n",
              "</table>\n",
              "</div>"
            ],
            "text/plain": [
              "                        title release_date  ... western    year\n",
              "movie_id                                    ...                \n",
              "2                   GoldenEye   1995-01-01  ...       0  1995.0\n",
              "4                  Get Shorty   1995-01-01  ...       0  1995.0\n",
              "14                Postino, Il   1994-01-01  ...       0  1994.0\n",
              "16               French Twist   1995-01-01  ...       0  1995.0\n",
              "17        From Dusk Till Dawn   1996-02-05  ...       0  1996.0\n",
              "\n",
              "[5 rows x 22 columns]"
            ]
          },
          "metadata": {
            "tags": []
          },
          "execution_count": 177
        }
      ]
    },
    {
      "cell_type": "markdown",
      "metadata": {
        "deletable": false,
        "editable": false,
        "nbgrader": {
          "checksum": "794775487fd5d1a40e72cab5c415d0d2",
          "grade": false,
          "grade_id": "cell-83664848351a0968",
          "locked": true,
          "schema_version": 1,
          "solution": false
        },
        "id": "EFibemLGDCfI"
      },
      "source": [
        "# 1. feladat: egyszerű lekérdezések\n",
        "\n",
        "## Q1.1. Hány akciófilm jelent meg 1985 előtt, illetve 1985-ben vagy később?"
      ]
    },
    {
      "cell_type": "code",
      "metadata": {
        "deletable": false,
        "nbgrader": {
          "checksum": "a8d49ef435a03df8d2bcffbd8d87e2f2",
          "grade": false,
          "grade_id": "cell-abde75970957d2cb",
          "locked": false,
          "schema_version": 1,
          "solution": true
        },
        "id": "LASN7o-RDCfJ"
      },
      "source": [
        "def count_movies_before_1985(df):\n",
        "    # YOUR CODE HERE\n",
        "    d = df[(df.release_date.dt.year <  1985)]\n",
        "    da = d[(d.action==1)]\n",
        "    return len(da)\n",
        "    # raise NotImplementedError()\n",
        "    \n",
        "def count_movies_after_1984(df):\n",
        "    # YOUR CODE HERE\n",
        "    d = df[(df.release_date.dt.year >=  1985)]\n",
        "    da = d[(d.action==1)]\n",
        "    return len(da)\n",
        "    #raise NotImplementedError()\n",
        "    #d = df[(df.release_date.dt.year >=  1980) & (df.release_date.dt.year < 1990)]\n",
        "    #len(d)\n",
        "    #d = df[(df.action==1) & (df.romance==1)]\n",
        "    #print(len(d))"
      ],
      "execution_count": 178,
      "outputs": []
    },
    {
      "cell_type": "code",
      "metadata": {
        "deletable": false,
        "editable": false,
        "nbgrader": {
          "checksum": "bb8e48e78102bd3ebb1f11f0c358a7b6",
          "grade": true,
          "grade_id": "cell-90380c100c2c99e4",
          "locked": true,
          "points": 2,
          "schema_version": 1,
          "solution": false
        },
        "id": "XcRkJuVPDCfL",
        "colab": {
          "base_uri": "https://localhost:8080/"
        },
        "outputId": "e7c98999-402c-45cc-bcac-7057942ffac8"
      },
      "source": [
        "before = count_movies_before_1985(df)\n",
        "print(before)\n",
        "assert type(before) == int\n",
        "\n",
        "after = count_movies_after_1984(df)\n",
        "print(after)\n",
        "assert type(after) == int"
      ],
      "execution_count": 179,
      "outputs": [
        {
          "output_type": "stream",
          "text": [
            "26\n",
            "225\n"
          ],
          "name": "stdout"
        }
      ]
    },
    {
      "cell_type": "markdown",
      "metadata": {
        "collapsed": true,
        "id": "PX_GKw4SDCfN"
      },
      "source": [
        "## Q1.2. Létezik-e gyerekeknek szóló thriller? Keress egy példát rá és térj vissza a film címével."
      ]
    },
    {
      "cell_type": "code",
      "metadata": {
        "deletable": false,
        "nbgrader": {
          "checksum": "de3efd3e234bad2c9e0a269a1a59feb4",
          "grade": false,
          "grade_id": "cell-7d6998016cab5cd9",
          "locked": false,
          "schema_version": 1,
          "solution": true
        },
        "id": "jRCBl6TYDCfN"
      },
      "source": [
        "def child_thriller(df):\n",
        "    # YOUR CODE HERE\n",
        "    #raise NotImplementedError()\n",
        "    return df[(df.children ==  1) & (df.thriller == 1)]['title'].item()"
      ],
      "execution_count": 180,
      "outputs": []
    },
    {
      "cell_type": "code",
      "metadata": {
        "deletable": false,
        "editable": false,
        "nbgrader": {
          "checksum": "ef50f7d63580a8c6c4ad86cd2b299d9e",
          "grade": true,
          "grade_id": "cell-cbb321ba78e5eed5",
          "locked": true,
          "points": 2,
          "schema_version": 1,
          "solution": false
        },
        "id": "nUqmTI5LDCfP",
        "colab": {
          "base_uri": "https://localhost:8080/",
          "height": 0
        },
        "outputId": "7e54d374-ef00-4dbd-ee05-a5362e8507a0"
      },
      "source": [
        "title = child_thriller(df)\n",
        "assert type(title) == str\n",
        "title"
      ],
      "execution_count": 181,
      "outputs": [
        {
          "output_type": "execute_result",
          "data": {
            "application/vnd.google.colaboratory.intrinsic+json": {
              "type": "string"
            },
            "text/plain": [
              "'Transformers: The Movie, The'"
            ]
          },
          "metadata": {
            "tags": []
          },
          "execution_count": 181
        }
      ]
    },
    {
      "cell_type": "markdown",
      "metadata": {
        "collapsed": true,
        "id": "9GTC6FXtDCfR"
      },
      "source": [
        "## Q1.3. Hány filmnek hosszabb a címe, mint 30 karakter?"
      ]
    },
    {
      "cell_type": "code",
      "metadata": {
        "deletable": false,
        "nbgrader": {
          "checksum": "3851df6b38d0c8150d0ecc8f3deb4d9e",
          "grade": false,
          "grade_id": "cell-7480c2cb962bc996",
          "locked": false,
          "schema_version": 1,
          "solution": true
        },
        "id": "uv319yqMDCfS"
      },
      "source": [
        "def long_titles(df):\n",
        "    # YOUR CODE HERE\n",
        "    #raise NotImplementedError()\n",
        "    return len(df[df.title.str.len() > 30])"
      ],
      "execution_count": 182,
      "outputs": []
    },
    {
      "cell_type": "code",
      "metadata": {
        "deletable": false,
        "editable": false,
        "nbgrader": {
          "checksum": "695639339697d688dec916a9715bd3ad",
          "grade": true,
          "grade_id": "cell-073da9a4a0ec716b",
          "locked": true,
          "points": 2,
          "schema_version": 1,
          "solution": false
        },
        "id": "mR-3uHnbDCfU",
        "colab": {
          "base_uri": "https://localhost:8080/"
        },
        "outputId": "aadafe1b-5ea7-4328-b6a7-63cec366cdd4"
      },
      "source": [
        "title_cnt = long_titles(df)\n",
        "assert type(title_cnt) == int\n",
        "title_cnt"
      ],
      "execution_count": 183,
      "outputs": [
        {
          "output_type": "execute_result",
          "data": {
            "text/plain": [
              "79"
            ]
          },
          "metadata": {
            "tags": []
          },
          "execution_count": 183
        }
      ]
    },
    {
      "cell_type": "markdown",
      "metadata": {
        "id": "MXH2FByiDCfV"
      },
      "source": [
        "## Q1.4. Mi a legrégebbi és a legújabb film címe?\n",
        "\n",
        "A megjelenésnek nem csak éve van!"
      ]
    },
    {
      "cell_type": "code",
      "metadata": {
        "deletable": false,
        "nbgrader": {
          "checksum": "2791ddb8e2f2968d1f6fe4329173c259",
          "grade": false,
          "grade_id": "cell-db89cfcda5c6fb31",
          "locked": false,
          "schema_version": 1,
          "solution": true
        },
        "id": "urDUsGUqDCfY"
      },
      "source": [
        "def oldest_movie(df):\n",
        "    # YOUR CODE HERE\n",
        "    #raise NotImplementedError()\n",
        "    ret_val = df[df.release_date == df['release_date'].max()]\n",
        "    return ret_val.title.item()\n",
        "\n",
        "def newest_movie(df):\n",
        "    # YOUR CODE HERE\n",
        "    #raise NotImplementedError()\n",
        "    ret_val = df[df.release_date == df['release_date'].min()]\n",
        "    return ret_val.title.item()"
      ],
      "execution_count": 184,
      "outputs": []
    },
    {
      "cell_type": "code",
      "metadata": {
        "deletable": false,
        "editable": false,
        "nbgrader": {
          "checksum": "2c17a680319291981704cf5437f19fce",
          "grade": true,
          "grade_id": "cell-03b3ff7a443c1f34",
          "locked": true,
          "points": 2,
          "schema_version": 1,
          "solution": false
        },
        "id": "Bx2EIrvTDCfb"
      },
      "source": [
        "oldest = oldest_movie(df)\n",
        "newest = newest_movie(df)\n",
        "assert type(oldest) == str\n",
        "assert type(newest) == str"
      ],
      "execution_count": 185,
      "outputs": []
    },
    {
      "cell_type": "markdown",
      "metadata": {
        "id": "ixIK_Q5aDCfe"
      },
      "source": [
        "## Q1.5. Melyik a legújabb sci-fi?"
      ]
    },
    {
      "cell_type": "code",
      "metadata": {
        "deletable": false,
        "nbgrader": {
          "checksum": "1c100d0a3f7f39af248257fca9c13817",
          "grade": false,
          "grade_id": "cell-70ec6b26d5705422",
          "locked": false,
          "schema_version": 1,
          "solution": true
        },
        "id": "PJlxtzg7DCff"
      },
      "source": [
        "def newest_scifi(df):\n",
        "    # YOUR CODE HERE\n",
        "    #raise NotImplementedError()\n",
        "    return df[(df.release_date == df[df.sci_fi == 1].release_date.max()) & (df.sci_fi == 1)].title.item()"
      ],
      "execution_count": 186,
      "outputs": []
    },
    {
      "cell_type": "code",
      "metadata": {
        "deletable": false,
        "editable": false,
        "nbgrader": {
          "checksum": "258184942d372f64e2a04f5d638fcb44",
          "grade": true,
          "grade_id": "cell-eeae9ee18c8b9329",
          "locked": true,
          "points": 2,
          "schema_version": 1,
          "solution": false
        },
        "id": "UgWZKkGEDCfh"
      },
      "source": [
        "newest = newest_scifi(df)\n",
        "assert type(newest) == str"
      ],
      "execution_count": 187,
      "outputs": []
    },
    {
      "cell_type": "markdown",
      "metadata": {
        "id": "e-oH9d7RDCfk"
      },
      "source": [
        "# Csoportosítás és vizualizáció"
      ]
    },
    {
      "cell_type": "markdown",
      "metadata": {
        "id": "Y-Avrov1DCfk"
      },
      "source": [
        "## Hány filmet adtak ki évente?\n",
        "\n",
        "A kérdést két lépésben tudjuk megválaszolni:\n",
        "\n",
        "1. csoportosítás évenként\n",
        "2. összesítés 1-1 évre\n"
      ]
    },
    {
      "cell_type": "code",
      "metadata": {
        "id": "VBgxew01DCfl",
        "colab": {
          "base_uri": "https://localhost:8080/",
          "height": 0
        },
        "outputId": "c91e7f56-fd6c-4697-b423-f049898b28ab"
      },
      "source": [
        "df.groupby('year').size().plot()"
      ],
      "execution_count": 188,
      "outputs": [
        {
          "output_type": "execute_result",
          "data": {
            "text/plain": [
              "<matplotlib.axes._subplots.AxesSubplot at 0x7f38d5f57090>"
            ]
          },
          "metadata": {
            "tags": []
          },
          "execution_count": 188
        },
        {
          "output_type": "display_data",
          "data": {
            "image/png": "[encoded data removed]",
            "text/plain": [
              "<Figure size 1080x216 with 1 Axes>"
            ]
          },
          "metadata": {
            "tags": []
          }
        }
      ]
    },
    {
      "cell_type": "markdown",
      "metadata": {
        "id": "OkKltYR5DCfn"
      },
      "source": [
        "Vonaldiagram az alapértelmezett, de oszlopdiagramként informatívabb lenne."
      ]
    },
    {
      "cell_type": "code",
      "metadata": {
        "id": "Z2zOnZ5bDCfn",
        "colab": {
          "base_uri": "https://localhost:8080/",
          "height": 0
        },
        "outputId": "bd8a9b54-842f-487a-c2d1-719e92e81f1d"
      },
      "source": [
        "df.groupby('year').size().plot(kind='bar')"
      ],
      "execution_count": 189,
      "outputs": [
        {
          "output_type": "execute_result",
          "data": {
            "text/plain": [
              "<matplotlib.axes._subplots.AxesSubplot at 0x7f38d5d60190>"
            ]
          },
          "metadata": {
            "tags": []
          },
          "execution_count": 189
        },
        {
          "output_type": "display_data",
          "data": {
            "image/png": "[encoded data removed]",
            "text/plain": [
              "<Figure size 1080x216 with 1 Axes>"
            ]
          },
          "metadata": {
            "tags": []
          }
        }
      ]
    },
    {
      "cell_type": "markdown",
      "metadata": {
        "id": "H_rm84w5DCfp"
      },
      "source": [
        "Lásztik, hogy a 80-as évek végén nőtt meg a kiadott filmek száma, kicsit közelítsünk rá. Ehhez először szűrni fogjuk a 1985 utáni filmeket, majd csoportosítva ábrázolni."
      ]
    },
    {
      "cell_type": "code",
      "metadata": {
        "id": "e6RDUuFQDCfp",
        "colab": {
          "base_uri": "https://localhost:8080/"
        },
        "outputId": "7ee0af1a-a4cc-4166-b0c9-c445a0b09745"
      },
      "source": [
        "d = df[df.year > 1985]\n",
        "d.groupby('year')#.size().plot(kind='bar')\n",
        "print(type(d))\n",
        "# df[df.year > 1985].groupby('year').size().plot(kind='bar')  # vagy egy sorban"
      ],
      "execution_count": 190,
      "outputs": [
        {
          "output_type": "stream",
          "text": [
            "<class 'pandas.core.frame.DataFrame'>\n"
          ],
          "name": "stdout"
        }
      ]
    },
    {
      "cell_type": "markdown",
      "metadata": {
        "id": "SIv8vpgfDCfs"
      },
      "source": [
        "## Groupby tetszőleges feltétel szerint\n",
        "\n",
        "Nem csak egy kategóriaértékű oszlop szerint csoportosíthatunk, hanem tetszőleges kifejezés szerint. Ezt kihasználva fogunk évtizedenként csoportosítani. A groupby-nak bármilyen kifejezést megadhatunk, ami diszkrét értékekre képezi le a sorokat, tehát véges sok csoport egyikébe helyezi (mint egy hash függvény).\n",
        "\n",
        "Az évtizedet úgy kaphatjuk meg, ha az évet 10-zel osztjuk és csak az egészrészt tartjuk meg, hiszen 1983/10 és 1984/10 egészrésze ugyanúgy 198. Használjuk a Python egészosztás operátorát (//)."
      ]
    },
    {
      "cell_type": "code",
      "metadata": {
        "id": "3bUzxlCHDCft",
        "colab": {
          "base_uri": "https://localhost:8080/"
        },
        "outputId": "8ad16680-38e5-4b3c-a484-04ba8302cb4b"
      },
      "source": [
        "d = df.groupby(df.year // 10 * 10)\n",
        "d.groups.keys()  # létrejött csoportok listázása"
      ],
      "execution_count": 191,
      "outputs": [
        {
          "output_type": "execute_result",
          "data": {
            "text/plain": [
              "dict_keys([1920.0, 1930.0, 1940.0, 1950.0, 1960.0, 1970.0, 1980.0, 1990.0])"
            ]
          },
          "metadata": {
            "tags": []
          },
          "execution_count": 191
        }
      ]
    },
    {
      "cell_type": "code",
      "metadata": {
        "id": "XdL02rlsDCfu",
        "colab": {
          "base_uri": "https://localhost:8080/",
          "height": 0
        },
        "outputId": "5decd4fe-ea7b-4100-83f5-931b5cda8690"
      },
      "source": [
        "d.size().plot(kind='bar')"
      ],
      "execution_count": 192,
      "outputs": [
        {
          "output_type": "execute_result",
          "data": {
            "text/plain": [
              "<matplotlib.axes._subplots.AxesSubplot at 0x7f38d5b7d190>"
            ]
          },
          "metadata": {
            "tags": []
          },
          "execution_count": 192
        },
        {
          "output_type": "display_data",
          "data": {
            "image/png": "[encoded data removed]",
            "text/plain": [
              "<Figure size 1080x216 with 1 Axes>"
            ]
          },
          "metadata": {
            "tags": []
          }
        }
      ]
    },
    {
      "cell_type": "markdown",
      "metadata": {
        "collapsed": true,
        "id": "FfFLoA1KDCfw"
      },
      "source": [
        "# 2. feladat: csoportosítás és vizualizáció\n",
        "\n",
        "## Q2.1. Csoportosítsd vígjátékokat (comedy) évenként. Ábrázold oszlopdiagramon hány vígjátékot adtak ki évente."
      ]
    },
    {
      "cell_type": "code",
      "metadata": {
        "deletable": false,
        "nbgrader": {
          "checksum": "be8d1d71406b33b08aa7200aa81ba5c4",
          "grade": false,
          "grade_id": "cell-c10e5a08055ccda8",
          "locked": false,
          "schema_version": 1,
          "solution": true
        },
        "id": "ApaihX4bDCfw"
      },
      "source": [
        "def comedy_by_year(df):\n",
        "    return df[df.comedy == 1].groupby('year')"
      ],
      "execution_count": 193,
      "outputs": []
    },
    {
      "cell_type": "code",
      "metadata": {
        "deletable": false,
        "editable": false,
        "nbgrader": {
          "checksum": "2bff52040d9c83abd2826e93e200f615",
          "grade": true,
          "grade_id": "cell-807aa8d0d6a6bfc1",
          "locked": true,
          "points": 1,
          "schema_version": 1,
          "solution": false
        },
        "id": "ylC2t1ktDCfy"
      },
      "source": [
        "c = comedy_by_year(df)\n",
        "assert type(c) == pd.core.groupby.DataFrameGroupBy"
      ],
      "execution_count": 194,
      "outputs": []
    },
    {
      "cell_type": "markdown",
      "metadata": {
        "id": "0tHcDA0ODCf0"
      },
      "source": [
        "### Ábrázold."
      ]
    },
    {
      "cell_type": "code",
      "metadata": {
        "deletable": false,
        "nbgrader": {
          "checksum": "80917f3a05ad5692f978d35ef2b19356",
          "grade": true,
          "grade_id": "cell-140b896a5eb168c2",
          "locked": false,
          "points": 1,
          "schema_version": 1,
          "solution": true
        },
        "id": "Y3lOjfJoDCf1",
        "colab": {
          "base_uri": "https://localhost:8080/",
          "height": 0
        },
        "outputId": "90e19279-1be5-4fbc-eb85-68adb960dabd"
      },
      "source": [
        "# YOUR CODE HERE\n",
        "c.size().plot(kind='bar')"
      ],
      "execution_count": 195,
      "outputs": [
        {
          "output_type": "execute_result",
          "data": {
            "text/plain": [
              "<matplotlib.axes._subplots.AxesSubplot at 0x7f38d5af6990>"
            ]
          },
          "metadata": {
            "tags": []
          },
          "execution_count": 195
        },
        {
          "output_type": "display_data",
          "data": {
            "image/png": "[encoded data removed]",
            "text/plain": [
              "<Figure size 1080x216 with 1 Axes>"
            ]
          },
          "metadata": {
            "tags": []
          }
        }
      ]
    },
    {
      "cell_type": "markdown",
      "metadata": {
        "collapsed": true,
        "id": "ZjxhLbXWDCf2"
      },
      "source": [
        "## Gyerekfilmet vagy krimit adnak ki többet évtizedenként?"
      ]
    },
    {
      "cell_type": "code",
      "metadata": {
        "id": "l_M13G8HDCf2",
        "colab": {
          "base_uri": "https://localhost:8080/",
          "height": 0
        },
        "outputId": "28a5ab6c-939e-4133-febd-1aceedef20c2"
      },
      "source": [
        "col1 = 'children'\n",
        "col2 = 'crime'\n",
        "d = df[['year', col1, col2]].copy()\n",
        "d['diff'] = d[col1] - d[col2]\n",
        "d.groupby(d.year // 10 * 10).sum()"
      ],
      "execution_count": 196,
      "outputs": [
        {
          "output_type": "execute_result",
          "data": {
            "text/html": [
              "<div>\n",
              "<style scoped>\n",
              "    .dataframe tbody tr th:only-of-type {\n",
              "        vertical-align: middle;\n",
              "    }\n",
              "\n",
              "    .dataframe tbody tr th {\n",
              "        vertical-align: top;\n",
              "    }\n",
              "\n",
              "    .dataframe thead th {\n",
              "        text-align: right;\n",
              "    }\n",
              "</style>\n",
              "<table border=\"1\" class=\"dataframe\">\n",
              "  <thead>\n",
              "    <tr style=\"text-align: right;\">\n",
              "      <th></th>\n",
              "      <th>year</th>\n",
              "      <th>children</th>\n",
              "      <th>crime</th>\n",
              "      <th>diff</th>\n",
              "    </tr>\n",
              "    <tr>\n",
              "      <th>year</th>\n",
              "      <th></th>\n",
              "      <th></th>\n",
              "      <th></th>\n",
              "      <th></th>\n",
              "    </tr>\n",
              "  </thead>\n",
              "  <tbody>\n",
              "    <tr>\n",
              "      <th>1920.0</th>\n",
              "      <td>3848.0</td>\n",
              "      <td>0</td>\n",
              "      <td>0</td>\n",
              "      <td>0</td>\n",
              "    </tr>\n",
              "    <tr>\n",
              "      <th>1930.0</th>\n",
              "      <td>56142.0</td>\n",
              "      <td>3</td>\n",
              "      <td>2</td>\n",
              "      <td>1</td>\n",
              "    </tr>\n",
              "    <tr>\n",
              "      <th>1940.0</th>\n",
              "      <td>87486.0</td>\n",
              "      <td>5</td>\n",
              "      <td>4</td>\n",
              "      <td>1</td>\n",
              "    </tr>\n",
              "    <tr>\n",
              "      <th>1950.0</th>\n",
              "      <td>105558.0</td>\n",
              "      <td>6</td>\n",
              "      <td>2</td>\n",
              "      <td>4</td>\n",
              "    </tr>\n",
              "    <tr>\n",
              "      <th>1960.0</th>\n",
              "      <td>84475.0</td>\n",
              "      <td>8</td>\n",
              "      <td>2</td>\n",
              "      <td>6</td>\n",
              "    </tr>\n",
              "    <tr>\n",
              "      <th>1970.0</th>\n",
              "      <td>104668.0</td>\n",
              "      <td>7</td>\n",
              "      <td>4</td>\n",
              "      <td>3</td>\n",
              "    </tr>\n",
              "    <tr>\n",
              "      <th>1980.0</th>\n",
              "      <td>212384.0</td>\n",
              "      <td>4</td>\n",
              "      <td>3</td>\n",
              "      <td>1</td>\n",
              "    </tr>\n",
              "    <tr>\n",
              "      <th>1990.0</th>\n",
              "      <td>2689597.0</td>\n",
              "      <td>89</td>\n",
              "      <td>92</td>\n",
              "      <td>-3</td>\n",
              "    </tr>\n",
              "  </tbody>\n",
              "</table>\n",
              "</div>"
            ],
            "text/plain": [
              "             year  children  crime  diff\n",
              "year                                    \n",
              "1920.0     3848.0         0      0     0\n",
              "1930.0    56142.0         3      2     1\n",
              "1940.0    87486.0         5      4     1\n",
              "1950.0   105558.0         6      2     4\n",
              "1960.0    84475.0         8      2     6\n",
              "1970.0   104668.0         7      4     3\n",
              "1980.0   212384.0         4      3     1\n",
              "1990.0  2689597.0        89     92    -3"
            ]
          },
          "metadata": {
            "tags": []
          },
          "execution_count": 196
        }
      ]
    },
    {
      "cell_type": "code",
      "metadata": {
        "id": "ZPmUp3ZbDCf4",
        "colab": {
          "base_uri": "https://localhost:8080/",
          "height": 0
        },
        "outputId": "e6235799-0a3e-41e8-b4e7-5991aa6374ec"
      },
      "source": [
        "d.groupby(d.year // 10 * 10).sum().plot(y='diff', kind='bar')"
      ],
      "execution_count": 197,
      "outputs": [
        {
          "output_type": "execute_result",
          "data": {
            "text/plain": [
              "<matplotlib.axes._subplots.AxesSubplot at 0x7f38d59b4e90>"
            ]
          },
          "metadata": {
            "tags": []
          },
          "execution_count": 197
        },
        {
          "output_type": "display_data",
          "data": {
            "image/png": "[encoded data removed]",
            "text/plain": [
              "<Figure size 1080x216 with 1 Axes>"
            ]
          },
          "metadata": {
            "tags": []
          }
        }
      ]
    },
    {
      "cell_type": "markdown",
      "metadata": {
        "collapsed": true,
        "id": "6Nt-mHYGDCf5"
      },
      "source": [
        "A 90-es években több filmet adtak ki, mint előtte összesen, nézzük meg azt az évtizedet közelebbről!"
      ]
    },
    {
      "cell_type": "markdown",
      "metadata": {
        "id": "VqzaQf-HDCf5"
      },
      "source": [
        "## Q2.2. Mennyivel adtak ki több gyerekfilmet, mint krimit *évente* a 90-es években? Ábrázold.\n",
        "\n",
        "Először a szűrt groupby-t készítsd el az imént létrhozott `d` `DataFrame`-ből."
      ]
    },
    {
      "cell_type": "code",
      "metadata": {
        "deletable": false,
        "nbgrader": {
          "checksum": "ac74ffafba0296a080ccc610c0d65a47",
          "grade": false,
          "grade_id": "cell-7c0a00a23a0d4571",
          "locked": false,
          "schema_version": 1,
          "solution": true
        },
        "id": "Hd7OYkCKDCf6"
      },
      "source": [
        "def groupby_nineties(d):\n",
        "    return d[(d.year >= 1990) & (d.year < 2000)].groupby('year')"
      ],
      "execution_count": 198,
      "outputs": []
    },
    {
      "cell_type": "code",
      "metadata": {
        "deletable": false,
        "editable": false,
        "nbgrader": {
          "checksum": "74f6b565c663678b1e06a1c3403fce51",
          "grade": true,
          "grade_id": "cell-b2540f371e9031f2",
          "locked": true,
          "points": 1,
          "schema_version": 1,
          "solution": false
        },
        "id": "CSnvqQyqDCf7"
      },
      "source": [
        "nineties = groupby_nineties(d)\n",
        "assert type(nineties) == pd.core.groupby.DataFrameGroupBy\n",
        "\n",
        "# a diff oszlop szerepel\n",
        "assert 'diff' in nineties.sum()"
      ],
      "execution_count": 199,
      "outputs": []
    },
    {
      "cell_type": "markdown",
      "metadata": {
        "id": "HuEryS-eDCf8"
      },
      "source": [
        "### Ábrázold."
      ]
    },
    {
      "cell_type": "code",
      "metadata": {
        "deletable": false,
        "nbgrader": {
          "checksum": "51d69e2d32d3424b6ade8a8dc0539c7c",
          "grade": true,
          "grade_id": "cell-3e55984d23007a72",
          "locked": false,
          "points": 1,
          "schema_version": 1,
          "solution": true
        },
        "id": "v_tfdVcaDCf9",
        "colab": {
          "base_uri": "https://localhost:8080/",
          "height": 0
        },
        "outputId": "408aa17b-185e-4376-a435-e601175fa10d"
      },
      "source": [
        "# YOUR CODE HERE\n",
        "nineties.sum().plot(y='diff', kind='bar')"
      ],
      "execution_count": 200,
      "outputs": [
        {
          "output_type": "execute_result",
          "data": {
            "text/plain": [
              "<matplotlib.axes._subplots.AxesSubplot at 0x7f38d592d710>"
            ]
          },
          "metadata": {
            "tags": []
          },
          "execution_count": 200
        },
        {
          "output_type": "display_data",
          "data": {
            "image/png": "[encoded data removed]",
            "text/plain": [
              "<Figure size 1080x216 with 1 Axes>"
            ]
          },
          "metadata": {
            "tags": []
          }
        }
      ]
    },
    {
      "cell_type": "markdown",
      "metadata": {
        "id": "4iRpSNYiDCf_"
      },
      "source": [
        "## Q2.3. Ábrázold a kiadási napok (hónap napjai) eloszlását egy tortadiagramon!\n",
        "\n",
        "Tortadiagramot a `plot` függvény `kind=\"pie\"` argumentumával tudsz készíteni.\n",
        "\n",
        "A tortadiagramhoz érdemes megváltoztatni a diagram képarányát, amit a plot függvény `figsize` paraméterének megadásával tehetsz meg. `figsize=(10,10)`. Százalékokat a `autopct=\"%.0lf%%\"` opcióval lehet a diagramra írni.\n",
        "\n",
        "A tortadiagramot szebbé teheted másik colormap választásával: [dokumentáció](http://pandas.pydata.org/pandas-docs/stable/visualization.html#colormaps) és a [colormapek listája](http://scipy.github.io/old-wiki/pages/Cookbook/Matplotlib/Show_colormaps)."
      ]
    },
    {
      "cell_type": "code",
      "metadata": {
        "deletable": false,
        "nbgrader": {
          "checksum": "cc610af14cec9330d6cd862a367614cb",
          "grade": false,
          "grade_id": "cell-315ae1f679373727",
          "locked": false,
          "schema_version": 1,
          "solution": true
        },
        "id": "K6uyFfj9DCgA"
      },
      "source": [
        "def groupby_release_day(df):\n",
        "    return df.groupby(df.release_date.dt.day)\n",
        "    raise NotImplementedError()"
      ],
      "execution_count": 201,
      "outputs": []
    },
    {
      "cell_type": "code",
      "metadata": {
        "deletable": false,
        "editable": false,
        "nbgrader": {
          "checksum": "05ec9f6098c828dd93956a00cf5762e9",
          "grade": true,
          "grade_id": "cell-096bd0f71dd64737",
          "locked": true,
          "points": 1,
          "schema_version": 1,
          "solution": false
        },
        "id": "II-XeUn4DCgB"
      },
      "source": [
        "by_day = groupby_release_day(df)\n",
        "assert type(by_day) == pd.core.groupby.DataFrameGroupBy\n",
        "\n",
        "# legfeljebb 31 napos egy hónap\n",
        "assert len(by_day) < 32\n",
        "\n",
        "# nehogy a hét napjai szerint csoportosítsunk\n",
        "assert len(by_day) > 7"
      ],
      "execution_count": 202,
      "outputs": []
    },
    {
      "cell_type": "markdown",
      "metadata": {
        "id": "1J1xMmUvDCgC"
      },
      "source": [
        "### Ábrázold."
      ]
    },
    {
      "cell_type": "code",
      "metadata": {
        "deletable": false,
        "nbgrader": {
          "checksum": "9f547fcc006ac4e3f509f92ba132d84c",
          "grade": true,
          "grade_id": "cell-6ec6a50f9b8f16ce",
          "locked": false,
          "points": 1,
          "schema_version": 1,
          "solution": true
        },
        "id": "5Jo84x7QDCgC",
        "colab": {
          "base_uri": "https://localhost:8080/",
          "height": 0
        },
        "outputId": "4d86cef2-3a49-4c73-ce0f-caf147915641"
      },
      "source": [
        "# YOUR CODE HERE\n",
        "by_day.size().plot(figsize=(10,10), kind=\"pie\", autopct=\"%.0lf%%\")"
      ],
      "execution_count": 203,
      "outputs": [
        {
          "output_type": "execute_result",
          "data": {
            "text/plain": [
              "<matplotlib.axes._subplots.AxesSubplot at 0x7f38d583f690>"
            ]
          },
          "metadata": {
            "tags": []
          },
          "execution_count": 203
        },
        {
          "output_type": "display_data",
          "data": {
            "image/png": "[encoded data removed]",
            "text/plain": [
              "<Figure size 720x720 with 1 Axes>"
            ]
          },
          "metadata": {
            "tags": []
          }
        }
      ]
    },
    {
      "cell_type": "markdown",
      "metadata": {
        "id": "tPb-PaCyDCgE"
      },
      "source": [
        "## Q2.4. Hagyományos lexikont szeretnénk készíteni a filmekből. Melyik kezdőbetű hányszor fordul elő a filmek címében? Ábrázold tortadiagramon.\n",
        "\n",
        "### Csoportosítsd a filmeket kezdőbetű szerint."
      ]
    },
    {
      "cell_type": "code",
      "metadata": {
        "deletable": false,
        "nbgrader": {
          "checksum": "be4e5df09ed307a8bd77138a2325cec1",
          "grade": false,
          "grade_id": "cell-195ef56890ee5308",
          "locked": false,
          "schema_version": 1,
          "solution": true
        },
        "id": "T9uh8ObtDCgE"
      },
      "source": [
        "def groupby_initial_letter(df):\n",
        "    # YOUR CODE HERE\n",
        "    return df.groupby(df.title.str[0])"
      ],
      "execution_count": 204,
      "outputs": []
    },
    {
      "cell_type": "code",
      "metadata": {
        "deletable": false,
        "editable": false,
        "nbgrader": {
          "checksum": "41cc9b28cc9bb7e69dfc1b6facc41ab9",
          "grade": true,
          "grade_id": "cell-adf0cd4d7e02bbce",
          "locked": true,
          "points": 1,
          "schema_version": 1,
          "solution": false
        },
        "id": "1X-V90_JDCgF"
      },
      "source": [
        "initial = groupby_initial_letter(df)\n",
        "\n",
        "assert type(initial) == pd.core.groupby.DataFrameGroupBy"
      ],
      "execution_count": 205,
      "outputs": []
    },
    {
      "cell_type": "markdown",
      "metadata": {
        "id": "7X-TaYpbDCgI"
      },
      "source": [
        "### Ábrázold."
      ]
    },
    {
      "cell_type": "code",
      "metadata": {
        "deletable": false,
        "nbgrader": {
          "checksum": "a19f66d4fdda83e2ce6d577fcff4062c",
          "grade": true,
          "grade_id": "cell-f0fffc87a2e19e12",
          "locked": false,
          "points": 1,
          "schema_version": 1,
          "solution": true
        },
        "id": "UHxU2d2tDCgI",
        "colab": {
          "base_uri": "https://localhost:8080/",
          "height": 0
        },
        "outputId": "ea880b9b-a1ef-4a0e-a098-2da1adca45f6"
      },
      "source": [
        "# YOUR CODE HERE\n",
        "initial.size().plot(figsize=(10,10), kind=\"pie\", autopct=\"%.0lf%%\")"
      ],
      "execution_count": 206,
      "outputs": [
        {
          "output_type": "execute_result",
          "data": {
            "text/plain": [
              "<matplotlib.axes._subplots.AxesSubplot at 0x7f38d572a890>"
            ]
          },
          "metadata": {
            "tags": []
          },
          "execution_count": 206
        },
        {
          "output_type": "display_data",
          "data": {
            "image/png": "[encoded data removed]",
            "text/plain": [
              "<Figure size 720x720 with 1 Axes>"
            ]
          },
          "metadata": {
            "tags": []
          }
        }
      ]
    },
    {
      "cell_type": "markdown",
      "metadata": {
        "id": "WAnzkDuuDCgK"
      },
      "source": [
        "## \\*Q2.5. Írj függvényt, ami több oszlop mentén csoportosít és visszaadja a legnagyobb csoportot.\n",
        "\n",
        "Tipp: a `GroupBy` objektum `get_group` függvénye visszaad egy csoportot."
      ]
    },
    {
      "cell_type": "code",
      "metadata": {
        "deletable": false,
        "nbgrader": {
          "checksum": "c64c4391204f80e449a4ee53e74d37dc",
          "grade": false,
          "grade_id": "cell-c579e9521b6eeb41",
          "locked": false,
          "schema_version": 1,
          "solution": true
        },
        "id": "SK1Uae_qDCgL"
      },
      "source": [
        "def get_largest_group(df, groupby_columns):\n",
        "    return df.groupby(groupby_columns, axis=1).GroupBy.get_group()"
      ],
      "execution_count": 207,
      "outputs": []
    },
    {
      "cell_type": "code",
      "metadata": {
        "deletable": false,
        "editable": false,
        "nbgrader": {
          "checksum": "89337b207f37a7e68e8e30c29053a1f6",
          "grade": true,
          "grade_id": "cell-29cf58ac88388473",
          "locked": true,
          "points": 2,
          "schema_version": 1,
          "solution": false
        },
        "id": "0S5dkbfNDCgM",
        "colab": {
          "base_uri": "https://localhost:8080/",
          "height": 369
        },
        "outputId": "36fa4876-bd89-438d-b604-11d4d2b06c30"
      },
      "source": [
        "genres = [\"drama\"]\n",
        "drama_largest = get_largest_group(df, genres)\n",
        "\n",
        "assert type(drama_largest) == pd.DataFrame\n",
        "assert len(drama_largest) == 957\n",
        "\n",
        "genres = [\"drama\", \"comedy\"]\n",
        "both_largest = get_largest_group(df, genres)\n",
        "\n",
        "# a csoportban minden film comedy es drama cimkeje azonos\n",
        "assert both_largest[[\"comedy\", \"drama\"]].nunique().loc[\"comedy\"] == 1\n",
        "assert both_largest[[\"comedy\", \"drama\"]].nunique().loc[\"drama\"] == 1\n",
        "print(both_largest.shape)"
      ],
      "execution_count": 208,
      "outputs": [
        {
          "output_type": "error",
          "ename": "AttributeError",
          "evalue": "ignored",
          "traceback": [
            "\u001b[0;31m---------------------------------------------------------------------------\u001b[0m",
            "\u001b[0;31mAttributeError\u001b[0m                            Traceback (most recent call last)",
            "\u001b[0;32m<ipython-input-208-c38a15d333aa>\u001b[0m in \u001b[0;36m<module>\u001b[0;34m()\u001b[0m\n\u001b[1;32m      1\u001b[0m \u001b[0mgenres\u001b[0m \u001b[0;34m=\u001b[0m \u001b[0;34m[\u001b[0m\u001b[0;34m\"drama\"\u001b[0m\u001b[0;34m]\u001b[0m\u001b[0;34m\u001b[0m\u001b[0;34m\u001b[0m\u001b[0m\n\u001b[0;32m----> 2\u001b[0;31m \u001b[0mdrama_largest\u001b[0m \u001b[0;34m=\u001b[0m \u001b[0mget_largest_group\u001b[0m\u001b[0;34m(\u001b[0m\u001b[0mdf\u001b[0m\u001b[0;34m,\u001b[0m \u001b[0mgenres\u001b[0m\u001b[0;34m)\u001b[0m\u001b[0;34m\u001b[0m\u001b[0;34m\u001b[0m\u001b[0m\n\u001b[0m\u001b[1;32m      3\u001b[0m \u001b[0;34m\u001b[0m\u001b[0m\n\u001b[1;32m      4\u001b[0m \u001b[0;32massert\u001b[0m \u001b[0mtype\u001b[0m\u001b[0;34m(\u001b[0m\u001b[0mdrama_largest\u001b[0m\u001b[0;34m)\u001b[0m \u001b[0;34m==\u001b[0m \u001b[0mpd\u001b[0m\u001b[0;34m.\u001b[0m\u001b[0mDataFrame\u001b[0m\u001b[0;34m\u001b[0m\u001b[0;34m\u001b[0m\u001b[0m\n\u001b[1;32m      5\u001b[0m \u001b[0;32massert\u001b[0m \u001b[0mlen\u001b[0m\u001b[0;34m(\u001b[0m\u001b[0mdrama_largest\u001b[0m\u001b[0;34m)\u001b[0m \u001b[0;34m==\u001b[0m \u001b[0;36m957\u001b[0m\u001b[0;34m\u001b[0m\u001b[0;34m\u001b[0m\u001b[0m\n",
            "\u001b[0;32m<ipython-input-207-140f7ac9f07a>\u001b[0m in \u001b[0;36mget_largest_group\u001b[0;34m(df, groupby_columns)\u001b[0m\n\u001b[1;32m      1\u001b[0m \u001b[0;32mdef\u001b[0m \u001b[0mget_largest_group\u001b[0m\u001b[0;34m(\u001b[0m\u001b[0mdf\u001b[0m\u001b[0;34m,\u001b[0m \u001b[0mgroupby_columns\u001b[0m\u001b[0;34m)\u001b[0m\u001b[0;34m:\u001b[0m\u001b[0;34m\u001b[0m\u001b[0;34m\u001b[0m\u001b[0m\n\u001b[0;32m----> 2\u001b[0;31m     \u001b[0;32mreturn\u001b[0m \u001b[0mdf\u001b[0m\u001b[0;34m.\u001b[0m\u001b[0mgroupby\u001b[0m\u001b[0;34m(\u001b[0m\u001b[0mgroupby_columns\u001b[0m\u001b[0;34m,\u001b[0m \u001b[0maxis\u001b[0m\u001b[0;34m=\u001b[0m\u001b[0;36m1\u001b[0m\u001b[0;34m)\u001b[0m\u001b[0;34m.\u001b[0m\u001b[0mGroupBy\u001b[0m\u001b[0;34m.\u001b[0m\u001b[0mget_group\u001b[0m\u001b[0;34m(\u001b[0m\u001b[0;34m)\u001b[0m\u001b[0;34m\u001b[0m\u001b[0;34m\u001b[0m\u001b[0m\n\u001b[0m",
            "\u001b[0;32m/usr/local/lib/python3.7/dist-packages/pandas/core/groupby/groupby.py\u001b[0m in \u001b[0;36m__getattr__\u001b[0;34m(self, attr)\u001b[0m\n\u001b[1;32m    702\u001b[0m \u001b[0;34m\u001b[0m\u001b[0m\n\u001b[1;32m    703\u001b[0m         raise AttributeError(\n\u001b[0;32m--> 704\u001b[0;31m             \u001b[0;34mf\"'{type(self).__name__}' object has no attribute '{attr}'\"\u001b[0m\u001b[0;34m\u001b[0m\u001b[0;34m\u001b[0m\u001b[0m\n\u001b[0m\u001b[1;32m    705\u001b[0m         )\n\u001b[1;32m    706\u001b[0m \u001b[0;34m\u001b[0m\u001b[0m\n",
            "\u001b[0;31mAttributeError\u001b[0m: 'DataFrameGroupBy' object has no attribute 'GroupBy'"
          ]
        }
      ]
    },
    {
      "cell_type": "markdown",
      "metadata": {
        "id": "Dw732kbjDCgO"
      },
      "source": [
        "# Több DataFrame kezelése, pd.merge"
      ]
    },
    {
      "cell_type": "markdown",
      "metadata": {
        "id": "FQtVlQYPDCgO"
      },
      "source": [
        "Az adathalmaz lényegi része a 100000 értékelés, amit az u.data fájlból tudunk beolvasni. A README-ből kiolvashatjuk a fájl oszlopait."
      ]
    },
    {
      "cell_type": "code",
      "metadata": {
        "id": "6xOdoljGDCgO"
      },
      "source": [
        "cols = ['user', 'movie_id', 'rating', 'timestamp']\n",
        "ratings = pd.read_table(os.path.join(data_dir, \"u.data\"), names=cols)"
      ],
      "execution_count": 209,
      "outputs": []
    },
    {
      "cell_type": "code",
      "metadata": {
        "id": "oMncRA8eDCgQ",
        "colab": {
          "base_uri": "https://localhost:8080/",
          "height": 196
        },
        "outputId": "a579aad2-4104-4e5d-f919-3a6388d31d5c"
      },
      "source": [
        "ratings.head()"
      ],
      "execution_count": 210,
      "outputs": [
        {
          "output_type": "execute_result",
          "data": {
            "text/html": [
              "<div>\n",
              "<style scoped>\n",
              "    .dataframe tbody tr th:only-of-type {\n",
              "        vertical-align: middle;\n",
              "    }\n",
              "\n",
              "    .dataframe tbody tr th {\n",
              "        vertical-align: top;\n",
              "    }\n",
              "\n",
              "    .dataframe thead th {\n",
              "        text-align: right;\n",
              "    }\n",
              "</style>\n",
              "<table border=\"1\" class=\"dataframe\">\n",
              "  <thead>\n",
              "    <tr style=\"text-align: right;\">\n",
              "      <th></th>\n",
              "      <th>user</th>\n",
              "      <th>movie_id</th>\n",
              "      <th>rating</th>\n",
              "      <th>timestamp</th>\n",
              "    </tr>\n",
              "  </thead>\n",
              "  <tbody>\n",
              "    <tr>\n",
              "      <th>0</th>\n",
              "      <td>196</td>\n",
              "      <td>242</td>\n",
              "      <td>3</td>\n",
              "      <td>881250949</td>\n",
              "    </tr>\n",
              "    <tr>\n",
              "      <th>1</th>\n",
              "      <td>186</td>\n",
              "      <td>302</td>\n",
              "      <td>3</td>\n",
              "      <td>891717742</td>\n",
              "    </tr>\n",
              "    <tr>\n",
              "      <th>2</th>\n",
              "      <td>22</td>\n",
              "      <td>377</td>\n",
              "      <td>1</td>\n",
              "      <td>878887116</td>\n",
              "    </tr>\n",
              "    <tr>\n",
              "      <th>3</th>\n",
              "      <td>244</td>\n",
              "      <td>51</td>\n",
              "      <td>2</td>\n",
              "      <td>880606923</td>\n",
              "    </tr>\n",
              "    <tr>\n",
              "      <th>4</th>\n",
              "      <td>166</td>\n",
              "      <td>346</td>\n",
              "      <td>1</td>\n",
              "      <td>886397596</td>\n",
              "    </tr>\n",
              "  </tbody>\n",
              "</table>\n",
              "</div>"
            ],
            "text/plain": [
              "   user  movie_id  rating  timestamp\n",
              "0   196       242       3  881250949\n",
              "1   186       302       3  891717742\n",
              "2    22       377       1  878887116\n",
              "3   244        51       2  880606923\n",
              "4   166       346       1  886397596"
            ]
          },
          "metadata": {
            "tags": []
          },
          "execution_count": 210
        }
      ]
    },
    {
      "cell_type": "markdown",
      "metadata": {
        "id": "76162XWRDCgR"
      },
      "source": [
        "A timestamp oszlop Unix timestampeket tartalmaz, konvertáljuk DateTime-má."
      ]
    },
    {
      "cell_type": "code",
      "metadata": {
        "id": "_Xat7zlADCgS",
        "colab": {
          "base_uri": "https://localhost:8080/",
          "height": 196
        },
        "outputId": "97f53d3c-1ff0-41b7-e9f8-0fef9088114d"
      },
      "source": [
        "ratings['timestamp'] = pd.to_datetime(ratings.timestamp, unit='s')\n",
        "ratings.head()"
      ],
      "execution_count": 211,
      "outputs": [
        {
          "output_type": "execute_result",
          "data": {
            "text/html": [
              "<div>\n",
              "<style scoped>\n",
              "    .dataframe tbody tr th:only-of-type {\n",
              "        vertical-align: middle;\n",
              "    }\n",
              "\n",
              "    .dataframe tbody tr th {\n",
              "        vertical-align: top;\n",
              "    }\n",
              "\n",
              "    .dataframe thead th {\n",
              "        text-align: right;\n",
              "    }\n",
              "</style>\n",
              "<table border=\"1\" class=\"dataframe\">\n",
              "  <thead>\n",
              "    <tr style=\"text-align: right;\">\n",
              "      <th></th>\n",
              "      <th>user</th>\n",
              "      <th>movie_id</th>\n",
              "      <th>rating</th>\n",
              "      <th>timestamp</th>\n",
              "    </tr>\n",
              "  </thead>\n",
              "  <tbody>\n",
              "    <tr>\n",
              "      <th>0</th>\n",
              "      <td>196</td>\n",
              "      <td>242</td>\n",
              "      <td>3</td>\n",
              "      <td>1997-12-04 15:55:49</td>\n",
              "    </tr>\n",
              "    <tr>\n",
              "      <th>1</th>\n",
              "      <td>186</td>\n",
              "      <td>302</td>\n",
              "      <td>3</td>\n",
              "      <td>1998-04-04 19:22:22</td>\n",
              "    </tr>\n",
              "    <tr>\n",
              "      <th>2</th>\n",
              "      <td>22</td>\n",
              "      <td>377</td>\n",
              "      <td>1</td>\n",
              "      <td>1997-11-07 07:18:36</td>\n",
              "    </tr>\n",
              "    <tr>\n",
              "      <th>3</th>\n",
              "      <td>244</td>\n",
              "      <td>51</td>\n",
              "      <td>2</td>\n",
              "      <td>1997-11-27 05:02:03</td>\n",
              "    </tr>\n",
              "    <tr>\n",
              "      <th>4</th>\n",
              "      <td>166</td>\n",
              "      <td>346</td>\n",
              "      <td>1</td>\n",
              "      <td>1998-02-02 05:33:16</td>\n",
              "    </tr>\n",
              "  </tbody>\n",
              "</table>\n",
              "</div>"
            ],
            "text/plain": [
              "   user  movie_id  rating           timestamp\n",
              "0   196       242       3 1997-12-04 15:55:49\n",
              "1   186       302       3 1998-04-04 19:22:22\n",
              "2    22       377       1 1997-11-07 07:18:36\n",
              "3   244        51       2 1997-11-27 05:02:03\n",
              "4   166       346       1 1998-02-02 05:33:16"
            ]
          },
          "metadata": {
            "tags": []
          },
          "execution_count": 211
        }
      ]
    },
    {
      "cell_type": "markdown",
      "metadata": {
        "collapsed": true,
        "id": "uJAkmqZ6DCgT"
      },
      "source": [
        "## Merge a film táblával"
      ]
    },
    {
      "cell_type": "markdown",
      "metadata": {
        "id": "WvCpCI7IDCgU"
      },
      "source": [
        "Mivel már több DataFrame-mel dolgozunk, érdemes a filmeket tartalmazó táblának beszédesebb nevet adni."
      ]
    },
    {
      "cell_type": "code",
      "metadata": {
        "id": "l4OIo8AGDCgU"
      },
      "source": [
        "movies = df"
      ],
      "execution_count": 212,
      "outputs": []
    },
    {
      "cell_type": "markdown",
      "metadata": {
        "id": "yoiS6Xh0DCgV"
      },
      "source": [
        "Felülírjuk a ratings táblát:"
      ]
    },
    {
      "cell_type": "code",
      "metadata": {
        "id": "MUbjHQulDCgV",
        "colab": {
          "base_uri": "https://localhost:8080/",
          "height": 384
        },
        "outputId": "a1924746-8ad0-472b-a20f-3efa5101c944"
      },
      "source": [
        "ratings = pd.merge(ratings, movies, left_on='movie_id', right_index=True)\n",
        "ratings.head()"
      ],
      "execution_count": 213,
      "outputs": [
        {
          "output_type": "execute_result",
          "data": {
            "text/html": [
              "<div>\n",
              "<style scoped>\n",
              "    .dataframe tbody tr th:only-of-type {\n",
              "        vertical-align: middle;\n",
              "    }\n",
              "\n",
              "    .dataframe tbody tr th {\n",
              "        vertical-align: top;\n",
              "    }\n",
              "\n",
              "    .dataframe thead th {\n",
              "        text-align: right;\n",
              "    }\n",
              "</style>\n",
              "<table border=\"1\" class=\"dataframe\">\n",
              "  <thead>\n",
              "    <tr style=\"text-align: right;\">\n",
              "      <th></th>\n",
              "      <th>user</th>\n",
              "      <th>movie_id</th>\n",
              "      <th>rating</th>\n",
              "      <th>timestamp</th>\n",
              "      <th>title</th>\n",
              "      <th>release_date</th>\n",
              "      <th>imdb_url</th>\n",
              "      <th>action</th>\n",
              "      <th>adventure</th>\n",
              "      <th>animation</th>\n",
              "      <th>children</th>\n",
              "      <th>comedy</th>\n",
              "      <th>crime</th>\n",
              "      <th>documentary</th>\n",
              "      <th>drama</th>\n",
              "      <th>fantasy</th>\n",
              "      <th>film_noir</th>\n",
              "      <th>horror</th>\n",
              "      <th>musical</th>\n",
              "      <th>mystery</th>\n",
              "      <th>romance</th>\n",
              "      <th>sci_fi</th>\n",
              "      <th>thriller</th>\n",
              "      <th>war</th>\n",
              "      <th>western</th>\n",
              "      <th>year</th>\n",
              "    </tr>\n",
              "  </thead>\n",
              "  <tbody>\n",
              "    <tr>\n",
              "      <th>0</th>\n",
              "      <td>196</td>\n",
              "      <td>242</td>\n",
              "      <td>3</td>\n",
              "      <td>1997-12-04 15:55:49</td>\n",
              "      <td>Kolya</td>\n",
              "      <td>1997-01-24</td>\n",
              "      <td>http://us.imdb.com/M/title-exact?Kolya%20(1996)</td>\n",
              "      <td>0</td>\n",
              "      <td>0</td>\n",
              "      <td>0</td>\n",
              "      <td>0</td>\n",
              "      <td>1</td>\n",
              "      <td>0</td>\n",
              "      <td>0</td>\n",
              "      <td>0</td>\n",
              "      <td>0</td>\n",
              "      <td>0</td>\n",
              "      <td>0</td>\n",
              "      <td>0</td>\n",
              "      <td>0</td>\n",
              "      <td>0</td>\n",
              "      <td>0</td>\n",
              "      <td>0</td>\n",
              "      <td>0</td>\n",
              "      <td>0</td>\n",
              "      <td>1997.0</td>\n",
              "    </tr>\n",
              "    <tr>\n",
              "      <th>253</th>\n",
              "      <td>63</td>\n",
              "      <td>242</td>\n",
              "      <td>3</td>\n",
              "      <td>1997-10-01 23:06:30</td>\n",
              "      <td>Kolya</td>\n",
              "      <td>1997-01-24</td>\n",
              "      <td>http://us.imdb.com/M/title-exact?Kolya%20(1996)</td>\n",
              "      <td>0</td>\n",
              "      <td>0</td>\n",
              "      <td>0</td>\n",
              "      <td>0</td>\n",
              "      <td>1</td>\n",
              "      <td>0</td>\n",
              "      <td>0</td>\n",
              "      <td>0</td>\n",
              "      <td>0</td>\n",
              "      <td>0</td>\n",
              "      <td>0</td>\n",
              "      <td>0</td>\n",
              "      <td>0</td>\n",
              "      <td>0</td>\n",
              "      <td>0</td>\n",
              "      <td>0</td>\n",
              "      <td>0</td>\n",
              "      <td>0</td>\n",
              "      <td>1997.0</td>\n",
              "    </tr>\n",
              "    <tr>\n",
              "      <th>629</th>\n",
              "      <td>226</td>\n",
              "      <td>242</td>\n",
              "      <td>5</td>\n",
              "      <td>1998-01-04 04:37:51</td>\n",
              "      <td>Kolya</td>\n",
              "      <td>1997-01-24</td>\n",
              "      <td>http://us.imdb.com/M/title-exact?Kolya%20(1996)</td>\n",
              "      <td>0</td>\n",
              "      <td>0</td>\n",
              "      <td>0</td>\n",
              "      <td>0</td>\n",
              "      <td>1</td>\n",
              "      <td>0</td>\n",
              "      <td>0</td>\n",
              "      <td>0</td>\n",
              "      <td>0</td>\n",
              "      <td>0</td>\n",
              "      <td>0</td>\n",
              "      <td>0</td>\n",
              "      <td>0</td>\n",
              "      <td>0</td>\n",
              "      <td>0</td>\n",
              "      <td>0</td>\n",
              "      <td>0</td>\n",
              "      <td>0</td>\n",
              "      <td>1997.0</td>\n",
              "    </tr>\n",
              "    <tr>\n",
              "      <th>1232</th>\n",
              "      <td>154</td>\n",
              "      <td>242</td>\n",
              "      <td>3</td>\n",
              "      <td>1997-11-10 05:03:55</td>\n",
              "      <td>Kolya</td>\n",
              "      <td>1997-01-24</td>\n",
              "      <td>http://us.imdb.com/M/title-exact?Kolya%20(1996)</td>\n",
              "      <td>0</td>\n",
              "      <td>0</td>\n",
              "      <td>0</td>\n",
              "      <td>0</td>\n",
              "      <td>1</td>\n",
              "      <td>0</td>\n",
              "      <td>0</td>\n",
              "      <td>0</td>\n",
              "      <td>0</td>\n",
              "      <td>0</td>\n",
              "      <td>0</td>\n",
              "      <td>0</td>\n",
              "      <td>0</td>\n",
              "      <td>0</td>\n",
              "      <td>0</td>\n",
              "      <td>0</td>\n",
              "      <td>0</td>\n",
              "      <td>0</td>\n",
              "      <td>1997.0</td>\n",
              "    </tr>\n",
              "    <tr>\n",
              "      <th>2159</th>\n",
              "      <td>306</td>\n",
              "      <td>242</td>\n",
              "      <td>5</td>\n",
              "      <td>1997-10-10 17:16:33</td>\n",
              "      <td>Kolya</td>\n",
              "      <td>1997-01-24</td>\n",
              "      <td>http://us.imdb.com/M/title-exact?Kolya%20(1996)</td>\n",
              "      <td>0</td>\n",
              "      <td>0</td>\n",
              "      <td>0</td>\n",
              "      <td>0</td>\n",
              "      <td>1</td>\n",
              "      <td>0</td>\n",
              "      <td>0</td>\n",
              "      <td>0</td>\n",
              "      <td>0</td>\n",
              "      <td>0</td>\n",
              "      <td>0</td>\n",
              "      <td>0</td>\n",
              "      <td>0</td>\n",
              "      <td>0</td>\n",
              "      <td>0</td>\n",
              "      <td>0</td>\n",
              "      <td>0</td>\n",
              "      <td>0</td>\n",
              "      <td>1997.0</td>\n",
              "    </tr>\n",
              "  </tbody>\n",
              "</table>\n",
              "</div>"
            ],
            "text/plain": [
              "      user  movie_id  rating  ... war western    year\n",
              "0      196       242       3  ...   0       0  1997.0\n",
              "253     63       242       3  ...   0       0  1997.0\n",
              "629    226       242       5  ...   0       0  1997.0\n",
              "1232   154       242       3  ...   0       0  1997.0\n",
              "2159   306       242       5  ...   0       0  1997.0\n",
              "\n",
              "[5 rows x 26 columns]"
            ]
          },
          "metadata": {
            "tags": []
          },
          "execution_count": 213
        }
      ]
    },
    {
      "cell_type": "markdown",
      "metadata": {
        "id": "8hf7U7chDCgW"
      },
      "source": [
        "## Hány értékelés érkezett a film megjelenése előtt?"
      ]
    },
    {
      "cell_type": "code",
      "metadata": {
        "id": "2_UrcmcrDCgX",
        "colab": {
          "base_uri": "https://localhost:8080/"
        },
        "outputId": "92096cfd-9345-4775-cb26-b3c4802963b2"
      },
      "source": [
        "len(ratings[ratings.timestamp <= ratings.release_date])"
      ],
      "execution_count": 214,
      "outputs": [
        {
          "output_type": "execute_result",
          "data": {
            "text/plain": [
              "231"
            ]
          },
          "metadata": {
            "tags": []
          },
          "execution_count": 214
        }
      ]
    },
    {
      "cell_type": "markdown",
      "metadata": {
        "id": "33T6yT-oDCga"
      },
      "source": [
        "## Hogy oszlik meg ez a szám a filmek között? "
      ]
    },
    {
      "cell_type": "code",
      "metadata": {
        "id": "n3DyQx1FDCgb",
        "colab": {
          "base_uri": "https://localhost:8080/"
        },
        "outputId": "06315570-0479-43a6-d2ad-1200bee9e86f"
      },
      "source": [
        "ratings[ratings.timestamp <= ratings.release_date].title.value_counts()"
      ],
      "execution_count": 215,
      "outputs": [
        {
          "output_type": "execute_result",
          "data": {
            "text/plain": [
              "Apt Pupil                          160\n",
              "Desperate Measures                  21\n",
              "Phantoms                             4\n",
              "Fallen                               4\n",
              "Dangerous Beauty                     4\n",
              "Hard Rain                            4\n",
              "Four Days in September               3\n",
              "Mighty, The                          3\n",
              "Prophecy II, The                     3\n",
              "Firestorm                            3\n",
              "Leading Man, The                     3\n",
              "Magic Hour, The                      3\n",
              "Wag the Dog                          2\n",
              "Shooting Fish                        2\n",
              "Half Baked                           2\n",
              "Hurricane Streets                    2\n",
              "Duoluo tianshi                       2\n",
              "Star Kid                             1\n",
              "Oscar & Lucinda                      1\n",
              "I Know What You Did Last Summer      1\n",
              "Truman Show, The                     1\n",
              "Deep Rising                          1\n",
              "Sliding Doors                        1\n",
              "Name: title, dtype: int64"
            ]
          },
          "metadata": {
            "tags": []
          },
          "execution_count": 215
        }
      ]
    },
    {
      "cell_type": "markdown",
      "metadata": {
        "id": "c6DAN0hQDCgc"
      },
      "source": [
        "# 3. feladat: merge\n",
        "\n",
        "## Q3.1. Hány film kapott legalább egyszer 4 fölötti értékelést?\n",
        "\n",
        "VIGYÁZAT! A filmek címe nem feltétlenül egyedi."
      ]
    },
    {
      "cell_type": "code",
      "metadata": {
        "deletable": false,
        "nbgrader": {
          "checksum": "085f89d27394d0ae19b45216759960b8",
          "grade": false,
          "grade_id": "cell-85e9dec05f71c070",
          "locked": false,
          "schema_version": 1,
          "solution": true
        },
        "id": "jqO7nesEDCgc"
      },
      "source": [
        "def count_greater_than_4(ratings):\n",
        "    # YOUR CODE HERE\n",
        "    return len(ratings[ratings.rating > 4])"
      ],
      "execution_count": 216,
      "outputs": []
    },
    {
      "cell_type": "code",
      "metadata": {
        "deletable": false,
        "editable": false,
        "nbgrader": {
          "checksum": "9995e201ac6886a917afc32f4de6dfa5",
          "grade": true,
          "grade_id": "cell-c78934077414f26d",
          "locked": true,
          "points": 2,
          "schema_version": 1,
          "solution": false
        },
        "id": "IfPriFPsDCgd"
      },
      "source": [
        "greater = count_greater_than_4(ratings)\n",
        "\n",
        "assert type(greater) == int\n",
        "assert greater != 1160  # titles are NOT UNIQUE"
      ],
      "execution_count": 217,
      "outputs": []
    },
    {
      "cell_type": "markdown",
      "metadata": {
        "id": "28oB43RpDCge"
      },
      "source": [
        "## Hisztogram készítése az egyes értékelésekről\n",
        "\n",
        "Hisztogram készítésére (melyik érték hányszor szerepelt), a hist függvény áll rendelkezésünkre:"
      ]
    },
    {
      "cell_type": "code",
      "metadata": {
        "id": "zKl3bT_pDCge"
      },
      "source": [
        "ratings.hist('rating', bins=5)"
      ],
      "execution_count": null,
      "outputs": []
    },
    {
      "cell_type": "markdown",
      "metadata": {
        "id": "qEhJShnzDCgf"
      },
      "source": [
        "## Q3.2. Ábrázold hisztogramon az 1960 előtti krimik értékeléseit!"
      ]
    },
    {
      "cell_type": "code",
      "metadata": {
        "deletable": false,
        "nbgrader": {
          "checksum": "7664e34c48231f99cc0e44323a21a527",
          "grade": false,
          "grade_id": "cell-82bbc27fb2b886d4",
          "locked": false,
          "schema_version": 1,
          "solution": true
        },
        "id": "5nSWlVdJDCgg"
      },
      "source": [
        "def filter_old_crime_movies(ratings):\n",
        "    # YOUR CODE HERE\n",
        "    ra = ratings[(ratings.release_date.dt.year < 1960) & (ratings.crime == 1)]\n",
        "    return ra"
      ],
      "execution_count": null,
      "outputs": []
    },
    {
      "cell_type": "code",
      "metadata": {
        "deletable": false,
        "editable": false,
        "nbgrader": {
          "checksum": "4f390cfea8e8d8d965e14b85dc851fde",
          "grade": true,
          "grade_id": "cell-404084fefeed11d9",
          "locked": true,
          "points": 1,
          "schema_version": 1,
          "solution": false
        },
        "id": "O1RJcwyTDCgh"
      },
      "source": [
        "old_crime_movies = filter_old_crime_movies(ratings)\n",
        "print(type(old_crime_movies))\n",
        "assert type(old_crime_movies) == pd.DataFrame"
      ],
      "execution_count": null,
      "outputs": []
    },
    {
      "cell_type": "markdown",
      "metadata": {
        "id": "XOMwmxJ6DCgi"
      },
      "source": [
        "### Ábrázold."
      ]
    },
    {
      "cell_type": "code",
      "metadata": {
        "deletable": false,
        "nbgrader": {
          "checksum": "82680a50937d370fe18002d1a7734d9d",
          "grade": true,
          "grade_id": "cell-49e31c1f00cff001",
          "locked": false,
          "points": 1,
          "schema_version": 1,
          "solution": true
        },
        "id": "5cwaZ35iDCgj"
      },
      "source": [
        "# YOUR CODE HERE\n",
        "old_crime_movies.hist('rating', bins=5)"
      ],
      "execution_count": null,
      "outputs": []
    },
    {
      "cell_type": "markdown",
      "metadata": {
        "id": "XZt0JmD3DCgk"
      },
      "source": [
        "## Q3.3. Mi az értékelések átlaga évtizedenként (film megjelenési éve)? \n",
        "\n",
        "Figyelj arra, hogy csak annyi adat szerepeljen az összesítésben, amennyit a feladat kér. Az indexek legyenek az évtizedek kezdőévei."
      ]
    },
    {
      "cell_type": "code",
      "metadata": {
        "deletable": false,
        "nbgrader": {
          "checksum": "21d988438d2feb9ac6e3afc8fdbeb3f8",
          "grade": false,
          "grade_id": "cell-decbc921ca930464",
          "locked": false,
          "schema_version": 1,
          "solution": true
        },
        "id": "F2CnZYf0DCgk"
      },
      "source": [
        "def rating_mean_by_decade(ratings):\n",
        "    # YOUR CODE HERE\n",
        "    return ratings.rating.groupby(ratings.release_date.dt.year // 10 * 10).mean()"
      ],
      "execution_count": null,
      "outputs": []
    },
    {
      "cell_type": "code",
      "metadata": {
        "deletable": false,
        "editable": false,
        "nbgrader": {
          "checksum": "fb5e4cbe7864918a4aabe47c0fe31544",
          "grade": true,
          "grade_id": "cell-982a107959b04fcb",
          "locked": true,
          "points": 2,
          "schema_version": 1,
          "solution": false
        },
        "id": "1ITd_uchDCgn"
      },
      "source": [
        "decade_mean = rating_mean_by_decade(ratings)\n",
        "\n",
        "# csak az ertekeles oszlop atalga erdekel minket, nem az egesz DataFrame-e\n",
        "assert not type(decade_mean) == pd.DataFrame\n",
        "assert type(decade_mean) == pd.Series\n",
        "assert 1920 in decade_mean.index\n",
        "assert 1921 not in decade_mean.index"
      ],
      "execution_count": null,
      "outputs": []
    },
    {
      "cell_type": "markdown",
      "metadata": {
        "id": "jINIPgDfDCgo"
      },
      "source": [
        "## Q3.4. Az értékelésekhez tartozik egy timestamp. Mi az értékelések átlaga a hét napjaira  lebontva?\n",
        "\n",
        "Tehát melyik napon jószívűbbek az emberek?\n",
        "\n",
        "Tipp: érdemes körbenézni a dátummezőkhöz tartozó `dt` névtérben."
      ]
    },
    {
      "cell_type": "code",
      "metadata": {
        "deletable": false,
        "nbgrader": {
          "checksum": "59ad65b0533eb7982fc56cef0985ae65",
          "grade": false,
          "grade_id": "cell-834d55d50f7f0b46",
          "locked": false,
          "schema_version": 1,
          "solution": true
        },
        "id": "U5Ja4mtODCgo"
      },
      "source": [
        "def rating_mean_by_weekday(ratings):\n",
        "    # YOUR CODE HERE\n",
        "    return ratings.rating.groupby(ratings.timestamp.dt.dayofweek).mean()"
      ],
      "execution_count": null,
      "outputs": []
    },
    {
      "cell_type": "code",
      "metadata": {
        "deletable": false,
        "editable": false,
        "nbgrader": {
          "checksum": "9821cb15070fb1de971586f487fa3a7e",
          "grade": true,
          "grade_id": "cell-fe28d509139366c5",
          "locked": true,
          "points": 2,
          "schema_version": 1,
          "solution": false
        },
        "id": "_lYE5yYgDCgr"
      },
      "source": [
        "weekday_mean = rating_mean_by_weekday(ratings)\n",
        "\n",
        "assert type(weekday_mean) == pd.Series\n",
        "assert type(weekday_mean) != pd.DataFrame  # csak egy oszlop kell"
      ],
      "execution_count": null,
      "outputs": []
    },
    {
      "cell_type": "markdown",
      "metadata": {
        "id": "KzYdRsyIDCgs"
      },
      "source": [
        "## Q3.5. Melyik hónapban mennyi a kalandfilmek (adventure) értékeléseinek szórása? \n",
        "\n",
        "Vigyázat, a szórás és a variancia nem azonos!"
      ]
    },
    {
      "cell_type": "code",
      "metadata": {
        "deletable": false,
        "nbgrader": {
          "checksum": "243453c70ea4cc3787b5c2b748b7b928",
          "grade": false,
          "grade_id": "cell-740366a1e5685e43",
          "locked": false,
          "schema_version": 1,
          "solution": true
        },
        "id": "DlGY5ZFSDCgs"
      },
      "source": [
        "def adventure_monthly_std(ratings):\n",
        "    # YOUR CODE HERE\n",
        "    return ratings.rating[ratings.adventure == 1].groupby(ratings.timestamp.dt.month).std()"
      ],
      "execution_count": null,
      "outputs": []
    },
    {
      "cell_type": "code",
      "metadata": {
        "deletable": false,
        "editable": false,
        "nbgrader": {
          "checksum": "229db57fdc101b6f1d476a7d521da857",
          "grade": true,
          "grade_id": "cell-2c59e52f7ed415e2",
          "locked": true,
          "points": 2,
          "schema_version": 1,
          "solution": false
        },
        "id": "NFIdyWP0DCgt"
      },
      "source": [
        "adventure = adventure_monthly_std(ratings)\n",
        "assert type(adventure) == pd.Series\n",
        "assert type(adventure) != pd.DataFrame\n",
        "\n",
        "# legfeljebb 12 különböző hónapban érkezhettek értékelések\n",
        "assert len(adventure) <= 12"
      ],
      "execution_count": null,
      "outputs": []
    },
    {
      "cell_type": "markdown",
      "metadata": {
        "id": "v7aSubC_DCgv"
      },
      "source": [
        "# 4. feladat: Users DataFrame"
      ]
    },
    {
      "cell_type": "markdown",
      "metadata": {
        "id": "cVDNezaHDCgv"
      },
      "source": [
        "## Q4.1 Olvasd be a u.user fájlt egy `users` nevű DataFrame-be!\n",
        "\n",
        "Segítségképpen az oszlopok: `user_id, age, gender, occupation, zip`. A `user_id` oszlop legyen a `DataFrame` indexe."
      ]
    },
    {
      "cell_type": "code",
      "metadata": {
        "deletable": false,
        "nbgrader": {
          "checksum": "300acdd4652736b1e334a3ca437c490e",
          "grade": false,
          "grade_id": "cell-3b9d4b1a3c17f947",
          "locked": false,
          "schema_version": 1,
          "solution": true
        },
        "id": "fCgeRlxMDCgw"
      },
      "source": [
        "# users = ...\n",
        "# YOUR CODE HERE\n",
        "cols = ['user_id', 'age', 'gender', 'occupation', 'zip']\n",
        "users = pd.read_table(os.path.join(data_dir, \"u.user\"), sep='|', names=cols)\n",
        "users = users.set_index('user_id')"
      ],
      "execution_count": 238,
      "outputs": []
    },
    {
      "cell_type": "code",
      "metadata": {
        "deletable": false,
        "editable": false,
        "nbgrader": {
          "checksum": "21f331de89d666db3580e25ea528e89e",
          "grade": true,
          "grade_id": "cell-6f08c87c9232ef24",
          "locked": true,
          "points": 2,
          "schema_version": 1,
          "solution": false
        },
        "id": "cs-utGZlDCgy",
        "colab": {
          "base_uri": "https://localhost:8080/"
        },
        "outputId": "9895a21f-8d45-4121-d548-9f2e203bf4b1"
      },
      "source": [
        "assert type(users) == pd.DataFrame\n",
        "print(users)\n",
        "# user_id starts from 1\n",
        "assert 0 not in users.index"
      ],
      "execution_count": 239,
      "outputs": [
        {
          "output_type": "stream",
          "text": [
            "         age gender     occupation    zip\n",
            "user_id                                  \n",
            "1         24      M     technician  85711\n",
            "2         53      F          other  94043\n",
            "3         23      M         writer  32067\n",
            "4         24      M     technician  43537\n",
            "5         33      F          other  15213\n",
            "...      ...    ...            ...    ...\n",
            "939       26      F        student  33319\n",
            "940       32      M  administrator  02215\n",
            "941       20      M        student  97229\n",
            "942       48      F      librarian  78209\n",
            "943       22      M        student  77841\n",
            "\n",
            "[943 rows x 4 columns]\n"
          ],
          "name": "stdout"
        }
      ]
    },
    {
      "cell_type": "markdown",
      "metadata": {
        "id": "EheZl1bWDCgz"
      },
      "source": [
        "## Q4.2. Egyesítsd (merge) a `ratings` táblát a `users` táblával. Őrizd meg az összes oszlopot."
      ]
    },
    {
      "cell_type": "code",
      "metadata": {
        "deletable": false,
        "nbgrader": {
          "checksum": "7f3bdac78b968a765255a4842fc16e1e",
          "grade": false,
          "grade_id": "cell-ec3d2a62dc6dc469",
          "locked": false,
          "schema_version": 1,
          "solution": true
        },
        "id": "BuFAguw1DCg0",
        "colab": {
          "base_uri": "https://localhost:8080/",
          "height": 434
        },
        "outputId": "1a8ef8e1-69d6-4148-e4e0-8c8f189337d1"
      },
      "source": [
        "# ratings = ratings.merge...\n",
        "# YOUR CODE HERE\n",
        "#ratings = ratings.merge(users, right_index=True, right_on='user_id', how='outer')\n",
        "ratings = ratings.merge(users, left_on='user', right_index=True, how = 'outer')\n",
        "ratings.head()"
      ],
      "execution_count": 244,
      "outputs": [
        {
          "output_type": "execute_result",
          "data": {
            "text/html": [
              "<div>\n",
              "<style scoped>\n",
              "    .dataframe tbody tr th:only-of-type {\n",
              "        vertical-align: middle;\n",
              "    }\n",
              "\n",
              "    .dataframe tbody tr th {\n",
              "        vertical-align: top;\n",
              "    }\n",
              "\n",
              "    .dataframe thead th {\n",
              "        text-align: right;\n",
              "    }\n",
              "</style>\n",
              "<table border=\"1\" class=\"dataframe\">\n",
              "  <thead>\n",
              "    <tr style=\"text-align: right;\">\n",
              "      <th></th>\n",
              "      <th>user</th>\n",
              "      <th>movie_id</th>\n",
              "      <th>rating</th>\n",
              "      <th>timestamp</th>\n",
              "      <th>title</th>\n",
              "      <th>release_date</th>\n",
              "      <th>imdb_url</th>\n",
              "      <th>action</th>\n",
              "      <th>adventure</th>\n",
              "      <th>animation</th>\n",
              "      <th>children</th>\n",
              "      <th>comedy</th>\n",
              "      <th>crime</th>\n",
              "      <th>documentary</th>\n",
              "      <th>drama</th>\n",
              "      <th>fantasy</th>\n",
              "      <th>film_noir</th>\n",
              "      <th>horror</th>\n",
              "      <th>musical</th>\n",
              "      <th>mystery</th>\n",
              "      <th>romance</th>\n",
              "      <th>sci_fi</th>\n",
              "      <th>thriller</th>\n",
              "      <th>war</th>\n",
              "      <th>western</th>\n",
              "      <th>year</th>\n",
              "      <th>age</th>\n",
              "      <th>gender</th>\n",
              "      <th>occupation</th>\n",
              "      <th>zip</th>\n",
              "    </tr>\n",
              "  </thead>\n",
              "  <tbody>\n",
              "    <tr>\n",
              "      <th>0</th>\n",
              "      <td>196</td>\n",
              "      <td>242</td>\n",
              "      <td>3</td>\n",
              "      <td>1997-12-04 15:55:49</td>\n",
              "      <td>Kolya</td>\n",
              "      <td>1997-01-24</td>\n",
              "      <td>http://us.imdb.com/M/title-exact?Kolya%20(1996)</td>\n",
              "      <td>0</td>\n",
              "      <td>0</td>\n",
              "      <td>0</td>\n",
              "      <td>0</td>\n",
              "      <td>1</td>\n",
              "      <td>0</td>\n",
              "      <td>0</td>\n",
              "      <td>0</td>\n",
              "      <td>0</td>\n",
              "      <td>0</td>\n",
              "      <td>0</td>\n",
              "      <td>0</td>\n",
              "      <td>0</td>\n",
              "      <td>0</td>\n",
              "      <td>0</td>\n",
              "      <td>0</td>\n",
              "      <td>0</td>\n",
              "      <td>0</td>\n",
              "      <td>1997.0</td>\n",
              "      <td>49</td>\n",
              "      <td>M</td>\n",
              "      <td>writer</td>\n",
              "      <td>55105</td>\n",
              "    </tr>\n",
              "    <tr>\n",
              "      <th>22773</th>\n",
              "      <td>196</td>\n",
              "      <td>257</td>\n",
              "      <td>2</td>\n",
              "      <td>1997-12-04 16:06:17</td>\n",
              "      <td>Men in Black</td>\n",
              "      <td>1997-07-04</td>\n",
              "      <td>http://us.imdb.com/M/title-exact?Men+in+Black+...</td>\n",
              "      <td>1</td>\n",
              "      <td>1</td>\n",
              "      <td>0</td>\n",
              "      <td>0</td>\n",
              "      <td>1</td>\n",
              "      <td>0</td>\n",
              "      <td>0</td>\n",
              "      <td>0</td>\n",
              "      <td>0</td>\n",
              "      <td>0</td>\n",
              "      <td>0</td>\n",
              "      <td>0</td>\n",
              "      <td>0</td>\n",
              "      <td>0</td>\n",
              "      <td>1</td>\n",
              "      <td>0</td>\n",
              "      <td>0</td>\n",
              "      <td>0</td>\n",
              "      <td>1997.0</td>\n",
              "      <td>49</td>\n",
              "      <td>M</td>\n",
              "      <td>writer</td>\n",
              "      <td>55105</td>\n",
              "    </tr>\n",
              "    <tr>\n",
              "      <th>10017</th>\n",
              "      <td>196</td>\n",
              "      <td>111</td>\n",
              "      <td>4</td>\n",
              "      <td>1997-12-04 16:09:53</td>\n",
              "      <td>Truth About Cats &amp; Dogs, The</td>\n",
              "      <td>1996-04-26</td>\n",
              "      <td>http://us.imdb.com/M/title-exact?Truth%20About...</td>\n",
              "      <td>0</td>\n",
              "      <td>0</td>\n",
              "      <td>0</td>\n",
              "      <td>0</td>\n",
              "      <td>1</td>\n",
              "      <td>0</td>\n",
              "      <td>0</td>\n",
              "      <td>0</td>\n",
              "      <td>0</td>\n",
              "      <td>0</td>\n",
              "      <td>0</td>\n",
              "      <td>0</td>\n",
              "      <td>0</td>\n",
              "      <td>1</td>\n",
              "      <td>0</td>\n",
              "      <td>0</td>\n",
              "      <td>0</td>\n",
              "      <td>0</td>\n",
              "      <td>1996.0</td>\n",
              "      <td>49</td>\n",
              "      <td>M</td>\n",
              "      <td>writer</td>\n",
              "      <td>55105</td>\n",
              "    </tr>\n",
              "    <tr>\n",
              "      <th>10981</th>\n",
              "      <td>196</td>\n",
              "      <td>25</td>\n",
              "      <td>4</td>\n",
              "      <td>1997-12-04 16:12:35</td>\n",
              "      <td>Birdcage, The</td>\n",
              "      <td>1996-03-08</td>\n",
              "      <td>http://us.imdb.com/M/title-exact?Birdcage,%20T...</td>\n",
              "      <td>0</td>\n",
              "      <td>0</td>\n",
              "      <td>0</td>\n",
              "      <td>0</td>\n",
              "      <td>1</td>\n",
              "      <td>0</td>\n",
              "      <td>0</td>\n",
              "      <td>0</td>\n",
              "      <td>0</td>\n",
              "      <td>0</td>\n",
              "      <td>0</td>\n",
              "      <td>0</td>\n",
              "      <td>0</td>\n",
              "      <td>0</td>\n",
              "      <td>0</td>\n",
              "      <td>0</td>\n",
              "      <td>0</td>\n",
              "      <td>0</td>\n",
              "      <td>1996.0</td>\n",
              "      <td>49</td>\n",
              "      <td>M</td>\n",
              "      <td>writer</td>\n",
              "      <td>55105</td>\n",
              "    </tr>\n",
              "    <tr>\n",
              "      <th>35197</th>\n",
              "      <td>196</td>\n",
              "      <td>382</td>\n",
              "      <td>4</td>\n",
              "      <td>1997-12-04 16:10:43</td>\n",
              "      <td>Adventures of Priscilla, Queen of the Desert, The</td>\n",
              "      <td>1994-01-01</td>\n",
              "      <td>http://us.imdb.com/M/title-exact?Adventures%20...</td>\n",
              "      <td>0</td>\n",
              "      <td>0</td>\n",
              "      <td>0</td>\n",
              "      <td>0</td>\n",
              "      <td>1</td>\n",
              "      <td>0</td>\n",
              "      <td>0</td>\n",
              "      <td>1</td>\n",
              "      <td>0</td>\n",
              "      <td>0</td>\n",
              "      <td>0</td>\n",
              "      <td>0</td>\n",
              "      <td>0</td>\n",
              "      <td>0</td>\n",
              "      <td>0</td>\n",
              "      <td>0</td>\n",
              "      <td>0</td>\n",
              "      <td>0</td>\n",
              "      <td>1994.0</td>\n",
              "      <td>49</td>\n",
              "      <td>M</td>\n",
              "      <td>writer</td>\n",
              "      <td>55105</td>\n",
              "    </tr>\n",
              "  </tbody>\n",
              "</table>\n",
              "</div>"
            ],
            "text/plain": [
              "       user  movie_id  rating           timestamp  ... age gender occupation    zip\n",
              "0       196       242       3 1997-12-04 15:55:49  ...  49      M     writer  55105\n",
              "22773   196       257       2 1997-12-04 16:06:17  ...  49      M     writer  55105\n",
              "10017   196       111       4 1997-12-04 16:09:53  ...  49      M     writer  55105\n",
              "10981   196        25       4 1997-12-04 16:12:35  ...  49      M     writer  55105\n",
              "35197   196       382       4 1997-12-04 16:10:43  ...  49      M     writer  55105\n",
              "\n",
              "[5 rows x 30 columns]"
            ]
          },
          "metadata": {
            "tags": []
          },
          "execution_count": 244
        }
      ]
    },
    {
      "cell_type": "code",
      "metadata": {
        "deletable": false,
        "editable": false,
        "nbgrader": {
          "checksum": "91bb0a80db734d99b3617e84d0c5a9c8",
          "grade": true,
          "grade_id": "cell-d0b90709db5b9338",
          "locked": true,
          "points": 2,
          "schema_version": 1,
          "solution": false
        },
        "id": "aj9SlXiwDCg1"
      },
      "source": [
        "assert type(ratings) == pd.DataFrame\n",
        "assert ratings.shape == (100000, 30)"
      ],
      "execution_count": null,
      "outputs": []
    },
    {
      "cell_type": "markdown",
      "metadata": {
        "id": "rcVkkfIMDCg2"
      },
      "source": [
        "## Q4.3. Korcsoportonként hány értékelést adtak le? 10 évet veszünk egy korcsoportnak, tehát 10-19, 20-29 stb. Ábrázold oszlopdiagramon."
      ]
    },
    {
      "cell_type": "code",
      "metadata": {
        "deletable": false,
        "nbgrader": {
          "checksum": "a1d8e6269570eb72352d0742e6f68841",
          "grade": false,
          "grade_id": "cell-a5a8c50bbaffd17a",
          "locked": false,
          "schema_version": 1,
          "solution": true
        },
        "id": "4SXuSQEhDCg2"
      },
      "source": [
        "def by_age_group(ratings):\n",
        "    # YOUR CODE HERE\n",
        "    return ratings.rating.groupby((ratings.age//10)*10).count()"
      ],
      "execution_count": 246,
      "outputs": []
    },
    {
      "cell_type": "code",
      "metadata": {
        "deletable": false,
        "editable": false,
        "nbgrader": {
          "checksum": "f858a40259afc91033cd4d9897861607",
          "grade": true,
          "grade_id": "cell-348e64e87ba32c6d",
          "locked": true,
          "points": 1,
          "schema_version": 1,
          "solution": false
        },
        "id": "BqOvTgShDCg3"
      },
      "source": [
        "r = by_age_group(ratings)\n",
        "\n",
        "assert type(r) == pd.Series\n",
        "assert 20 in r"
      ],
      "execution_count": 247,
      "outputs": []
    },
    {
      "cell_type": "markdown",
      "metadata": {
        "id": "ehA9-auCDCg4"
      },
      "source": [
        "### Ábrázold."
      ]
    },
    {
      "cell_type": "code",
      "metadata": {
        "deletable": false,
        "nbgrader": {
          "checksum": "807f663652ebd596c99c577e1cc05344",
          "grade": true,
          "grade_id": "cell-1b2695f675b80d8f",
          "locked": false,
          "points": 1,
          "schema_version": 1,
          "solution": true
        },
        "id": "tVyjx20QDCg5",
        "colab": {
          "base_uri": "https://localhost:8080/",
          "height": 248
        },
        "outputId": "c7178f8a-475c-45dd-a8e8-856f7b2f9a5a"
      },
      "source": [
        "# YOUR CODE HERE\n",
        "r.plot(kind='bar')"
      ],
      "execution_count": 250,
      "outputs": [
        {
          "output_type": "execute_result",
          "data": {
            "text/plain": [
              "<matplotlib.axes._subplots.AxesSubplot at 0x7f38d06fb910>"
            ]
          },
          "metadata": {
            "tags": []
          },
          "execution_count": 250
        },
        {
          "output_type": "display_data",
          "data": {
            "image/png": "[encoded data removed]",
            "text/plain": [
              "<Figure size 1080x216 with 1 Axes>"
            ]
          },
          "metadata": {
            "tags": []
          }
        }
      ]
    },
    {
      "cell_type": "markdown",
      "metadata": {
        "id": "Lh9ICAT7DCg7"
      },
      "source": [
        "## Q4.4. A nap melyik órájában értékelnek a programozók, illetve a marketingesek? Ábrázold két tortadiagramon.\n",
        "\n",
        "Tipp:\n",
        "\n",
        "1. használd az értékelések táblából származó `timestamp` mezőt,\n",
        "1. használhatsz két külön cellát a megoldáshoz,\n",
        "1. gondold át hány szeletes lesz a tortadiagram.\n",
        "\n",
        "Készíts egy függvényt, ami egy adott szakma képviselőinek óránkénti értékelésszámát adja vissza."
      ]
    },
    {
      "cell_type": "code",
      "metadata": {
        "deletable": false,
        "nbgrader": {
          "checksum": "43919b2780a814d46a366590cbf6fa2a",
          "grade": false,
          "grade_id": "cell-defd70a60c72f32a",
          "locked": false,
          "schema_version": 1,
          "solution": true
        },
        "id": "Ugk7nWyqDCg7"
      },
      "source": [
        "def occupation_cnt_by_hour(ratings, occupation):\n",
        "    # YOUR CODE HERE\n",
        "    return ratings.rating[ratings.occupation == occupation].groupby(ratings.timestamp.dt.hour).count()"
      ],
      "execution_count": 253,
      "outputs": []
    },
    {
      "cell_type": "code",
      "metadata": {
        "deletable": false,
        "editable": false,
        "nbgrader": {
          "checksum": "633baebec1c9266bc316e359ccbcdd4e",
          "grade": true,
          "grade_id": "cell-aec840e200fcc70a",
          "locked": true,
          "points": 1,
          "schema_version": 1,
          "solution": false
        },
        "id": "K6c5RpUmDCg8"
      },
      "source": [
        "marketing = occupation_cnt_by_hour(ratings, \"marketing\")\n",
        "assert type(marketing) == pd.Series\n",
        "\n",
        "# 24 órás egy nap\n",
        "assert len(marketing) < 25"
      ],
      "execution_count": 254,
      "outputs": []
    },
    {
      "cell_type": "markdown",
      "metadata": {
        "id": "ZN0BGRk_DCg9"
      },
      "source": [
        "###  Ábrázold tortadiagramon a marketingesek és a programozók értékelési óráit.\n",
        "\n",
        "Először a marketingesek:"
      ]
    },
    {
      "cell_type": "code",
      "metadata": {
        "deletable": false,
        "nbgrader": {
          "checksum": "4f0b463b5cf3dddfb5d24e2d67d29d1c",
          "grade": true,
          "grade_id": "cell-624786d146b9ec08",
          "locked": false,
          "points": 1,
          "schema_version": 1,
          "solution": true
        },
        "id": "0XWmAjVFDCg-",
        "colab": {
          "base_uri": "https://localhost:8080/",
          "height": 592
        },
        "outputId": "cdb9cded-8057-4429-bb77-6645aa99cfe7"
      },
      "source": [
        "# YOUR CODE HERE\n",
        "marketing.plot(kind='pie', figsize=(10,10), autopct=\"%.0lf%%\")"
      ],
      "execution_count": 256,
      "outputs": [
        {
          "output_type": "execute_result",
          "data": {
            "text/plain": [
              "<matplotlib.axes._subplots.AxesSubplot at 0x7f38d0413b10>"
            ]
          },
          "metadata": {
            "tags": []
          },
          "execution_count": 256
        },
        {
          "output_type": "display_data",
          "data": {
            "image/png": "[encoded data removed]",
            "text/plain": [
              "<Figure size 720x720 with 1 Axes>"
            ]
          },
          "metadata": {
            "tags": []
          }
        }
      ]
    },
    {
      "cell_type": "markdown",
      "metadata": {
        "id": "aSoECnjADCg_"
      },
      "source": [
        "majd a programozók:"
      ]
    },
    {
      "cell_type": "code",
      "metadata": {
        "deletable": false,
        "editable": false,
        "nbgrader": {
          "checksum": "64d0039cced739f29ada9434a414f80d",
          "grade": false,
          "grade_id": "cell-5fee31c959a6e3fa",
          "locked": true,
          "schema_version": 1,
          "solution": false
        },
        "id": "M6r4T2MLDChA"
      },
      "source": [
        "programmer = occupation_cnt_by_hour(ratings, \"programmer\")"
      ],
      "execution_count": 258,
      "outputs": []
    },
    {
      "cell_type": "code",
      "metadata": {
        "deletable": false,
        "nbgrader": {
          "checksum": "e8ea2ec288ef2477b912735f95424727",
          "grade": true,
          "grade_id": "cell-624786d146b9ec09",
          "locked": false,
          "points": 0,
          "schema_version": 1,
          "solution": true
        },
        "id": "Mde5ZS0SDChB",
        "colab": {
          "base_uri": "https://localhost:8080/",
          "height": 592
        },
        "outputId": "c373ec7d-e13c-4f08-f69b-1075784de3cf"
      },
      "source": [
        "# YOUR CODE HERE\n",
        "programmer.plot(kind='pie', figsize=(10,10), autopct=\"%.0lf%%\")"
      ],
      "execution_count": 259,
      "outputs": [
        {
          "output_type": "execute_result",
          "data": {
            "text/plain": [
              "<matplotlib.axes._subplots.AxesSubplot at 0x7f38d05528d0>"
            ]
          },
          "metadata": {
            "tags": []
          },
          "execution_count": 259
        },
        {
          "output_type": "display_data",
          "data": {
            "image/png": "[encoded data removed]",
            "text/plain": [
              "<Figure size 720x720 with 1 Axes>"
            ]
          },
          "metadata": {
            "tags": []
          }
        }
      ]
    },
    {
      "cell_type": "markdown",
      "metadata": {
        "id": "oNWGs3QmDChC"
      },
      "source": [
        "## Q4.5. Készíts hisztogramot az értékelési kedvről! Hány user adott le N értékelést?\n",
        "\n",
        "Segítség:\n",
        "\n",
        "- Az adatból hiányoznak a 20 értékelésnél kevesebbet leadó felhasználók, ami a hisztogramról könnyen leolvasható, ha jól ábrázoltad."
      ]
    },
    {
      "cell_type": "code",
      "metadata": {
        "deletable": false,
        "nbgrader": {
          "checksum": "4dc9f2e6f53b563203552c5c1e269463",
          "grade": true,
          "grade_id": "cell-873bebda81a56f86",
          "locked": false,
          "points": 2,
          "schema_version": 1,
          "solution": true
        },
        "id": "Io9wdPCgDChC",
        "colab": {
          "base_uri": "https://localhost:8080/",
          "height": 262
        },
        "outputId": "c268d19f-aff3-4c26-a716-321e517bcca2"
      },
      "source": [
        "# YOUR CODE HERE\n",
        "ratings.hist('rating',bins=5)"
      ],
      "execution_count": 260,
      "outputs": [
        {
          "output_type": "execute_result",
          "data": {
            "text/plain": [
              "array([[<matplotlib.axes._subplots.AxesSubplot object at 0x7f38d07d9590>]],\n",
              "      dtype=object)"
            ]
          },
          "metadata": {
            "tags": []
          },
          "execution_count": 260
        },
        {
          "output_type": "display_data",
          "data": {
            "image/png": "[encoded data removed]",
            "text/plain": [
              "<Figure size 1080x216 with 1 Axes>"
            ]
          },
          "metadata": {
            "tags": []
          }
        }
      ]
    },
    {
      "cell_type": "markdown",
      "metadata": {
        "id": "Esi1SFIaDChD"
      },
      "source": [
        "## Q4.6. Milyen volt a nemek eloszlása a romantikus filmet, illetve az akciófilmeket értékelők között? Készíts két tortadiagramot!"
      ]
    },
    {
      "cell_type": "code",
      "metadata": {
        "deletable": false,
        "nbgrader": {
          "checksum": "1083b280ed030ce2e39a462f55c939dd",
          "grade": true,
          "grade_id": "cell-19dac56e5f81c7bb",
          "locked": false,
          "points": 1,
          "schema_version": 1,
          "solution": true
        },
        "id": "TMcda3MqDChD",
        "colab": {
          "base_uri": "https://localhost:8080/",
          "height": 592
        },
        "outputId": "8e3cebc8-2124-48e3-8aba-b0050464ab6a"
      },
      "source": [
        "# YOUR CODE HERE\n",
        "romance_rating = ratings.rating[ratings.romance == 1].groupby(ratings.gender).count()\n",
        "romance_rating.plot(kind = \"pie\", figsize=(10,10), autopct=\"%.0lf%%\")"
      ],
      "execution_count": 264,
      "outputs": [
        {
          "output_type": "execute_result",
          "data": {
            "text/plain": [
              "<matplotlib.axes._subplots.AxesSubplot at 0x7f38d02ba510>"
            ]
          },
          "metadata": {
            "tags": []
          },
          "execution_count": 264
        },
        {
          "output_type": "display_data",
          "data": {
            "image/png": "[encoded data removed]",
            "text/plain": [
              "<Figure size 720x720 with 1 Axes>"
            ]
          },
          "metadata": {
            "tags": []
          }
        }
      ]
    },
    {
      "cell_type": "code",
      "metadata": {
        "deletable": false,
        "nbgrader": {
          "checksum": "afb1e10b58b2faf9068adb6414927c86",
          "grade": true,
          "grade_id": "cell-e1a7f1085bbddd74",
          "locked": false,
          "points": 1,
          "schema_version": 1,
          "solution": true
        },
        "id": "nbj9cwujDChE",
        "colab": {
          "base_uri": "https://localhost:8080/",
          "height": 592
        },
        "outputId": "298683c6-98fa-47dd-e962-826033a05b8d"
      },
      "source": [
        "# YOUR CODE HERE\n",
        "action_rating = ratings.rating[ratings.action == 1].groupby(ratings.gender).count()\n",
        "action_rating.plot(kind = \"pie\", figsize=(10,10), autopct=\"%.0lf%%\")"
      ],
      "execution_count": 265,
      "outputs": [
        {
          "output_type": "execute_result",
          "data": {
            "text/plain": [
              "<matplotlib.axes._subplots.AxesSubplot at 0x7f38d01f1190>"
            ]
          },
          "metadata": {
            "tags": []
          },
          "execution_count": 265
        },
        {
          "output_type": "display_data",
          "data": {
            "image/png": "[encoded data removed]",
            "text/plain": [
              "<Figure size 720x720 with 1 Axes>"
            ]
          },
          "metadata": {
            "tags": []
          }
        }
      ]
    },
    {
      "cell_type": "markdown",
      "metadata": {
        "id": "HLtzRrJRDChF"
      },
      "source": [
        "## Q4.7. Jóval több férfi adott le értékelést. Hogy alakulnak ezek az arányok, ha normálunk az összes értékelésre jellemző nemek arányával?"
      ]
    },
    {
      "cell_type": "code",
      "metadata": {
        "deletable": false,
        "nbgrader": {
          "checksum": "8b4bc70991da0e4936641b6364a16ade",
          "grade": true,
          "grade_id": "cell-e2e0b2a84a665316",
          "locked": false,
          "points": 1,
          "schema_version": 1,
          "solution": true
        },
        "id": "BnECr3ZgDChF"
      },
      "source": [
        "# YOUR CODE HERE\n",
        "raise NotImplementedError()"
      ],
      "execution_count": null,
      "outputs": []
    },
    {
      "cell_type": "code",
      "metadata": {
        "deletable": false,
        "nbgrader": {
          "checksum": "ed75a235e5f992fcae0c213dbd728b84",
          "grade": true,
          "grade_id": "cell-f057a3e74b72e950",
          "locked": false,
          "points": 1,
          "schema_version": 1,
          "solution": true
        },
        "id": "SI9CQIr7DChH"
      },
      "source": [
        "# YOUR CODE HERE\n",
        "raise NotImplementedError()"
      ],
      "execution_count": null,
      "outputs": []
    },
    {
      "cell_type": "markdown",
      "metadata": {
        "id": "WEnZdZJbDChI"
      },
      "source": [
        "## Q4.8. A nap melyik órájában melyik szakma értékel legtöbbször és hányszor értékelnek?\n",
        "\n",
        "Példa válasz:\n",
        "\n",
        "* 0-1 óra között a mérnökök értékelnek legtöbbször, 2134-szer.\n",
        "* 1-2 óra között az oktatók (educator) értékelnek legtöbbször, 1879-szer.\n",
        "\n",
        "Táblázatos formában elég megválaszolni."
      ]
    },
    {
      "cell_type": "code",
      "metadata": {
        "deletable": false,
        "nbgrader": {
          "checksum": "a804d91f7bfd236ad862597d35e84164",
          "grade": true,
          "grade_id": "cell-6b047a791e3254e0",
          "locked": false,
          "points": 4,
          "schema_version": 1,
          "solution": true
        },
        "id": "easGUOhhDChJ",
        "colab": {
          "base_uri": "https://localhost:8080/"
        },
        "outputId": "70e3b6d7-c11b-4e99-f9ec-edb7e5e6a513"
      },
      "source": [
        "# YOUR CODE HERE\n",
        "ratings.rating.groupby([ratings.timestamp.dt.hour, ratings.occupation]).count()"
      ],
      "execution_count": 278,
      "outputs": [
        {
          "output_type": "execute_result",
          "data": {
            "text/plain": [
              "timestamp  occupation   \n",
              "0          administrator    519\n",
              "           artist            95\n",
              "           doctor             2\n",
              "           educator         288\n",
              "           engineer         586\n",
              "                           ... \n",
              "23         salesman          34\n",
              "           scientist         75\n",
              "           student          760\n",
              "           technician        54\n",
              "           writer           102\n",
              "Name: rating, Length: 418, dtype: int64"
            ]
          },
          "metadata": {
            "tags": []
          },
          "execution_count": 278
        }
      ]
    }
  ]
}